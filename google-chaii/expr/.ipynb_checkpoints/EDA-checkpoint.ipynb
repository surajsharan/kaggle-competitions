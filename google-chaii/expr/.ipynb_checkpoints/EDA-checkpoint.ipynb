{
 "cells": [
  {
   "cell_type": "code",
   "execution_count": 1,
   "id": "e79e6904-1ee5-4a34-ada6-b29bee9cba5f",
   "metadata": {},
   "outputs": [],
   "source": [
    "import pandas as pd\n",
    "import numpy as np\n",
    "from string import punctuation \n",
    "import re"
   ]
  },
  {
   "cell_type": "code",
   "execution_count": 64,
   "id": "b8b76092-1268-4f4f-b8b2-d5a414c8aaec",
   "metadata": {},
   "outputs": [
    {
     "name": "stderr",
     "output_type": "stream",
     "text": [
      "2021-10-12 11:59:51.059654: I tensorflow/stream_executor/platform/default/dso_loader.cc:53] Successfully opened dynamic library libcudart.so.11.0\n"
     ]
    }
   ],
   "source": [
    "import config\n",
    "from transformers import AutoTokenizer"
   ]
  },
  {
   "cell_type": "code",
   "execution_count": 65,
   "id": "0ec26cc7-5111-4ed3-aff0-8b6bc12cb40b",
   "metadata": {},
   "outputs": [],
   "source": [
    "data = pd.read_csv('input/train_folds.csv')"
   ]
  },
  {
   "cell_type": "code",
   "execution_count": 66,
   "id": "fd72dea0-2050-4426-82f0-43ba5bbb5a62",
   "metadata": {},
   "outputs": [
    {
     "data": {
      "text/html": [
       "<div>\n",
       "<style scoped>\n",
       "    .dataframe tbody tr th:only-of-type {\n",
       "        vertical-align: middle;\n",
       "    }\n",
       "\n",
       "    .dataframe tbody tr th {\n",
       "        vertical-align: top;\n",
       "    }\n",
       "\n",
       "    .dataframe thead th {\n",
       "        text-align: right;\n",
       "    }\n",
       "</style>\n",
       "<table border=\"1\" class=\"dataframe\">\n",
       "  <thead>\n",
       "    <tr style=\"text-align: right;\">\n",
       "      <th></th>\n",
       "      <th>id</th>\n",
       "      <th>context</th>\n",
       "      <th>question</th>\n",
       "      <th>answer_text</th>\n",
       "      <th>answer_start</th>\n",
       "      <th>language</th>\n",
       "      <th>kfold</th>\n",
       "      <th>answers</th>\n",
       "    </tr>\n",
       "  </thead>\n",
       "  <tbody>\n",
       "    <tr>\n",
       "      <th>7724</th>\n",
       "      <td>6611</td>\n",
       "      <td>विद्युत आवेश के परिवर्तन की समय दर के रूप में ...</td>\n",
       "      <td>इलेक्ट्रोस्टैटिक और चुंबकीय बल के योग के रूप क...</td>\n",
       "      <td>इलेक्ट्रोस्टैटिक बल</td>\n",
       "      <td>328</td>\n",
       "      <td>hindi</td>\n",
       "      <td>-1</td>\n",
       "      <td>{'answer_start': [328], 'text': ['इलेक्ट्रोस्ट...</td>\n",
       "    </tr>\n",
       "    <tr>\n",
       "      <th>7725</th>\n",
       "      <td>6612</td>\n",
       "      <td>उस आयतन के लिए प्रासंगिक क्रॉस-सेक्शनल क्षेत्र...</td>\n",
       "      <td>संरचनाओं में तनाव का कारण क्या बनता है?</td>\n",
       "      <td>तनाव टेंसर</td>\n",
       "      <td>343</td>\n",
       "      <td>hindi</td>\n",
       "      <td>-1</td>\n",
       "      <td>{'answer_start': [343], 'text': ['तनाव टेंसर']}</td>\n",
       "    </tr>\n",
       "    <tr>\n",
       "      <th>7726</th>\n",
       "      <td>6613</td>\n",
       "      <td>उस आयतन के लिए प्रासंगिक क्रॉस-सेक्शनल क्षेत्र...</td>\n",
       "      <td>किसी वस्तु के आयतन में क्रॉस सेक्शन क्षेत्र की...</td>\n",
       "      <td>दबाव की शर्तें</td>\n",
       "      <td>118</td>\n",
       "      <td>hindi</td>\n",
       "      <td>-1</td>\n",
       "      <td>{'answer_start': [118], 'text': ['दबाव की शर्त...</td>\n",
       "    </tr>\n",
       "    <tr>\n",
       "      <th>7727</th>\n",
       "      <td>6614</td>\n",
       "      <td>उस आयतन के लिए प्रासंगिक क्रॉस-सेक्शनल क्षेत्र...</td>\n",
       "      <td>सामान्य ताकतों से क्या जुड़ा है?</td>\n",
       "      <td>दबाव की शर्तें</td>\n",
       "      <td>118</td>\n",
       "      <td>hindi</td>\n",
       "      <td>-1</td>\n",
       "      <td>{'answer_start': [118], 'text': ['दबाव की शर्त...</td>\n",
       "    </tr>\n",
       "    <tr>\n",
       "      <th>7728</th>\n",
       "      <td>6615</td>\n",
       "      <td>उस आयतन के लिए प्रासंगिक क्रॉस-सेक्शनल क्षेत्र...</td>\n",
       "      <td>आयतन में क्षेत्र की गणना करते समय दबाव की क्या...</td>\n",
       "      <td>नियम-निष्ठता</td>\n",
       "      <td>101</td>\n",
       "      <td>hindi</td>\n",
       "      <td>-1</td>\n",
       "      <td>{'answer_start': [101], 'text': ['नियम-निष्ठता']}</td>\n",
       "    </tr>\n",
       "  </tbody>\n",
       "</table>\n",
       "</div>"
      ],
      "text/plain": [
       "        id                                            context  \\\n",
       "7724  6611  विद्युत आवेश के परिवर्तन की समय दर के रूप में ...   \n",
       "7725  6612  उस आयतन के लिए प्रासंगिक क्रॉस-सेक्शनल क्षेत्र...   \n",
       "7726  6613  उस आयतन के लिए प्रासंगिक क्रॉस-सेक्शनल क्षेत्र...   \n",
       "7727  6614  उस आयतन के लिए प्रासंगिक क्रॉस-सेक्शनल क्षेत्र...   \n",
       "7728  6615  उस आयतन के लिए प्रासंगिक क्रॉस-सेक्शनल क्षेत्र...   \n",
       "\n",
       "                                               question          answer_text  \\\n",
       "7724  इलेक्ट्रोस्टैटिक और चुंबकीय बल के योग के रूप क...  इलेक्ट्रोस्टैटिक बल   \n",
       "7725            संरचनाओं में तनाव का कारण क्या बनता है?           तनाव टेंसर   \n",
       "7726  किसी वस्तु के आयतन में क्रॉस सेक्शन क्षेत्र की...       दबाव की शर्तें   \n",
       "7727                    सामान्य ताकतों से क्या जुड़ा है?       दबाव की शर्तें   \n",
       "7728  आयतन में क्षेत्र की गणना करते समय दबाव की क्या...         नियम-निष्ठता   \n",
       "\n",
       "      answer_start language  kfold  \\\n",
       "7724           328    hindi     -1   \n",
       "7725           343    hindi     -1   \n",
       "7726           118    hindi     -1   \n",
       "7727           118    hindi     -1   \n",
       "7728           101    hindi     -1   \n",
       "\n",
       "                                                answers  \n",
       "7724  {'answer_start': [328], 'text': ['इलेक्ट्रोस्ट...  \n",
       "7725    {'answer_start': [343], 'text': ['तनाव टेंसर']}  \n",
       "7726  {'answer_start': [118], 'text': ['दबाव की शर्त...  \n",
       "7727  {'answer_start': [118], 'text': ['दबाव की शर्त...  \n",
       "7728  {'answer_start': [101], 'text': ['नियम-निष्ठता']}  "
      ]
     },
     "execution_count": 66,
     "metadata": {},
     "output_type": "execute_result"
    }
   ],
   "source": [
    "data.tail()"
   ]
  },
  {
   "cell_type": "code",
   "execution_count": 3,
   "id": "81824027-b788-4864-bfd3-c554f6a676d6",
   "metadata": {},
   "outputs": [],
   "source": [
    "# data = data[data['kfold']!=-1]"
   ]
  },
  {
   "cell_type": "code",
   "execution_count": 67,
   "id": "a2ce6502-b0b8-41b4-af87-78cbb7bdd7fd",
   "metadata": {},
   "outputs": [],
   "source": [
    "data['len_question'] = data['question'].apply(lambda x: len(x))\n",
    "data['len_answer'] = data['answer_text'].apply(lambda x: len(x.strip()))\n",
    "data['len_context'] = data['context'].apply(lambda x: len(x))"
   ]
  },
  {
   "cell_type": "code",
   "execution_count": 68,
   "id": "b49e261a-b6b3-43c9-b549-5229459d79ff",
   "metadata": {},
   "outputs": [],
   "source": [
    "data['answer_end'] = data['answer_start']+data['len_answer'] \n"
   ]
  },
  {
   "cell_type": "code",
   "execution_count": 69,
   "id": "f3682282-1d8a-47d7-a1ed-29dd1f9b351c",
   "metadata": {},
   "outputs": [],
   "source": [
    "data['check_ans'] = data.apply(lambda x: x['context'][x['answer_start']:x['answer_end']], axis=1)"
   ]
  },
  {
   "cell_type": "code",
   "execution_count": 70,
   "id": "0459ec59-8920-4352-9350-7e52687d25a0",
   "metadata": {},
   "outputs": [],
   "source": [
    "data['checker'] = (data['answer_text']==data['check_ans'])"
   ]
  },
  {
   "cell_type": "code",
   "execution_count": 71,
   "id": "e5a7554f-76e3-487d-a8ad-0755072984ba",
   "metadata": {},
   "outputs": [
    {
     "data": {
      "text/plain": [
       "True     7727\n",
       "False       2\n",
       "Name: checker, dtype: int64"
      ]
     },
     "execution_count": 71,
     "metadata": {},
     "output_type": "execute_result"
    }
   ],
   "source": [
    "data['checker'].value_counts()"
   ]
  },
  {
   "cell_type": "code",
   "execution_count": 72,
   "id": "c156f443-777d-4ef4-94f7-cbe4fd46162b",
   "metadata": {},
   "outputs": [
    {
     "data": {
      "text/plain": [
       "array([['பிரகதீசுவரர் கோயில் ', 'பிரகதீசுவரர் கோயில்'],\n",
       "       [\"काले सरसों (ब्रैसिका निग्रा, भूरे रंग के भारतीय सरसों (ब्रैसिका जुनसिया) और सफेद सरसों (''ब्रैसिका हिर्टा) से\",\n",
       "        'काले सरसों (ब्रैसिका निग्रा, भूरे रंग के भारतीय सरसों (ब्रैसिका जुनसिया) और सफेद सरसों (\" ब्रैसिका हिर्टा) से']],\n",
       "      dtype=object)"
      ]
     },
     "execution_count": 72,
     "metadata": {},
     "output_type": "execute_result"
    }
   ],
   "source": [
    "data[data.checker==False][['answer_text','check_ans']].values"
   ]
  },
  {
   "cell_type": "code",
   "execution_count": 73,
   "id": "5b4f3cc9-bb15-4251-b018-063518318d97",
   "metadata": {},
   "outputs": [
    {
     "data": {
      "text/html": [
       "<div>\n",
       "<style scoped>\n",
       "    .dataframe tbody tr th:only-of-type {\n",
       "        vertical-align: middle;\n",
       "    }\n",
       "\n",
       "    .dataframe tbody tr th {\n",
       "        vertical-align: top;\n",
       "    }\n",
       "\n",
       "    .dataframe thead th {\n",
       "        text-align: right;\n",
       "    }\n",
       "</style>\n",
       "<table border=\"1\" class=\"dataframe\">\n",
       "  <thead>\n",
       "    <tr style=\"text-align: right;\">\n",
       "      <th></th>\n",
       "      <th>id</th>\n",
       "      <th>context</th>\n",
       "      <th>question</th>\n",
       "      <th>answer_text</th>\n",
       "      <th>answer_start</th>\n",
       "      <th>language</th>\n",
       "      <th>kfold</th>\n",
       "      <th>answers</th>\n",
       "      <th>len_question</th>\n",
       "      <th>len_answer</th>\n",
       "      <th>len_context</th>\n",
       "      <th>answer_end</th>\n",
       "      <th>check_ans</th>\n",
       "      <th>checker</th>\n",
       "    </tr>\n",
       "  </thead>\n",
       "  <tbody>\n",
       "    <tr>\n",
       "      <th>0</th>\n",
       "      <td>903deec17</td>\n",
       "      <td>ஒரு சாதாரண வளர்ந்த மனிதனுடைய எலும்புக்கூடு பின...</td>\n",
       "      <td>மனித உடலில் எத்தனை எலும்புகள் உள்ளன?</td>\n",
       "      <td>206</td>\n",
       "      <td>53</td>\n",
       "      <td>tamil</td>\n",
       "      <td>3</td>\n",
       "      <td>{'answer_start': [53], 'text': ['206']}</td>\n",
       "      <td>36</td>\n",
       "      <td>3</td>\n",
       "      <td>4340</td>\n",
       "      <td>56</td>\n",
       "      <td>206</td>\n",
       "      <td>True</td>\n",
       "    </tr>\n",
       "    <tr>\n",
       "      <th>1</th>\n",
       "      <td>d9841668c</td>\n",
       "      <td>காளிதாசன் (தேவநாகரி: कालिदास) சமஸ்கிருத இலக்கி...</td>\n",
       "      <td>காளிதாசன் எங்கு பிறந்தார்?</td>\n",
       "      <td>காசுமீரில்</td>\n",
       "      <td>2358</td>\n",
       "      <td>tamil</td>\n",
       "      <td>0</td>\n",
       "      <td>{'answer_start': [2358], 'text': ['காசுமீரில்']}</td>\n",
       "      <td>26</td>\n",
       "      <td>10</td>\n",
       "      <td>7647</td>\n",
       "      <td>2368</td>\n",
       "      <td>காசுமீரில்</td>\n",
       "      <td>True</td>\n",
       "    </tr>\n",
       "    <tr>\n",
       "      <th>2</th>\n",
       "      <td>29d154b56</td>\n",
       "      <td>சர் அலெக்ஸாண்டர் ஃபிளெமிங் (Sir Alexander Flem...</td>\n",
       "      <td>பென்சிலின் கண்டுபிடித்தவர் யார்?</td>\n",
       "      <td>சர் அலெக்ஸாண்டர் ஃபிளெமிங்</td>\n",
       "      <td>0</td>\n",
       "      <td>tamil</td>\n",
       "      <td>4</td>\n",
       "      <td>{'answer_start': [0], 'text': ['சர் அலெக்ஸாண்ட...</td>\n",
       "      <td>32</td>\n",
       "      <td>26</td>\n",
       "      <td>4970</td>\n",
       "      <td>26</td>\n",
       "      <td>சர் அலெக்ஸாண்டர் ஃபிளெமிங்</td>\n",
       "      <td>True</td>\n",
       "    </tr>\n",
       "    <tr>\n",
       "      <th>3</th>\n",
       "      <td>41660850a</td>\n",
       "      <td>குழந்தையின் அழுகையை  நிறுத்தவும், தூங்க வைக்கவ...</td>\n",
       "      <td>தமிழ்நாட்டில் குழந்தைகளை தூங்க வைக்க பாடும் பா...</td>\n",
       "      <td>தாலாட்டு</td>\n",
       "      <td>68</td>\n",
       "      <td>tamil</td>\n",
       "      <td>4</td>\n",
       "      <td>{'answer_start': [68], 'text': ['தாலாட்டு']}</td>\n",
       "      <td>75</td>\n",
       "      <td>8</td>\n",
       "      <td>8493</td>\n",
       "      <td>76</td>\n",
       "      <td>தாலாட்டு</td>\n",
       "      <td>True</td>\n",
       "    </tr>\n",
       "    <tr>\n",
       "      <th>4</th>\n",
       "      <td>b29c82c22</td>\n",
       "      <td>சூரியக் குடும்பம் \\nசூரியக் குடும்பம் (Solar S...</td>\n",
       "      <td>பூமியின் அருகில் உள்ள விண்மீன் எது?</td>\n",
       "      <td>சூரியனும்</td>\n",
       "      <td>585</td>\n",
       "      <td>tamil</td>\n",
       "      <td>4</td>\n",
       "      <td>{'answer_start': [585], 'text': ['சூரியனும்']}</td>\n",
       "      <td>35</td>\n",
       "      <td>9</td>\n",
       "      <td>9954</td>\n",
       "      <td>594</td>\n",
       "      <td>சூரியனும்</td>\n",
       "      <td>True</td>\n",
       "    </tr>\n",
       "  </tbody>\n",
       "</table>\n",
       "</div>"
      ],
      "text/plain": [
       "          id                                            context  \\\n",
       "0  903deec17  ஒரு சாதாரண வளர்ந்த மனிதனுடைய எலும்புக்கூடு பின...   \n",
       "1  d9841668c  காளிதாசன் (தேவநாகரி: कालिदास) சமஸ்கிருத இலக்கி...   \n",
       "2  29d154b56  சர் அலெக்ஸாண்டர் ஃபிளெமிங் (Sir Alexander Flem...   \n",
       "3  41660850a  குழந்தையின் அழுகையை  நிறுத்தவும், தூங்க வைக்கவ...   \n",
       "4  b29c82c22  சூரியக் குடும்பம் \\nசூரியக் குடும்பம் (Solar S...   \n",
       "\n",
       "                                            question  \\\n",
       "0               மனித உடலில் எத்தனை எலும்புகள் உள்ளன?   \n",
       "1                         காளிதாசன் எங்கு பிறந்தார்?   \n",
       "2                   பென்சிலின் கண்டுபிடித்தவர் யார்?   \n",
       "3  தமிழ்நாட்டில் குழந்தைகளை தூங்க வைக்க பாடும் பா...   \n",
       "4                பூமியின் அருகில் உள்ள விண்மீன் எது?   \n",
       "\n",
       "                  answer_text  answer_start language  kfold  \\\n",
       "0                         206            53    tamil      3   \n",
       "1                  காசுமீரில்          2358    tamil      0   \n",
       "2  சர் அலெக்ஸாண்டர் ஃபிளெமிங்             0    tamil      4   \n",
       "3                    தாலாட்டு            68    tamil      4   \n",
       "4                   சூரியனும்           585    tamil      4   \n",
       "\n",
       "                                             answers  len_question  \\\n",
       "0            {'answer_start': [53], 'text': ['206']}            36   \n",
       "1   {'answer_start': [2358], 'text': ['காசுமீரில்']}            26   \n",
       "2  {'answer_start': [0], 'text': ['சர் அலெக்ஸாண்ட...            32   \n",
       "3       {'answer_start': [68], 'text': ['தாலாட்டு']}            75   \n",
       "4     {'answer_start': [585], 'text': ['சூரியனும்']}            35   \n",
       "\n",
       "   len_answer  len_context  answer_end                   check_ans  checker  \n",
       "0           3         4340          56                         206     True  \n",
       "1          10         7647        2368                  காசுமீரில்     True  \n",
       "2          26         4970          26  சர் அலெக்ஸாண்டர் ஃபிளெமிங்     True  \n",
       "3           8         8493          76                    தாலாட்டு     True  \n",
       "4           9         9954         594                   சூரியனும்     True  "
      ]
     },
     "execution_count": 73,
     "metadata": {},
     "output_type": "execute_result"
    }
   ],
   "source": [
    "data.head()"
   ]
  },
  {
   "cell_type": "code",
   "execution_count": 74,
   "id": "870f1aad-bdc2-4c7a-9e07-e1e82552b298",
   "metadata": {},
   "outputs": [
    {
     "data": {
      "text/plain": [
       "(307, 8)"
      ]
     },
     "execution_count": 74,
     "metadata": {},
     "output_type": "execute_result"
    }
   ],
   "source": [
    "data['len_question'].max(),  data['len_question'].min()"
   ]
  },
  {
   "cell_type": "code",
   "execution_count": 75,
   "id": "8e993d2d-efab-4fa6-ae52-feee43834d0f",
   "metadata": {},
   "outputs": [
    {
     "data": {
      "text/plain": [
       "(395, 1)"
      ]
     },
     "execution_count": 75,
     "metadata": {},
     "output_type": "execute_result"
    }
   ],
   "source": [
    "data['len_answer'].max(),  data['len_answer'].min()"
   ]
  },
  {
   "cell_type": "code",
   "execution_count": 76,
   "id": "70d4eaa3-06f5-48bd-bb6b-fcc109b8bbd7",
   "metadata": {},
   "outputs": [
    {
     "data": {
      "text/plain": [
       "(49815, 51)"
      ]
     },
     "execution_count": 76,
     "metadata": {},
     "output_type": "execute_result"
    }
   ],
   "source": [
    "data['len_context'].max(), data['len_context'].min(), "
   ]
  },
  {
   "cell_type": "code",
   "execution_count": 79,
   "id": "4ffa0a67-9d30-4fea-89c5-633fa2f7a4e9",
   "metadata": {},
   "outputs": [
    {
     "data": {
      "text/plain": [
       "'ऍन॰जी॰सी॰ ६९३४ (NGC 6934) - यह एक गोल तारागुच्छ है।'"
      ]
     },
     "execution_count": 79,
     "metadata": {},
     "output_type": "execute_result"
    }
   ],
   "source": [
    "data[data['len_context']==data['len_context'].min()]['context'].values[0]"
   ]
  },
  {
   "cell_type": "code",
   "execution_count": 80,
   "id": "f8dcee9b-2bef-404a-95a6-d6abc92eb465",
   "metadata": {},
   "outputs": [
    {
     "data": {
      "text/html": [
       "<div>\n",
       "<style scoped>\n",
       "    .dataframe tbody tr th:only-of-type {\n",
       "        vertical-align: middle;\n",
       "    }\n",
       "\n",
       "    .dataframe tbody tr th {\n",
       "        vertical-align: top;\n",
       "    }\n",
       "\n",
       "    .dataframe thead th {\n",
       "        text-align: right;\n",
       "    }\n",
       "</style>\n",
       "<table border=\"1\" class=\"dataframe\">\n",
       "  <thead>\n",
       "    <tr style=\"text-align: right;\">\n",
       "      <th></th>\n",
       "      <th>id</th>\n",
       "      <th>context</th>\n",
       "      <th>question</th>\n",
       "      <th>answer_text</th>\n",
       "      <th>answer_start</th>\n",
       "      <th>language</th>\n",
       "      <th>kfold</th>\n",
       "      <th>answers</th>\n",
       "      <th>len_question</th>\n",
       "      <th>len_answer</th>\n",
       "      <th>len_context</th>\n",
       "      <th>answer_end</th>\n",
       "      <th>check_ans</th>\n",
       "      <th>checker</th>\n",
       "    </tr>\n",
       "  </thead>\n",
       "  <tbody>\n",
       "    <tr>\n",
       "      <th>2972</th>\n",
       "      <td>1859</td>\n",
       "      <td>ऍन॰जी॰सी॰ ६९३४ (NGC 6934) - यह एक गोल तारागुच्...</td>\n",
       "      <td>एनजीसी 6934 क्या है?</td>\n",
       "      <td>एक गोल तारागुच्छ</td>\n",
       "      <td>31</td>\n",
       "      <td>hindi</td>\n",
       "      <td>-1</td>\n",
       "      <td>{'answer_start': [31], 'text': ['एक गोल तारागु...</td>\n",
       "      <td>20</td>\n",
       "      <td>16</td>\n",
       "      <td>51</td>\n",
       "      <td>47</td>\n",
       "      <td>एक गोल तारागुच्छ</td>\n",
       "      <td>True</td>\n",
       "    </tr>\n",
       "    <tr>\n",
       "      <th>5926</th>\n",
       "      <td>4813</td>\n",
       "      <td>डैनियल क्रैग (२ मार्च १९६८) एक अंग्रेज़ अभिनेत...</td>\n",
       "      <td>अंग्रेजी अभिनेता का जन्म कब हुआ था?\\n</td>\n",
       "      <td>२ मार्च १९६८</td>\n",
       "      <td>14</td>\n",
       "      <td>hindi</td>\n",
       "      <td>-1</td>\n",
       "      <td>{'answer_start': [14], 'text': ['२ मार्च १९६८']}</td>\n",
       "      <td>37</td>\n",
       "      <td>12</td>\n",
       "      <td>51</td>\n",
       "      <td>26</td>\n",
       "      <td>२ मार्च १९६८</td>\n",
       "      <td>True</td>\n",
       "    </tr>\n",
       "  </tbody>\n",
       "</table>\n",
       "</div>"
      ],
      "text/plain": [
       "        id                                            context  \\\n",
       "2972  1859  ऍन॰जी॰सी॰ ६९३४ (NGC 6934) - यह एक गोल तारागुच्...   \n",
       "5926  4813  डैनियल क्रैग (२ मार्च १९६८) एक अंग्रेज़ अभिनेत...   \n",
       "\n",
       "                                   question       answer_text  answer_start  \\\n",
       "2972                   एनजीसी 6934 क्या है?  एक गोल तारागुच्छ            31   \n",
       "5926  अंग्रेजी अभिनेता का जन्म कब हुआ था?\\n      २ मार्च १९६८            14   \n",
       "\n",
       "     language  kfold                                            answers  \\\n",
       "2972    hindi     -1  {'answer_start': [31], 'text': ['एक गोल तारागु...   \n",
       "5926    hindi     -1   {'answer_start': [14], 'text': ['२ मार्च १९६८']}   \n",
       "\n",
       "      len_question  len_answer  len_context  answer_end         check_ans  \\\n",
       "2972            20          16           51          47  एक गोल तारागुच्छ   \n",
       "5926            37          12           51          26      २ मार्च १९६८   \n",
       "\n",
       "      checker  \n",
       "2972     True  \n",
       "5926     True  "
      ]
     },
     "execution_count": 80,
     "metadata": {},
     "output_type": "execute_result"
    }
   ],
   "source": [
    "data[data['len_context']==data['len_context'].min()]"
   ]
  },
  {
   "cell_type": "code",
   "execution_count": 107,
   "id": "5657a491-b43e-4638-a097-7cc72b82de90",
   "metadata": {},
   "outputs": [
    {
     "data": {
      "text/html": [
       "<div>\n",
       "<style scoped>\n",
       "    .dataframe tbody tr th:only-of-type {\n",
       "        vertical-align: middle;\n",
       "    }\n",
       "\n",
       "    .dataframe tbody tr th {\n",
       "        vertical-align: top;\n",
       "    }\n",
       "\n",
       "    .dataframe thead th {\n",
       "        text-align: right;\n",
       "    }\n",
       "</style>\n",
       "<table border=\"1\" class=\"dataframe\">\n",
       "  <thead>\n",
       "    <tr style=\"text-align: right;\">\n",
       "      <th></th>\n",
       "      <th>id</th>\n",
       "      <th>context</th>\n",
       "      <th>question</th>\n",
       "      <th>answer_text</th>\n",
       "      <th>answer_start</th>\n",
       "      <th>language</th>\n",
       "      <th>kfold</th>\n",
       "      <th>answers</th>\n",
       "      <th>len_question</th>\n",
       "      <th>len_answer</th>\n",
       "      <th>len_context</th>\n",
       "      <th>answer_end</th>\n",
       "      <th>before_answer</th>\n",
       "      <th>new_start_positon</th>\n",
       "      <th>after_answer</th>\n",
       "      <th>new_end_positon</th>\n",
       "      <th>new_context</th>\n",
       "    </tr>\n",
       "  </thead>\n",
       "  <tbody>\n",
       "    <tr>\n",
       "      <th>87</th>\n",
       "      <td>f64641ba1</td>\n",
       "      <td>யானை பாலூட்டி வகையைச் சேர்ந்த ஒரு தாவர உண்ணி (...</td>\n",
       "      <td>ஆண் யானை சராசரி எத்தனை மீட்டர் உயரம் இருக்கும்</td>\n",
       "      <td>3</td>\n",
       "      <td>2284</td>\n",
       "      <td>tamil</td>\n",
       "      <td>2</td>\n",
       "      <td>{'answer_start': [2284], 'text': ['3']}</td>\n",
       "      <td>46</td>\n",
       "      <td>1</td>\n",
       "      <td>12242</td>\n",
       "      <td>2285</td>\n",
       "      <td>யானை பாலூட்டி வகையைச் சேர்ந்த ஒரு தாவர உண்ணி (...</td>\n",
       "      <td>2284</td>\n",
       "      <td>மீட்டர் உயரமும் 6000 கிலோகிராம் எடையும் கொண்டவ...</td>\n",
       "      <td>2285</td>\n",
       "      <td>யானை பாலூட்டி வகையைச் சேர்ந்த ஒரு தாவர உண்ணி (...</td>\n",
       "    </tr>\n",
       "    <tr>\n",
       "      <th>152</th>\n",
       "      <td>6b4c9d95e</td>\n",
       "      <td>ஒரு சாதாரண வளர்ந்த மனிதனுடைய எலும்புக்கூடு பின...</td>\n",
       "      <td>மனிதனின் காலில் எத்தனை எலும்புகள் உள்ளன?</td>\n",
       "      <td>8</td>\n",
       "      <td>106</td>\n",
       "      <td>tamil</td>\n",
       "      <td>0</td>\n",
       "      <td>{'answer_start': [106], 'text': ['8']}</td>\n",
       "      <td>40</td>\n",
       "      <td>1</td>\n",
       "      <td>4246</td>\n",
       "      <td>107</td>\n",
       "      <td>ஒரு சாதாரண வளர்ந்த மனிதனுடைய எலும்புக்கூடு பின...</td>\n",
       "      <td>107</td>\n",
       "      <td>) எண்ணிக்கையான எலும்புகளைக் கொண்டிருக்கும். இந...</td>\n",
       "      <td>108</td>\n",
       "      <td>ஒரு சாதாரண வளர்ந்த மனிதனுடைய எலும்புக்கூடு பின...</td>\n",
       "    </tr>\n",
       "    <tr>\n",
       "      <th>241</th>\n",
       "      <td>f7bd94bb9</td>\n",
       "      <td>கணிதத்தில் பெருக்கல் (Multiplication) என்பது ஒ...</td>\n",
       "      <td>கணிதத்தில் பெருக்குதல் சின்னம் எது?</td>\n",
       "      <td>x</td>\n",
       "      <td>1625</td>\n",
       "      <td>tamil</td>\n",
       "      <td>1</td>\n",
       "      <td>{'answer_start': [1625], 'text': ['x']}</td>\n",
       "      <td>35</td>\n",
       "      <td>1</td>\n",
       "      <td>11827</td>\n",
       "      <td>1626</td>\n",
       "      <td>கணிதத்தில் பெருக்கல் (Multiplication) என்பது ஒ...</td>\n",
       "      <td>1570</td>\n",
       "      <td>4 =12; 12 ஐ 3 ஆல் வகுக்க 4 உம், 4 ஆல் வகுக்க 3...</td>\n",
       "      <td>1571</td>\n",
       "      <td>கணிதத்தில் பெருக்கல் (Multiplication) என்பது ஒ...</td>\n",
       "    </tr>\n",
       "    <tr>\n",
       "      <th>299</th>\n",
       "      <td>20aac3ea4</td>\n",
       "      <td>Part of a series onChristianity\\nJesusChrist\\n...</td>\n",
       "      <td>கிறிஸ்தவ மதத்தில் எத்தனை குழுக்கள் உள்ளன?</td>\n",
       "      <td>3</td>\n",
       "      <td>1553</td>\n",
       "      <td>tamil</td>\n",
       "      <td>1</td>\n",
       "      <td>{'answer_start': [1553], 'text': ['3']}</td>\n",
       "      <td>41</td>\n",
       "      <td>1</td>\n",
       "      <td>15799</td>\n",
       "      <td>1554</td>\n",
       "      <td>Part of a series onChristianity JesusChrist Na...</td>\n",
       "      <td>1480</td>\n",
       "      <td>3.3%) உலகின் பெரிய சமயமாகக் காணப்படுகிறது. கிற...</td>\n",
       "      <td>1481</td>\n",
       "      <td>Part of a series onChristianity JesusChrist Na...</td>\n",
       "    </tr>\n",
       "    <tr>\n",
       "      <th>369</th>\n",
       "      <td>9d274ae3c</td>\n",
       "      <td>फ्लोरीन एक रासायनिक तत्व है। यह आवर्त सारणी (p...</td>\n",
       "      <td>फ्लोरीन की परमाणु संख्या क्या है?</td>\n",
       "      <td>9</td>\n",
       "      <td>166</td>\n",
       "      <td>hindi</td>\n",
       "      <td>2</td>\n",
       "      <td>{'answer_start': [166], 'text': ['9']}</td>\n",
       "      <td>33</td>\n",
       "      <td>1</td>\n",
       "      <td>2270</td>\n",
       "      <td>167</td>\n",
       "      <td>फ्लोरीन एक रासायनिक तत्व है। यह आवर्त सारणी (p...</td>\n",
       "      <td>167</td>\n",
       "      <td>) प्राप्त है और तीन रेडियोधर्मिता समस्थानिक (भ...</td>\n",
       "      <td>168</td>\n",
       "      <td>फ्लोरीन एक रासायनिक तत्व है। यह आवर्त सारणी (p...</td>\n",
       "    </tr>\n",
       "    <tr>\n",
       "      <th>553</th>\n",
       "      <td>c63870d02</td>\n",
       "      <td>पृथ्वी पर पाए जाने वाले तत्वों में कार्बन या प...</td>\n",
       "      <td>कार्बन का प्रतीक क्या है?</td>\n",
       "      <td>C</td>\n",
       "      <td>120</td>\n",
       "      <td>hindi</td>\n",
       "      <td>2</td>\n",
       "      <td>{'answer_start': [120], 'text': ['C']}</td>\n",
       "      <td>25</td>\n",
       "      <td>1</td>\n",
       "      <td>3173</td>\n",
       "      <td>121</td>\n",
       "      <td>पृथ्वी पर पाए जाने वाले तत्वों में कार्बन या प...</td>\n",
       "      <td>120</td>\n",
       "      <td>तथा परमाणु संख्या ६, मात्रा संख्या १२ एवं परमा...</td>\n",
       "      <td>121</td>\n",
       "      <td>पृथ्वी पर पाए जाने वाले तत्वों में कार्बन या प...</td>\n",
       "    </tr>\n",
       "  </tbody>\n",
       "</table>\n",
       "</div>"
      ],
      "text/plain": [
       "            id                                            context  \\\n",
       "87   f64641ba1  யானை பாலூட்டி வகையைச் சேர்ந்த ஒரு தாவர உண்ணி (...   \n",
       "152  6b4c9d95e  ஒரு சாதாரண வளர்ந்த மனிதனுடைய எலும்புக்கூடு பின...   \n",
       "241  f7bd94bb9  கணிதத்தில் பெருக்கல் (Multiplication) என்பது ஒ...   \n",
       "299  20aac3ea4  Part of a series onChristianity\\nJesusChrist\\n...   \n",
       "369  9d274ae3c  फ्लोरीन एक रासायनिक तत्व है। यह आवर्त सारणी (p...   \n",
       "553  c63870d02  पृथ्वी पर पाए जाने वाले तत्वों में कार्बन या प...   \n",
       "\n",
       "                                           question answer_text  answer_start  \\\n",
       "87   ஆண் யானை சராசரி எத்தனை மீட்டர் உயரம் இருக்கும்           3          2284   \n",
       "152        மனிதனின் காலில் எத்தனை எலும்புகள் உள்ளன?           8           106   \n",
       "241             கணிதத்தில் பெருக்குதல் சின்னம் எது?           x          1625   \n",
       "299       கிறிஸ்தவ மதத்தில் எத்தனை குழுக்கள் உள்ளன?           3          1553   \n",
       "369               फ्लोरीन की परमाणु संख्या क्या है?           9           166   \n",
       "553                       कार्बन का प्रतीक क्या है?           C           120   \n",
       "\n",
       "    language  kfold                                  answers  len_question  \\\n",
       "87     tamil      2  {'answer_start': [2284], 'text': ['3']}            46   \n",
       "152    tamil      0   {'answer_start': [106], 'text': ['8']}            40   \n",
       "241    tamil      1  {'answer_start': [1625], 'text': ['x']}            35   \n",
       "299    tamil      1  {'answer_start': [1553], 'text': ['3']}            41   \n",
       "369    hindi      2   {'answer_start': [166], 'text': ['9']}            33   \n",
       "553    hindi      2   {'answer_start': [120], 'text': ['C']}            25   \n",
       "\n",
       "     len_answer  len_context  answer_end  \\\n",
       "87            1        12242        2285   \n",
       "152           1         4246         107   \n",
       "241           1        11827        1626   \n",
       "299           1        15799        1554   \n",
       "369           1         2270         167   \n",
       "553           1         3173         121   \n",
       "\n",
       "                                         before_answer  new_start_positon  \\\n",
       "87   யானை பாலூட்டி வகையைச் சேர்ந்த ஒரு தாவர உண்ணி (...               2284   \n",
       "152  ஒரு சாதாரண வளர்ந்த மனிதனுடைய எலும்புக்கூடு பின...                107   \n",
       "241  கணிதத்தில் பெருக்கல் (Multiplication) என்பது ஒ...               1570   \n",
       "299  Part of a series onChristianity JesusChrist Na...               1480   \n",
       "369  फ्लोरीन एक रासायनिक तत्व है। यह आवर्त सारणी (p...                167   \n",
       "553  पृथ्वी पर पाए जाने वाले तत्वों में कार्बन या प...                120   \n",
       "\n",
       "                                          after_answer  new_end_positon  \\\n",
       "87   மீட்டர் உயரமும் 6000 கிலோகிராம் எடையும் கொண்டவ...             2285   \n",
       "152  ) எண்ணிக்கையான எலும்புகளைக் கொண்டிருக்கும். இந...              108   \n",
       "241  4 =12; 12 ஐ 3 ஆல் வகுக்க 4 உம், 4 ஆல் வகுக்க 3...             1571   \n",
       "299  3.3%) உலகின் பெரிய சமயமாகக் காணப்படுகிறது. கிற...             1481   \n",
       "369  ) प्राप्त है और तीन रेडियोधर्मिता समस्थानिक (भ...              168   \n",
       "553  तथा परमाणु संख्या ६, मात्रा संख्या १२ एवं परमा...              121   \n",
       "\n",
       "                                           new_context  \n",
       "87   யானை பாலூட்டி வகையைச் சேர்ந்த ஒரு தாவர உண்ணி (...  \n",
       "152  ஒரு சாதாரண வளர்ந்த மனிதனுடைய எலும்புக்கூடு பின...  \n",
       "241  கணிதத்தில் பெருக்கல் (Multiplication) என்பது ஒ...  \n",
       "299  Part of a series onChristianity JesusChrist Na...  \n",
       "369  फ्लोरीन एक रासायनिक तत्व है। यह आवर्त सारणी (p...  \n",
       "553  पृथ्वी पर पाए जाने वाले तत्वों में कार्बन या प...  "
      ]
     },
     "execution_count": 107,
     "metadata": {},
     "output_type": "execute_result"
    }
   ],
   "source": [
    "data[data['len_answer']==data['len_answer'].min()]"
   ]
  },
  {
   "cell_type": "code",
   "execution_count": 81,
   "id": "e714f7c7-bf58-432c-8020-8c2e4b4e0fd0",
   "metadata": {},
   "outputs": [],
   "source": [
    "data['before_answer'] = data.apply(lambda x: \" \".join(x['context'][:x['answer_start']].split()),axis=1)\n",
    "data['new_start_positon'] = [len(x.strip())+1 for x in data['before_answer']]\n",
    "data['after_answer'] = data.apply(lambda x: \" \".join(x['context'][x['answer_end']:].split()),axis=1)\n",
    "data['new_end_positon'] = data['new_start_positon']+data['len_answer'] "
   ]
  },
  {
   "cell_type": "code",
   "execution_count": 122,
   "id": "f535f05b-47d1-4d82-b1ff-ea08bb705260",
   "metadata": {},
   "outputs": [],
   "source": [
    "# data['before_answer'] = data.apply(lambda x: re.sub(r'\\[\\d+\\]',\" \",x['context'][:x['answer_start']]),axis=1)\n",
    "# data['new_start_positon'] = [len(x.strip())+1 for x in data['before_answer']]\n",
    "# data['after_answer'] = data.apply(lambda x: re.sub(r'\\[\\d+\\]',\" \",x['context'][x['answer_end']:]),axis=1)\n",
    "# data['after_answer'] = data.apply(lambda x: \" \".join(x['context'][x['answer_end']:].split()),axis=1)\n",
    "# data['new_end_positon'] = data['new_start_positon']+data['len_answer'] "
   ]
  },
  {
   "cell_type": "code",
   "execution_count": 123,
   "id": "f0185685-d277-4ee3-8a61-482d08d4a40c",
   "metadata": {},
   "outputs": [],
   "source": [
    "# data['new_context'] = data['before_answer'].map(str)+\" \"+data['answer_text'].map(str)+\" \"+data['after_answer'].map(str)"
   ]
  },
  {
   "cell_type": "code",
   "execution_count": 82,
   "id": "cf9e006f-2977-4259-8fb7-87393bbf22e9",
   "metadata": {},
   "outputs": [],
   "source": [
    "data['new_context'] = data.apply(lambda x: ''.join(x['before_answer'].strip()+\" \"+x['check_ans'].strip()+\" \"+x['after_answer'].strip()),axis=1)"
   ]
  },
  {
   "cell_type": "code",
   "execution_count": 83,
   "id": "2bf6f178-60fc-45f1-b3ea-eb3cc00981d2",
   "metadata": {},
   "outputs": [],
   "source": [
    "data['new_answer_text'] = data.apply(lambda x: x['new_context'][x['new_start_positon']:x['new_end_positon']],axis=1)"
   ]
  },
  {
   "cell_type": "code",
   "execution_count": 84,
   "id": "1dfe64f2-6d26-45d6-80c1-6c3d469530e7",
   "metadata": {},
   "outputs": [],
   "source": [
    "data['flag']= (data['new_answer_text']==data['answer_text'])"
   ]
  },
  {
   "cell_type": "code",
   "execution_count": 85,
   "id": "369198d8-cba7-46da-99e4-4c974337345e",
   "metadata": {},
   "outputs": [
    {
     "data": {
      "text/plain": [
       "True     7727\n",
       "False       2\n",
       "Name: flag, dtype: int64"
      ]
     },
     "execution_count": 85,
     "metadata": {},
     "output_type": "execute_result"
    }
   ],
   "source": [
    "data['flag'].value_counts()"
   ]
  },
  {
   "cell_type": "code",
   "execution_count": 94,
   "id": "fae055e0-25a5-47a5-bda4-bf80c3270a01",
   "metadata": {},
   "outputs": [
    {
     "data": {
      "text/html": [
       "<div>\n",
       "<style scoped>\n",
       "    .dataframe tbody tr th:only-of-type {\n",
       "        vertical-align: middle;\n",
       "    }\n",
       "\n",
       "    .dataframe tbody tr th {\n",
       "        vertical-align: top;\n",
       "    }\n",
       "\n",
       "    .dataframe thead th {\n",
       "        text-align: right;\n",
       "    }\n",
       "</style>\n",
       "<table border=\"1\" class=\"dataframe\">\n",
       "  <thead>\n",
       "    <tr style=\"text-align: right;\">\n",
       "      <th></th>\n",
       "      <th>id</th>\n",
       "      <th>context</th>\n",
       "      <th>question</th>\n",
       "      <th>answer_text</th>\n",
       "      <th>answer_start</th>\n",
       "      <th>language</th>\n",
       "      <th>kfold</th>\n",
       "      <th>answers</th>\n",
       "      <th>len_question</th>\n",
       "      <th>len_answer</th>\n",
       "      <th>...</th>\n",
       "      <th>answer_end</th>\n",
       "      <th>check_ans</th>\n",
       "      <th>checker</th>\n",
       "      <th>before_answer</th>\n",
       "      <th>new_start_positon</th>\n",
       "      <th>after_answer</th>\n",
       "      <th>new_end_positon</th>\n",
       "      <th>new_context</th>\n",
       "      <th>new_answer_text</th>\n",
       "      <th>flag</th>\n",
       "    </tr>\n",
       "  </thead>\n",
       "  <tbody>\n",
       "    <tr>\n",
       "      <th>1109</th>\n",
       "      <td>26f356026</td>\n",
       "      <td>स्वामी निगमानन्द परमहंस (18 अगस्त 1880 - 29 नव...</td>\n",
       "      <td>स्वामी निगमानन्द परमहंस के तन्त्र गुरु कौन थे?</td>\n",
       "      <td>बामाक्षेपा</td>\n",
       "      <td>2691</td>\n",
       "      <td>hindi</td>\n",
       "      <td>2</td>\n",
       "      <td>{'answer_start': [2691], 'text': ['बामाक्षेपा']}</td>\n",
       "      <td>46</td>\n",
       "      <td>10</td>\n",
       "      <td>...</td>\n",
       "      <td>2701</td>\n",
       "      <td>बामाक्षेपा</td>\n",
       "      <td>True</td>\n",
       "      <td>स्वामी निगमानन्द परमहंस (18 अगस्त 1880 - 29 नव...</td>\n",
       "      <td>2678</td>\n",
       "      <td>हें। एक दिन रात को नलिनीकांत ने देखा, उनकी शय्...</td>\n",
       "      <td>2688</td>\n",
       "      <td>स्वामी निगमानन्द परमहंस (18 अगस्त 1880 - 29 नव...</td>\n",
       "      <td>बामाक्षेपा</td>\n",
       "      <td>True</td>\n",
       "    </tr>\n",
       "  </tbody>\n",
       "</table>\n",
       "<p>1 rows × 21 columns</p>\n",
       "</div>"
      ],
      "text/plain": [
       "             id                                            context  \\\n",
       "1109  26f356026  स्वामी निगमानन्द परमहंस (18 अगस्त 1880 - 29 नव...   \n",
       "\n",
       "                                            question answer_text  \\\n",
       "1109  स्वामी निगमानन्द परमहंस के तन्त्र गुरु कौन थे?  बामाक्षेपा   \n",
       "\n",
       "      answer_start language  kfold  \\\n",
       "1109          2691    hindi      2   \n",
       "\n",
       "                                               answers  len_question  \\\n",
       "1109  {'answer_start': [2691], 'text': ['बामाक्षेपा']}            46   \n",
       "\n",
       "      len_answer  ...  answer_end   check_ans checker  \\\n",
       "1109          10  ...        2701  बामाक्षेपा    True   \n",
       "\n",
       "                                          before_answer new_start_positon  \\\n",
       "1109  स्वामी निगमानन्द परमहंस (18 अगस्त 1880 - 29 नव...              2678   \n",
       "\n",
       "                                           after_answer new_end_positon  \\\n",
       "1109  हें। एक दिन रात को नलिनीकांत ने देखा, उनकी शय्...            2688   \n",
       "\n",
       "                                            new_context new_answer_text  flag  \n",
       "1109  स्वामी निगमानन्द परमहंस (18 अगस्त 1880 - 29 नव...      बामाक्षेपा  True  \n",
       "\n",
       "[1 rows x 21 columns]"
      ]
     },
     "execution_count": 94,
     "metadata": {},
     "output_type": "execute_result"
    }
   ],
   "source": [
    "data[data.index==1109]"
   ]
  },
  {
   "cell_type": "code",
   "execution_count": 95,
   "id": "107d9c8e-71a3-4166-a7a5-3463732a4224",
   "metadata": {
    "tags": []
   },
   "outputs": [
    {
     "data": {
      "text/plain": [
       "'बामाक्षेपा'"
      ]
     },
     "execution_count": 95,
     "metadata": {},
     "output_type": "execute_result"
    }
   ],
   "source": [
    "data[data.index==1109]['context'].values[0][2691:2701]"
   ]
  },
  {
   "cell_type": "code",
   "execution_count": 96,
   "id": "429bc07b-7c2e-439c-8b31-5cea79d9f0d3",
   "metadata": {
    "tags": []
   },
   "outputs": [
    {
     "data": {
      "text/plain": [
       "'बामाक्षेपा'"
      ]
     },
     "execution_count": 96,
     "metadata": {},
     "output_type": "execute_result"
    }
   ],
   "source": [
    "data[data.index==1109]['new_context'].values[0][2678:2688]"
   ]
  },
  {
   "cell_type": "code",
   "execution_count": 14,
   "id": "807d5e71-db8f-4b72-afce-89fe9ce5a33f",
   "metadata": {},
   "outputs": [
    {
     "data": {
      "text/html": [
       "<div>\n",
       "<style scoped>\n",
       "    .dataframe tbody tr th:only-of-type {\n",
       "        vertical-align: middle;\n",
       "    }\n",
       "\n",
       "    .dataframe tbody tr th {\n",
       "        vertical-align: top;\n",
       "    }\n",
       "\n",
       "    .dataframe thead th {\n",
       "        text-align: right;\n",
       "    }\n",
       "</style>\n",
       "<table border=\"1\" class=\"dataframe\">\n",
       "  <thead>\n",
       "    <tr style=\"text-align: right;\">\n",
       "      <th></th>\n",
       "      <th>id</th>\n",
       "      <th>context</th>\n",
       "      <th>question</th>\n",
       "      <th>answer_text</th>\n",
       "      <th>answer_start</th>\n",
       "      <th>language</th>\n",
       "      <th>kfold</th>\n",
       "      <th>answers</th>\n",
       "      <th>len_question</th>\n",
       "      <th>len_answer</th>\n",
       "      <th>...</th>\n",
       "      <th>answer_end</th>\n",
       "      <th>check_ans</th>\n",
       "      <th>checker</th>\n",
       "      <th>before_answer</th>\n",
       "      <th>new_start_positon</th>\n",
       "      <th>after_answer</th>\n",
       "      <th>new_end_positon</th>\n",
       "      <th>new_context</th>\n",
       "      <th>new_answer_text</th>\n",
       "      <th>flag</th>\n",
       "    </tr>\n",
       "  </thead>\n",
       "  <tbody>\n",
       "    <tr>\n",
       "      <th>340</th>\n",
       "      <td>1431f3af8</td>\n",
       "      <td>தஞ்சைப் பிரகதீசுவரர் கோயில் என்றும், தஞ்சைப் ப...</td>\n",
       "      <td>தஞ்சாவூர் மாவட்டத்தின் மிகப்பெரிய கோயில் எது?</td>\n",
       "      <td>பிரகதீசுவரர் கோயில்</td>\n",
       "      <td>8</td>\n",
       "      <td>tamil</td>\n",
       "      <td>0</td>\n",
       "      <td>{'answer_start': [8], 'text': ['பிரகதீசுவரர் க...</td>\n",
       "      <td>45</td>\n",
       "      <td>19</td>\n",
       "      <td>...</td>\n",
       "      <td>27</td>\n",
       "      <td>பிரகதீசுவரர் கோயில்</td>\n",
       "      <td>False</td>\n",
       "      <td>தஞ்சைப்</td>\n",
       "      <td>8</td>\n",
       "      <td>என்றும், தஞ்சைப் பெரிய கோயில் (\"Big temple\") அ...</td>\n",
       "      <td>27</td>\n",
       "      <td>தஞ்சைப் பிரகதீசுவரர் கோயில் என்றும், தஞ்சைப் ப...</td>\n",
       "      <td>பிரகதீசுவரர் கோயில்</td>\n",
       "      <td>False</td>\n",
       "    </tr>\n",
       "  </tbody>\n",
       "</table>\n",
       "<p>1 rows × 21 columns</p>\n",
       "</div>"
      ],
      "text/plain": [
       "            id                                            context  \\\n",
       "340  1431f3af8  தஞ்சைப் பிரகதீசுவரர் கோயில் என்றும், தஞ்சைப் ப...   \n",
       "\n",
       "                                          question           answer_text  \\\n",
       "340  தஞ்சாவூர் மாவட்டத்தின் மிகப்பெரிய கோயில் எது?  பிரகதீசுவரர் கோயில்    \n",
       "\n",
       "     answer_start language  kfold  \\\n",
       "340             8    tamil      0   \n",
       "\n",
       "                                               answers  len_question  \\\n",
       "340  {'answer_start': [8], 'text': ['பிரகதீசுவரர் க...            45   \n",
       "\n",
       "     len_answer  ...  answer_end            check_ans checker  before_answer  \\\n",
       "340          19  ...          27  பிரகதீசுவரர் கோயில்   False        தஞ்சைப்   \n",
       "\n",
       "    new_start_positon                                       after_answer  \\\n",
       "340                 8  என்றும், தஞ்சைப் பெரிய கோயில் (\"Big temple\") அ...   \n",
       "\n",
       "    new_end_positon                                        new_context  \\\n",
       "340              27  தஞ்சைப் பிரகதீசுவரர் கோயில் என்றும், தஞ்சைப் ப...   \n",
       "\n",
       "         new_answer_text   flag  \n",
       "340  பிரகதீசுவரர் கோயில்  False  \n",
       "\n",
       "[1 rows x 21 columns]"
      ]
     },
     "execution_count": 14,
     "metadata": {},
     "output_type": "execute_result"
    }
   ],
   "source": [
    "data[data.flag == False].tail()"
   ]
  },
  {
   "cell_type": "code",
   "execution_count": 33,
   "id": "d337b5fa-e1e3-4b6d-bc74-234248593275",
   "metadata": {},
   "outputs": [
    {
     "data": {
      "text/plain": [
       "<AxesSubplot:>"
      ]
     },
     "execution_count": 33,
     "metadata": {},
     "output_type": "execute_result"
    },
    {
     "data": {
      "image/png": "[encoded data removed]",
      "text/plain": [
       "<Figure size 432x288 with 1 Axes>"
      ]
     },
     "metadata": {
      "needs_background": "light"
     },
     "output_type": "display_data"
    }
   ],
   "source": [
    "data['len_context'].hist()"
   ]
  },
  {
   "cell_type": "code",
   "execution_count": 34,
   "id": "f0dfd6be-f567-49e0-9528-21d288eb6461",
   "metadata": {},
   "outputs": [
    {
     "data": {
      "text/plain": [
       "count     1114.000000\n",
       "mean     10999.168761\n",
       "std      10359.706014\n",
       "min        176.000000\n",
       "25%       3778.750000\n",
       "50%       7553.500000\n",
       "75%      14720.500000\n",
       "max      49815.000000\n",
       "Name: len_context, dtype: float64"
      ]
     },
     "execution_count": 34,
     "metadata": {},
     "output_type": "execute_result"
    }
   ],
   "source": [
    "data['len_context'].describe()"
   ]
  },
  {
   "cell_type": "code",
   "execution_count": 35,
   "id": "93769276-6c1a-42b1-b0de-de86a9f51078",
   "metadata": {},
   "outputs": [
    {
     "data": {
      "text/plain": [
       "<AxesSubplot:>"
      ]
     },
     "execution_count": 35,
     "metadata": {},
     "output_type": "execute_result"
    },
    {
     "data": {
      "image/png": "[encoded data removed]",
      "text/plain": [
       "<Figure size 432x288 with 1 Axes>"
      ]
     },
     "metadata": {
      "needs_background": "light"
     },
     "output_type": "display_data"
    }
   ],
   "source": [
    "data['len_answer'].hist()"
   ]
  },
  {
   "cell_type": "code",
   "execution_count": 36,
   "id": "358c8a3c-84ff-4673-8da7-f11700e70e10",
   "metadata": {},
   "outputs": [
    {
     "data": {
      "text/plain": [
       "count    1114.000000\n",
       "mean       12.744165\n",
       "std        15.527678\n",
       "min         1.000000\n",
       "25%         6.000000\n",
       "50%        10.000000\n",
       "75%        15.000000\n",
       "max       286.000000\n",
       "Name: len_answer, dtype: float64"
      ]
     },
     "execution_count": 36,
     "metadata": {},
     "output_type": "execute_result"
    }
   ],
   "source": [
    "data['len_answer'].describe()"
   ]
  },
  {
   "cell_type": "code",
   "execution_count": 49,
   "id": "a3c0757a-f3cc-4649-8be0-1b0cbb47636e",
   "metadata": {},
   "outputs": [
    {
     "data": {
      "text/plain": [
       "Index(['id', 'context', 'question', 'answer_text', 'answer_start', 'language',\n",
       "       'kfold', 'answers', 'len_question', 'len_answer', 'len_context',\n",
       "       'answer_end', 'check_ans', 'checker', 'before_answer',\n",
       "       'new_start_positon', 'after_answer', 'new_end_positon', 'new_context',\n",
       "       'new_answer_text', 'flag', 'new_answers'],\n",
       "      dtype='object')"
      ]
     },
     "execution_count": 49,
     "metadata": {},
     "output_type": "execute_result"
    }
   ],
   "source": [
    "data.columns"
   ]
  },
  {
   "cell_type": "code",
   "execution_count": 97,
   "id": "c33f2fe8-1fad-4761-8023-0bfac291e198",
   "metadata": {
    "tags": []
   },
   "outputs": [],
   "source": [
    "data['new_answers'] = data.apply(lambda x : {'answer_start':[x['new_start_positon']],'text':[x['new_answer_text']]},axis=1)"
   ]
  },
  {
   "cell_type": "code",
   "execution_count": 98,
   "id": "7affcf1b-9015-48ef-b04a-7ace9150be7e",
   "metadata": {},
   "outputs": [],
   "source": [
    "final_data = data[['id','new_context','question','new_answer_text','new_start_positon','language','kfold','new_answers']]"
   ]
  },
  {
   "cell_type": "code",
   "execution_count": 99,
   "id": "73ce64cb-ce23-4917-ac5b-f1a740ebc385",
   "metadata": {},
   "outputs": [],
   "source": [
    "final_data.columns = ['id', 'context', 'question', 'answer_text', 'answer_start', 'language','kfold', 'answers']"
   ]
  },
  {
   "cell_type": "code",
   "execution_count": 100,
   "id": "8655ae0b-c183-4868-b603-6373fa7b8698",
   "metadata": {},
   "outputs": [
    {
     "data": {
      "text/html": [
       "<div>\n",
       "<style scoped>\n",
       "    .dataframe tbody tr th:only-of-type {\n",
       "        vertical-align: middle;\n",
       "    }\n",
       "\n",
       "    .dataframe tbody tr th {\n",
       "        vertical-align: top;\n",
       "    }\n",
       "\n",
       "    .dataframe thead th {\n",
       "        text-align: right;\n",
       "    }\n",
       "</style>\n",
       "<table border=\"1\" class=\"dataframe\">\n",
       "  <thead>\n",
       "    <tr style=\"text-align: right;\">\n",
       "      <th></th>\n",
       "      <th>id</th>\n",
       "      <th>context</th>\n",
       "      <th>question</th>\n",
       "      <th>answer_text</th>\n",
       "      <th>answer_start</th>\n",
       "      <th>language</th>\n",
       "      <th>kfold</th>\n",
       "      <th>answers</th>\n",
       "    </tr>\n",
       "  </thead>\n",
       "  <tbody>\n",
       "    <tr>\n",
       "      <th>0</th>\n",
       "      <td>903deec17</td>\n",
       "      <td>ஒரு சாதாரண வளர்ந்த மனிதனுடைய எலும்புக்கூடு பின...</td>\n",
       "      <td>மனித உடலில் எத்தனை எலும்புகள் உள்ளன?</td>\n",
       "      <td>206</td>\n",
       "      <td>53</td>\n",
       "      <td>tamil</td>\n",
       "      <td>3</td>\n",
       "      <td>{'answer_start': [53], 'text': ['206']}</td>\n",
       "    </tr>\n",
       "    <tr>\n",
       "      <th>1</th>\n",
       "      <td>d9841668c</td>\n",
       "      <td>காளிதாசன் (தேவநாகரி: कालिदास) சமஸ்கிருத இலக்கி...</td>\n",
       "      <td>காளிதாசன் எங்கு பிறந்தார்?</td>\n",
       "      <td>காசுமீரில்</td>\n",
       "      <td>2350</td>\n",
       "      <td>tamil</td>\n",
       "      <td>0</td>\n",
       "      <td>{'answer_start': [2350], 'text': ['காசுமீரில்']}</td>\n",
       "    </tr>\n",
       "    <tr>\n",
       "      <th>2</th>\n",
       "      <td>29d154b56</td>\n",
       "      <td>சர் அலெக்ஸாண்டர் ஃபிளெமிங் (Sir Alexander Fle...</td>\n",
       "      <td>பென்சிலின் கண்டுபிடித்தவர் யார்?</td>\n",
       "      <td>சர் அலெக்ஸாண்டர் ஃபிளெமிங்</td>\n",
       "      <td>1</td>\n",
       "      <td>tamil</td>\n",
       "      <td>4</td>\n",
       "      <td>{'answer_start': [1], 'text': ['சர் அலெக்ஸாண்ட...</td>\n",
       "    </tr>\n",
       "    <tr>\n",
       "      <th>3</th>\n",
       "      <td>41660850a</td>\n",
       "      <td>குழந்தையின் அழுகையை நிறுத்தவும், தூங்க வைக்கவு...</td>\n",
       "      <td>தமிழ்நாட்டில் குழந்தைகளை தூங்க வைக்க பாடும் பா...</td>\n",
       "      <td>தாலாட்டு</td>\n",
       "      <td>67</td>\n",
       "      <td>tamil</td>\n",
       "      <td>4</td>\n",
       "      <td>{'answer_start': [67], 'text': ['தாலாட்டு']}</td>\n",
       "    </tr>\n",
       "    <tr>\n",
       "      <th>4</th>\n",
       "      <td>b29c82c22</td>\n",
       "      <td>சூரியக் குடும்பம் சூரியக் குடும்பம் (Solar Sys...</td>\n",
       "      <td>பூமியின் அருகில் உள்ள விண்மீன் எது?</td>\n",
       "      <td>சூரியனும்</td>\n",
       "      <td>582</td>\n",
       "      <td>tamil</td>\n",
       "      <td>4</td>\n",
       "      <td>{'answer_start': [582], 'text': ['சூரியனும்']}</td>\n",
       "    </tr>\n",
       "  </tbody>\n",
       "</table>\n",
       "</div>"
      ],
      "text/plain": [
       "          id                                            context  \\\n",
       "0  903deec17  ஒரு சாதாரண வளர்ந்த மனிதனுடைய எலும்புக்கூடு பின...   \n",
       "1  d9841668c  காளிதாசன் (தேவநாகரி: कालिदास) சமஸ்கிருத இலக்கி...   \n",
       "2  29d154b56   சர் அலெக்ஸாண்டர் ஃபிளெமிங் (Sir Alexander Fle...   \n",
       "3  41660850a  குழந்தையின் அழுகையை நிறுத்தவும், தூங்க வைக்கவு...   \n",
       "4  b29c82c22  சூரியக் குடும்பம் சூரியக் குடும்பம் (Solar Sys...   \n",
       "\n",
       "                                            question  \\\n",
       "0               மனித உடலில் எத்தனை எலும்புகள் உள்ளன?   \n",
       "1                         காளிதாசன் எங்கு பிறந்தார்?   \n",
       "2                   பென்சிலின் கண்டுபிடித்தவர் யார்?   \n",
       "3  தமிழ்நாட்டில் குழந்தைகளை தூங்க வைக்க பாடும் பா...   \n",
       "4                பூமியின் அருகில் உள்ள விண்மீன் எது?   \n",
       "\n",
       "                  answer_text  answer_start language  kfold  \\\n",
       "0                         206            53    tamil      3   \n",
       "1                  காசுமீரில்          2350    tamil      0   \n",
       "2  சர் அலெக்ஸாண்டர் ஃபிளெமிங்             1    tamil      4   \n",
       "3                    தாலாட்டு            67    tamil      4   \n",
       "4                   சூரியனும்           582    tamil      4   \n",
       "\n",
       "                                             answers  \n",
       "0            {'answer_start': [53], 'text': ['206']}  \n",
       "1   {'answer_start': [2350], 'text': ['காசுமீரில்']}  \n",
       "2  {'answer_start': [1], 'text': ['சர் அலெக்ஸாண்ட...  \n",
       "3       {'answer_start': [67], 'text': ['தாலாட்டு']}  \n",
       "4     {'answer_start': [582], 'text': ['சூரியனும்']}  "
      ]
     },
     "execution_count": 100,
     "metadata": {},
     "output_type": "execute_result"
    }
   ],
   "source": [
    "final_data.head()"
   ]
  },
  {
   "cell_type": "code",
   "execution_count": 101,
   "id": "d43f805f-390d-437c-8fae-cbd9e6c075e8",
   "metadata": {},
   "outputs": [],
   "source": [
    "tamil_translated = pd.read_csv('input/squad_translated_tamil.csv')"
   ]
  },
  {
   "cell_type": "code",
   "execution_count": 102,
   "id": "e659be8a-9e01-4ed2-abd7-22ae31483311",
   "metadata": {},
   "outputs": [
    {
     "data": {
      "text/plain": [
       "(7729, 22)"
      ]
     },
     "execution_count": 102,
     "metadata": {},
     "output_type": "execute_result"
    }
   ],
   "source": [
    "data.shape"
   ]
  },
  {
   "cell_type": "code",
   "execution_count": 103,
   "id": "fa833f45-48eb-42a7-a615-f93132059bbd",
   "metadata": {},
   "outputs": [
    {
     "data": {
      "text/plain": [
       "(3567, 4)"
      ]
     },
     "execution_count": 103,
     "metadata": {},
     "output_type": "execute_result"
    }
   ],
   "source": [
    "tamil_translated.shape"
   ]
  },
  {
   "cell_type": "code",
   "execution_count": 104,
   "id": "3f5e8259-9c66-4582-ae14-2272fada9469",
   "metadata": {},
   "outputs": [],
   "source": [
    "\n",
    "tamil_translated['answer_start'] = tamil_translated['answer_start'].astype(int)\n",
    "tamil_translated['language'] ='tamil'\n",
    "tamil_translated['kfold'] = -2\n",
    "tamil_translated['answers'] =tamil_translated.apply(lambda x : {'answer_start':[x['answer_start']],'text':[x['answer_text']]},axis=1)\n"
   ]
  },
  {
   "cell_type": "code",
   "execution_count": 108,
   "id": "09141b47-e898-4e2e-b124-21f2bb6ba0a2",
   "metadata": {},
   "outputs": [],
   "source": [
    "tamil_translated['id'] = [i for i in range(len(data),(len(data)+len(tamil_translated)))]"
   ]
  },
  {
   "cell_type": "code",
   "execution_count": 109,
   "id": "e05324cc-d184-485b-af60-4f4eee2a13b5",
   "metadata": {},
   "outputs": [
    {
     "data": {
      "text/plain": [
       "(3567, 7729)"
      ]
     },
     "execution_count": 109,
     "metadata": {},
     "output_type": "execute_result"
    }
   ],
   "source": [
    "len(tamil_translated) , len(data)"
   ]
  },
  {
   "cell_type": "code",
   "execution_count": 111,
   "id": "d7914de1-8220-42d6-87ca-287e0512a228",
   "metadata": {},
   "outputs": [],
   "source": [
    "tamil_translated = tamil_translated[final_data.columns]"
   ]
  },
  {
   "cell_type": "code",
   "execution_count": 113,
   "id": "fd964104-a87d-4afc-82d1-a86c89e51f4e",
   "metadata": {},
   "outputs": [
    {
     "data": {
      "text/html": [
       "<div>\n",
       "<style scoped>\n",
       "    .dataframe tbody tr th:only-of-type {\n",
       "        vertical-align: middle;\n",
       "    }\n",
       "\n",
       "    .dataframe tbody tr th {\n",
       "        vertical-align: top;\n",
       "    }\n",
       "\n",
       "    .dataframe thead th {\n",
       "        text-align: right;\n",
       "    }\n",
       "</style>\n",
       "<table border=\"1\" class=\"dataframe\">\n",
       "  <thead>\n",
       "    <tr style=\"text-align: right;\">\n",
       "      <th></th>\n",
       "      <th>id</th>\n",
       "      <th>context</th>\n",
       "      <th>question</th>\n",
       "      <th>answer_text</th>\n",
       "      <th>answer_start</th>\n",
       "      <th>language</th>\n",
       "      <th>kfold</th>\n",
       "      <th>answers</th>\n",
       "    </tr>\n",
       "  </thead>\n",
       "  <tbody>\n",
       "    <tr>\n",
       "      <th>0</th>\n",
       "      <td>7729</td>\n",
       "      <td>மாகாணமானது பாரம்பரியமாக \"மீன் மற்றும் அரிசி நி...</td>\n",
       "      <td>மாகாணத்தின் இரண்டாவது முக்கிய பயிர் என்ன?</td>\n",
       "      <td>கோதுமை</td>\n",
       "      <td>133</td>\n",
       "      <td>tamil</td>\n",
       "      <td>-2</td>\n",
       "      <td>{'answer_start': [133], 'text': ['கோதுமை']}</td>\n",
       "    </tr>\n",
       "    <tr>\n",
       "      <th>1</th>\n",
       "      <td>7730</td>\n",
       "      <td>Gregorian சீர்திருத்தம் இரண்டு பகுதிகளைக் கொண்...</td>\n",
       "      <td>சந்திர காலண்டரைப் பயன்படுத்தி என்ன கணக்கிடப்பட...</td>\n",
       "      <td>ஈஸ்டர் தேதி</td>\n",
       "      <td>219</td>\n",
       "      <td>tamil</td>\n",
       "      <td>-2</td>\n",
       "      <td>{'answer_start': [219], 'text': ['ஈஸ்டர் தேதி']}</td>\n",
       "    </tr>\n",
       "    <tr>\n",
       "      <th>2</th>\n",
       "      <td>7731</td>\n",
       "      <td>அ. டோங்க்கோபா மிங் நீதிமன்றத்தில் தோன்றும் மறு...</td>\n",
       "      <td>மிங் நீதிமன்றம் சாங்க்கபாவிற்கு இரண்டாவது கோரி...</td>\n",
       "      <td>1413</td>\n",
       "      <td>352</td>\n",
       "      <td>tamil</td>\n",
       "      <td>-2</td>\n",
       "      <td>{'answer_start': [352], 'text': ['1413']}</td>\n",
       "    </tr>\n",
       "    <tr>\n",
       "      <th>3</th>\n",
       "      <td>7732</td>\n",
       "      <td>1919 ஆம் ஆண்டில், ஐரிஷ் ஹோம் ஆட்சிக்கு தாமதங்க...</td>\n",
       "      <td>அயர்லாந்தின் எத்தனை மாவட்டங்கள் வட அயர்லாந்தில...</td>\n",
       "      <td>ஆறு</td>\n",
       "      <td>816</td>\n",
       "      <td>tamil</td>\n",
       "      <td>-2</td>\n",
       "      <td>{'answer_start': [816], 'text': ['ஆறு']}</td>\n",
       "    </tr>\n",
       "    <tr>\n",
       "      <th>4</th>\n",
       "      <td>7733</td>\n",
       "      <td>அந்த யுத்தம் தவிர்க்க முடியாதது என்பதை உணர்ந்த...</td>\n",
       "      <td>ஆஸ்திரியா என்ன பிராந்தியத்தை திரும்பப் பெற முட...</td>\n",
       "      <td>ஆஸ்திரியா பிரான்சுடன் ஒரு கூட்டணியை உருவாக்கிய...</td>\n",
       "      <td>213</td>\n",
       "      <td>tamil</td>\n",
       "      <td>-2</td>\n",
       "      <td>{'answer_start': [213], 'text': ['ஆஸ்திரியா பி...</td>\n",
       "    </tr>\n",
       "  </tbody>\n",
       "</table>\n",
       "</div>"
      ],
      "text/plain": [
       "     id                                            context  \\\n",
       "0  7729  மாகாணமானது பாரம்பரியமாக \"மீன் மற்றும் அரிசி நி...   \n",
       "1  7730  Gregorian சீர்திருத்தம் இரண்டு பகுதிகளைக் கொண்...   \n",
       "2  7731  அ. டோங்க்கோபா மிங் நீதிமன்றத்தில் தோன்றும் மறு...   \n",
       "3  7732  1919 ஆம் ஆண்டில், ஐரிஷ் ஹோம் ஆட்சிக்கு தாமதங்க...   \n",
       "4  7733  அந்த யுத்தம் தவிர்க்க முடியாதது என்பதை உணர்ந்த...   \n",
       "\n",
       "                                            question  \\\n",
       "0          மாகாணத்தின் இரண்டாவது முக்கிய பயிர் என்ன?   \n",
       "1  சந்திர காலண்டரைப் பயன்படுத்தி என்ன கணக்கிடப்பட...   \n",
       "2  மிங் நீதிமன்றம் சாங்க்கபாவிற்கு இரண்டாவது கோரி...   \n",
       "3  அயர்லாந்தின் எத்தனை மாவட்டங்கள் வட அயர்லாந்தில...   \n",
       "4  ஆஸ்திரியா என்ன பிராந்தியத்தை திரும்பப் பெற முட...   \n",
       "\n",
       "                                         answer_text  answer_start language  \\\n",
       "0                                             கோதுமை           133    tamil   \n",
       "1                                        ஈஸ்டர் தேதி           219    tamil   \n",
       "2                                               1413           352    tamil   \n",
       "3                                                ஆறு           816    tamil   \n",
       "4  ஆஸ்திரியா பிரான்சுடன் ஒரு கூட்டணியை உருவாக்கிய...           213    tamil   \n",
       "\n",
       "   kfold                                            answers  \n",
       "0     -2        {'answer_start': [133], 'text': ['கோதுமை']}  \n",
       "1     -2   {'answer_start': [219], 'text': ['ஈஸ்டர் தேதி']}  \n",
       "2     -2          {'answer_start': [352], 'text': ['1413']}  \n",
       "3     -2           {'answer_start': [816], 'text': ['ஆறு']}  \n",
       "4     -2  {'answer_start': [213], 'text': ['ஆஸ்திரியா பி...  "
      ]
     },
     "execution_count": 113,
     "metadata": {},
     "output_type": "execute_result"
    }
   ],
   "source": [
    "tamil_translated.head()"
   ]
  },
  {
   "cell_type": "code",
   "execution_count": 136,
   "id": "7f2064ac-d42c-42da-a567-954a1e28bc88",
   "metadata": {},
   "outputs": [
    {
     "data": {
      "text/html": [
       "<div>\n",
       "<style scoped>\n",
       "    .dataframe tbody tr th:only-of-type {\n",
       "        vertical-align: middle;\n",
       "    }\n",
       "\n",
       "    .dataframe tbody tr th {\n",
       "        vertical-align: top;\n",
       "    }\n",
       "\n",
       "    .dataframe thead th {\n",
       "        text-align: right;\n",
       "    }\n",
       "</style>\n",
       "<table border=\"1\" class=\"dataframe\">\n",
       "  <thead>\n",
       "    <tr style=\"text-align: right;\">\n",
       "      <th></th>\n",
       "      <th>id</th>\n",
       "      <th>context</th>\n",
       "      <th>question</th>\n",
       "      <th>answer_text</th>\n",
       "      <th>answer_start</th>\n",
       "      <th>language</th>\n",
       "      <th>kfold</th>\n",
       "      <th>answers</th>\n",
       "    </tr>\n",
       "  </thead>\n",
       "  <tbody>\n",
       "    <tr>\n",
       "      <th>0</th>\n",
       "      <td>903deec17</td>\n",
       "      <td>ஒரு சாதாரண வளர்ந்த மனிதனுடைய எலும்புக்கூடு பின...</td>\n",
       "      <td>மனித உடலில் எத்தனை எலும்புகள் உள்ளன?</td>\n",
       "      <td>206</td>\n",
       "      <td>53</td>\n",
       "      <td>tamil</td>\n",
       "      <td>3</td>\n",
       "      <td>{'answer_start': [53], 'text': ['206']}</td>\n",
       "    </tr>\n",
       "    <tr>\n",
       "      <th>1</th>\n",
       "      <td>d9841668c</td>\n",
       "      <td>காளிதாசன் (தேவநாகரி: कालिदास) சமஸ்கிருத இலக்கி...</td>\n",
       "      <td>காளிதாசன் எங்கு பிறந்தார்?</td>\n",
       "      <td>காசுமீரில்</td>\n",
       "      <td>2350</td>\n",
       "      <td>tamil</td>\n",
       "      <td>0</td>\n",
       "      <td>{'answer_start': [2350], 'text': ['காசுமீரில்']}</td>\n",
       "    </tr>\n",
       "    <tr>\n",
       "      <th>2</th>\n",
       "      <td>29d154b56</td>\n",
       "      <td>சர் அலெக்ஸாண்டர் ஃபிளெமிங் (Sir Alexander Fle...</td>\n",
       "      <td>பென்சிலின் கண்டுபிடித்தவர் யார்?</td>\n",
       "      <td>சர் அலெக்ஸாண்டர் ஃபிளெமிங்</td>\n",
       "      <td>1</td>\n",
       "      <td>tamil</td>\n",
       "      <td>4</td>\n",
       "      <td>{'answer_start': [1], 'text': ['சர் அலெக்ஸாண்ட...</td>\n",
       "    </tr>\n",
       "    <tr>\n",
       "      <th>3</th>\n",
       "      <td>41660850a</td>\n",
       "      <td>குழந்தையின் அழுகையை நிறுத்தவும், தூங்க வைக்கவு...</td>\n",
       "      <td>தமிழ்நாட்டில் குழந்தைகளை தூங்க வைக்க பாடும் பா...</td>\n",
       "      <td>தாலாட்டு</td>\n",
       "      <td>67</td>\n",
       "      <td>tamil</td>\n",
       "      <td>4</td>\n",
       "      <td>{'answer_start': [67], 'text': ['தாலாட்டு']}</td>\n",
       "    </tr>\n",
       "    <tr>\n",
       "      <th>4</th>\n",
       "      <td>b29c82c22</td>\n",
       "      <td>சூரியக் குடும்பம் சூரியக் குடும்பம் (Solar Sys...</td>\n",
       "      <td>பூமியின் அருகில் உள்ள விண்மீன் எது?</td>\n",
       "      <td>சூரியனும்</td>\n",
       "      <td>582</td>\n",
       "      <td>tamil</td>\n",
       "      <td>4</td>\n",
       "      <td>{'answer_start': [582], 'text': ['சூரியனும்']}</td>\n",
       "    </tr>\n",
       "  </tbody>\n",
       "</table>\n",
       "</div>"
      ],
      "text/plain": [
       "          id                                            context  \\\n",
       "0  903deec17  ஒரு சாதாரண வளர்ந்த மனிதனுடைய எலும்புக்கூடு பின...   \n",
       "1  d9841668c  காளிதாசன் (தேவநாகரி: कालिदास) சமஸ்கிருத இலக்கி...   \n",
       "2  29d154b56   சர் அலெக்ஸாண்டர் ஃபிளெமிங் (Sir Alexander Fle...   \n",
       "3  41660850a  குழந்தையின் அழுகையை நிறுத்தவும், தூங்க வைக்கவு...   \n",
       "4  b29c82c22  சூரியக் குடும்பம் சூரியக் குடும்பம் (Solar Sys...   \n",
       "\n",
       "                                            question  \\\n",
       "0               மனித உடலில் எத்தனை எலும்புகள் உள்ளன?   \n",
       "1                         காளிதாசன் எங்கு பிறந்தார்?   \n",
       "2                   பென்சிலின் கண்டுபிடித்தவர் யார்?   \n",
       "3  தமிழ்நாட்டில் குழந்தைகளை தூங்க வைக்க பாடும் பா...   \n",
       "4                பூமியின் அருகில் உள்ள விண்மீன் எது?   \n",
       "\n",
       "                  answer_text  answer_start language  kfold  \\\n",
       "0                         206            53    tamil      3   \n",
       "1                  காசுமீரில்          2350    tamil      0   \n",
       "2  சர் அலெக்ஸாண்டர் ஃபிளெமிங்             1    tamil      4   \n",
       "3                    தாலாட்டு            67    tamil      4   \n",
       "4                   சூரியனும்           582    tamil      4   \n",
       "\n",
       "                                             answers  \n",
       "0            {'answer_start': [53], 'text': ['206']}  \n",
       "1   {'answer_start': [2350], 'text': ['காசுமீரில்']}  \n",
       "2  {'answer_start': [1], 'text': ['சர் அலெக்ஸாண்ட...  \n",
       "3       {'answer_start': [67], 'text': ['தாலாட்டு']}  \n",
       "4     {'answer_start': [582], 'text': ['சூரியனும்']}  "
      ]
     },
     "execution_count": 136,
     "metadata": {},
     "output_type": "execute_result"
    }
   ],
   "source": [
    "final_data.head()"
   ]
  },
  {
   "cell_type": "code",
   "execution_count": 137,
   "id": "f50e288e-3c10-4e49-8456-348936d09a6a",
   "metadata": {},
   "outputs": [],
   "source": [
    "final_export = pd.concat([final_data,tamil_translated],axis=0)"
   ]
  },
  {
   "cell_type": "code",
   "execution_count": 115,
   "id": "d0acfcc1-437c-47d4-9106-acef2611bde2",
   "metadata": {},
   "outputs": [
    {
     "data": {
      "text/plain": [
       "hindi    7361\n",
       "tamil     368\n",
       "Name: language, dtype: int64"
      ]
     },
     "execution_count": 115,
     "metadata": {},
     "output_type": "execute_result"
    }
   ],
   "source": [
    "data.language.value_counts()"
   ]
  },
  {
   "cell_type": "code",
   "execution_count": 138,
   "id": "74a549f9-9cc6-41f1-b98a-3bf0d23cb50b",
   "metadata": {},
   "outputs": [
    {
     "data": {
      "text/plain": [
       "(11296, 8)"
      ]
     },
     "execution_count": 138,
     "metadata": {},
     "output_type": "execute_result"
    }
   ],
   "source": [
    "final_export.shape"
   ]
  },
  {
   "cell_type": "code",
   "execution_count": 118,
   "id": "49d8caa2-5711-4777-8ab5-c5a919e8cdfc",
   "metadata": {},
   "outputs": [
    {
     "data": {
      "text/plain": [
       "hindi    7361\n",
       "tamil    3935\n",
       "Name: language, dtype: int64"
      ]
     },
     "execution_count": 118,
     "metadata": {},
     "output_type": "execute_result"
    }
   ],
   "source": [
    "final_export.language.value_counts()"
   ]
  },
  {
   "cell_type": "code",
   "execution_count": 120,
   "id": "7ae7618a-9f85-42c8-8b57-98af58bbd28c",
   "metadata": {},
   "outputs": [
    {
     "data": {
      "text/plain": [
       "-1    6615\n",
       " 0     223\n",
       " 1     223\n",
       " 2     223\n",
       " 3     223\n",
       " 4     222\n",
       "Name: kfold, dtype: int64"
      ]
     },
     "execution_count": 120,
     "metadata": {},
     "output_type": "execute_result"
    }
   ],
   "source": [
    "data.kfold.value_counts()"
   ]
  },
  {
   "cell_type": "code",
   "execution_count": 119,
   "id": "fc4f655d-ab0f-4b84-af70-01f0f86118e5",
   "metadata": {},
   "outputs": [
    {
     "data": {
      "text/plain": [
       "-1    6615\n",
       "-2    3567\n",
       " 0     223\n",
       " 1     223\n",
       " 2     223\n",
       " 3     223\n",
       " 4     222\n",
       "Name: kfold, dtype: int64"
      ]
     },
     "execution_count": 119,
     "metadata": {},
     "output_type": "execute_result"
    }
   ],
   "source": [
    "final_export.kfold.value_counts()"
   ]
  },
  {
   "cell_type": "code",
   "execution_count": 139,
   "id": "57f1169f-52db-4794-ab6b-546cac2e35ec",
   "metadata": {},
   "outputs": [],
   "source": [
    "final_export = final_export.sample(frac=1).reset_index(drop=True)"
   ]
  },
  {
   "cell_type": "code",
   "execution_count": 144,
   "id": "61ef6bd6-f815-4786-acff-a1539e865d38",
   "metadata": {},
   "outputs": [
    {
     "data": {
      "text/plain": [
       "-1    6615\n",
       "-2    3567\n",
       " 0     223\n",
       " 1     223\n",
       " 2     223\n",
       " 3     223\n",
       " 4     222\n",
       "Name: kfold, dtype: int64"
      ]
     },
     "execution_count": 144,
     "metadata": {},
     "output_type": "execute_result"
    }
   ],
   "source": [
    "final_export.kfold.value_counts()"
   ]
  },
  {
   "cell_type": "code",
   "execution_count": 3,
   "id": "7e51a317-394a-47da-b02b-7509220e97cf",
   "metadata": {},
   "outputs": [
    {
     "name": "stdout",
     "output_type": "stream",
     "text": [
      "0\n"
     ]
    }
   ],
   "source": [
    "for fold in range(0,1):\n",
    "    print(fold)"
   ]
  },
  {
   "cell_type": "code",
   "execution_count": 146,
   "id": "730fd024-549a-4b2c-b8f7-0a676a59fb9a",
   "metadata": {},
   "outputs": [
    {
     "data": {
      "text/plain": [
       "1    10182\n",
       "0     1114\n",
       "Name: external, dtype: int64"
      ]
     },
     "execution_count": 146,
     "metadata": {},
     "output_type": "execute_result"
    }
   ],
   "source": [
    "final_export['external'].value_counts()"
   ]
  },
  {
   "cell_type": "code",
   "execution_count": 145,
   "id": "c3311fc5-554e-4143-8c34-e5c3209e1f02",
   "metadata": {},
   "outputs": [],
   "source": [
    "final_export['external'] = [1 if x <0 else 0 for x in final_export['kfold']]"
   ]
  },
  {
   "cell_type": "code",
   "execution_count": 149,
   "id": "963f4ec5-e573-4a48-b734-40a2977bae55",
   "metadata": {},
   "outputs": [],
   "source": [
    "final_export.to_csv('input/all_data.csv',index=False)"
   ]
  },
  {
   "cell_type": "code",
   "execution_count": 134,
   "id": "e580018e-63d6-4098-87e6-87fadba26d71",
   "metadata": {},
   "outputs": [
    {
     "data": {
      "text/html": [
       "<div>\n",
       "<style scoped>\n",
       "    .dataframe tbody tr th:only-of-type {\n",
       "        vertical-align: middle;\n",
       "    }\n",
       "\n",
       "    .dataframe tbody tr th {\n",
       "        vertical-align: top;\n",
       "    }\n",
       "\n",
       "    .dataframe thead th {\n",
       "        text-align: right;\n",
       "    }\n",
       "</style>\n",
       "<table border=\"1\" class=\"dataframe\">\n",
       "  <thead>\n",
       "    <tr style=\"text-align: right;\">\n",
       "      <th></th>\n",
       "      <th>id</th>\n",
       "      <th>context</th>\n",
       "      <th>question</th>\n",
       "      <th>answer_text</th>\n",
       "      <th>answer_start</th>\n",
       "      <th>language</th>\n",
       "      <th>kfold</th>\n",
       "      <th>answers</th>\n",
       "      <th>len_question</th>\n",
       "      <th>len_answer</th>\n",
       "      <th>...</th>\n",
       "      <th>check_ans</th>\n",
       "      <th>checker</th>\n",
       "      <th>before_answer</th>\n",
       "      <th>new_start_positon</th>\n",
       "      <th>after_answer</th>\n",
       "      <th>new_end_positon</th>\n",
       "      <th>new_context</th>\n",
       "      <th>new_answer_text</th>\n",
       "      <th>flag</th>\n",
       "      <th>new_answers</th>\n",
       "    </tr>\n",
       "  </thead>\n",
       "  <tbody>\n",
       "    <tr>\n",
       "      <th>0</th>\n",
       "      <td>6174</td>\n",
       "      <td>सविनय अवज्ञा के कुछ रूपों, जैसे कि अवैध बहिष्क...</td>\n",
       "      <td>ब्राउनली का तर्क के अनुसार कभी-कभी लोग कैसा व्...</td>\n",
       "      <td>सीमित दबाव</td>\n",
       "      <td>414</td>\n",
       "      <td>hindi</td>\n",
       "      <td>-1</td>\n",
       "      <td>{'answer_start': [414], 'text': ['सीमित दबाव']}</td>\n",
       "      <td>100.0</td>\n",
       "      <td>10.0</td>\n",
       "      <td>...</td>\n",
       "      <td>सीमित दबाव</td>\n",
       "      <td>True</td>\n",
       "      <td>सविनय अवज्ञा के कुछ रूपों, जैसे कि अवैध बहिष्क...</td>\n",
       "      <td>414.0</td>\n",
       "      <td>बनाना ज़रूरी हो सकता है।\" प्लोशेयर संगठन ने फाट...</td>\n",
       "      <td>424.0</td>\n",
       "      <td>सविनय अवज्ञा के कुछ रूपों, जैसे कि अवैध बहिष्क...</td>\n",
       "      <td>सीमित दबाव</td>\n",
       "      <td>True</td>\n",
       "      <td>{'answer_start': [414], 'text': ['सीमित दबाव']}</td>\n",
       "    </tr>\n",
       "    <tr>\n",
       "      <th>1</th>\n",
       "      <td>656327e9c</td>\n",
       "      <td>ऋतुविज्ञान या मौसम विज्ञान (Meteorology) कई वि...</td>\n",
       "      <td>मौसम के अध्ययन को क्या कहा जाता है?</td>\n",
       "      <td>ऋतुविज्ञान या मौसम विज्ञान</td>\n",
       "      <td>0</td>\n",
       "      <td>hindi</td>\n",
       "      <td>2</td>\n",
       "      <td>{'answer_start': [0], 'text': ['ऋतुविज्ञान या ...</td>\n",
       "      <td>35.0</td>\n",
       "      <td>26.0</td>\n",
       "      <td>...</td>\n",
       "      <td>ऋतुविज्ञान या मौसम विज्ञान</td>\n",
       "      <td>True</td>\n",
       "      <td></td>\n",
       "      <td>1.0</td>\n",
       "      <td>(Meteorology) कई विधाओं को समेटे हुए विज्ञान ह...</td>\n",
       "      <td>27.0</td>\n",
       "      <td>ऋतुविज्ञान या मौसम विज्ञान (Meteorology) कई व...</td>\n",
       "      <td>ऋतुविज्ञान या मौसम विज्ञान</td>\n",
       "      <td>True</td>\n",
       "      <td>{'answer_start': [1], 'text': ['ऋतुविज्ञान या ...</td>\n",
       "    </tr>\n",
       "    <tr>\n",
       "      <th>2</th>\n",
       "      <td>3989</td>\n",
       "      <td>प्रैडर-विली सिंड्रोम का कोई इलाज नहीं है।हालां...</td>\n",
       "      <td>व्यवहार की समस्याओं में मदद करने वाले दो प्रका...</td>\n",
       "      <td>परामर्श और दवाएं</td>\n",
       "      <td>358</td>\n",
       "      <td>hindi</td>\n",
       "      <td>-1</td>\n",
       "      <td>{'answer_start': [358], 'text': ['परामर्श और द...</td>\n",
       "      <td>76.0</td>\n",
       "      <td>16.0</td>\n",
       "      <td>...</td>\n",
       "      <td>परामर्श और दवाएं</td>\n",
       "      <td>True</td>\n",
       "      <td>प्रैडर-विली सिंड्रोम का कोई इलाज नहीं है।हालां...</td>\n",
       "      <td>358.0</td>\n",
       "      <td>कुछ व्यवहारिक समस्याओं से मदद कर सकती हैं।</td>\n",
       "      <td>374.0</td>\n",
       "      <td>प्रैडर-विली सिंड्रोम का कोई इलाज नहीं है।हालां...</td>\n",
       "      <td>परामर्श और दवाएं</td>\n",
       "      <td>True</td>\n",
       "      <td>{'answer_start': [358], 'text': ['परामर्श और द...</td>\n",
       "    </tr>\n",
       "    <tr>\n",
       "      <th>3</th>\n",
       "      <td>7990</td>\n",
       "      <td>கலப்பு கால உலகம் ஒரு உலோகமாக இருக்கும் அணுக்கள...</td>\n",
       "      <td>மேட்ரிக்ஸ் மற்றும் கரைப்பான் என்ன மற்ற பெயர்கள்?</td>\n",
       "      <td>முதன்மை உலோக</td>\n",
       "      <td>92</td>\n",
       "      <td>tamil</td>\n",
       "      <td>-2</td>\n",
       "      <td>{'answer_start': [92], 'text': ['முதன்மை உலோக']}</td>\n",
       "      <td>NaN</td>\n",
       "      <td>NaN</td>\n",
       "      <td>...</td>\n",
       "      <td>NaN</td>\n",
       "      <td>NaN</td>\n",
       "      <td>NaN</td>\n",
       "      <td>NaN</td>\n",
       "      <td>NaN</td>\n",
       "      <td>NaN</td>\n",
       "      <td>NaN</td>\n",
       "      <td>NaN</td>\n",
       "      <td>NaN</td>\n",
       "      <td>NaN</td>\n",
       "    </tr>\n",
       "    <tr>\n",
       "      <th>4</th>\n",
       "      <td>5175</td>\n",
       "      <td>साक्स का जन्म १० दिसंबर १८९१ को बर्लिन में एक ...</td>\n",
       "      <td>साक्स ने किस वर्ष पलायन किया?\\n</td>\n",
       "      <td>१९४०</td>\n",
       "      <td>245</td>\n",
       "      <td>hindi</td>\n",
       "      <td>-1</td>\n",
       "      <td>{'answer_start': [245], 'text': ['१९४०']}</td>\n",
       "      <td>31.0</td>\n",
       "      <td>4.0</td>\n",
       "      <td>...</td>\n",
       "      <td>१९४०</td>\n",
       "      <td>True</td>\n",
       "      <td>साक्स का जन्म १० दिसंबर १८९१ को बर्लिन में एक ...</td>\n",
       "      <td>245.0</td>\n",
       "      <td>में बर्लिन से बच कर वो स्वीडन पहुंच गई। साक्स ...</td>\n",
       "      <td>249.0</td>\n",
       "      <td>साक्स का जन्म १० दिसंबर १८९१ को बर्लिन में एक ...</td>\n",
       "      <td>१९४०</td>\n",
       "      <td>True</td>\n",
       "      <td>{'answer_start': [245], 'text': ['१९४०']}</td>\n",
       "    </tr>\n",
       "  </tbody>\n",
       "</table>\n",
       "<p>5 rows × 22 columns</p>\n",
       "</div>"
      ],
      "text/plain": [
       "          id                                            context  \\\n",
       "0       6174  सविनय अवज्ञा के कुछ रूपों, जैसे कि अवैध बहिष्क...   \n",
       "1  656327e9c  ऋतुविज्ञान या मौसम विज्ञान (Meteorology) कई वि...   \n",
       "2       3989  प्रैडर-विली सिंड्रोम का कोई इलाज नहीं है।हालां...   \n",
       "3       7990  கலப்பு கால உலகம் ஒரு உலோகமாக இருக்கும் அணுக்கள...   \n",
       "4       5175  साक्स का जन्म १० दिसंबर १८९१ को बर्लिन में एक ...   \n",
       "\n",
       "                                            question  \\\n",
       "0  ब्राउनली का तर्क के अनुसार कभी-कभी लोग कैसा व्...   \n",
       "1                मौसम के अध्ययन को क्या कहा जाता है?   \n",
       "2  व्यवहार की समस्याओं में मदद करने वाले दो प्रका...   \n",
       "3   மேட்ரிக்ஸ் மற்றும் கரைப்பான் என்ன மற்ற பெயர்கள்?   \n",
       "4                    साक्स ने किस वर्ष पलायन किया?\\n   \n",
       "\n",
       "                  answer_text  answer_start language  kfold  \\\n",
       "0                  सीमित दबाव           414    hindi     -1   \n",
       "1  ऋतुविज्ञान या मौसम विज्ञान             0    hindi      2   \n",
       "2            परामर्श और दवाएं           358    hindi     -1   \n",
       "3                முதன்மை உலோக            92    tamil     -2   \n",
       "4                        १९४०           245    hindi     -1   \n",
       "\n",
       "                                             answers  len_question  \\\n",
       "0    {'answer_start': [414], 'text': ['सीमित दबाव']}         100.0   \n",
       "1  {'answer_start': [0], 'text': ['ऋतुविज्ञान या ...          35.0   \n",
       "2  {'answer_start': [358], 'text': ['परामर्श और द...          76.0   \n",
       "3   {'answer_start': [92], 'text': ['முதன்மை உலோக']}           NaN   \n",
       "4          {'answer_start': [245], 'text': ['१९४०']}          31.0   \n",
       "\n",
       "   len_answer  ...                   check_ans  checker  \\\n",
       "0        10.0  ...                  सीमित दबाव     True   \n",
       "1        26.0  ...  ऋतुविज्ञान या मौसम विज्ञान     True   \n",
       "2        16.0  ...            परामर्श और दवाएं     True   \n",
       "3         NaN  ...                         NaN      NaN   \n",
       "4         4.0  ...                        १९४०     True   \n",
       "\n",
       "                                       before_answer new_start_positon  \\\n",
       "0  सविनय अवज्ञा के कुछ रूपों, जैसे कि अवैध बहिष्क...             414.0   \n",
       "1                                                                  1.0   \n",
       "2  प्रैडर-विली सिंड्रोम का कोई इलाज नहीं है।हालां...             358.0   \n",
       "3                                                NaN               NaN   \n",
       "4  साक्स का जन्म १० दिसंबर १८९१ को बर्लिन में एक ...             245.0   \n",
       "\n",
       "                                        after_answer  new_end_positon  \\\n",
       "0  बनाना ज़रूरी हो सकता है।\" प्लोशेयर संगठन ने फाट...            424.0   \n",
       "1  (Meteorology) कई विधाओं को समेटे हुए विज्ञान ह...             27.0   \n",
       "2         कुछ व्यवहारिक समस्याओं से मदद कर सकती हैं।            374.0   \n",
       "3                                                NaN              NaN   \n",
       "4  में बर्लिन से बच कर वो स्वीडन पहुंच गई। साक्स ...            249.0   \n",
       "\n",
       "                                         new_context  \\\n",
       "0  सविनय अवज्ञा के कुछ रूपों, जैसे कि अवैध बहिष्क...   \n",
       "1   ऋतुविज्ञान या मौसम विज्ञान (Meteorology) कई व...   \n",
       "2  प्रैडर-विली सिंड्रोम का कोई इलाज नहीं है।हालां...   \n",
       "3                                                NaN   \n",
       "4  साक्स का जन्म १० दिसंबर १८९१ को बर्लिन में एक ...   \n",
       "\n",
       "              new_answer_text  flag  \\\n",
       "0                  सीमित दबाव  True   \n",
       "1  ऋतुविज्ञान या मौसम विज्ञान  True   \n",
       "2            परामर्श और दवाएं  True   \n",
       "3                         NaN   NaN   \n",
       "4                        १९४०  True   \n",
       "\n",
       "                                         new_answers  \n",
       "0    {'answer_start': [414], 'text': ['सीमित दबाव']}  \n",
       "1  {'answer_start': [1], 'text': ['ऋतुविज्ञान या ...  \n",
       "2  {'answer_start': [358], 'text': ['परामर्श और द...  \n",
       "3                                                NaN  \n",
       "4          {'answer_start': [245], 'text': ['१९४०']}  \n",
       "\n",
       "[5 rows x 22 columns]"
      ]
     },
     "execution_count": 134,
     "metadata": {},
     "output_type": "execute_result"
    }
   ],
   "source": [
    "final_export.head ()"
   ]
  },
  {
   "cell_type": "code",
   "execution_count": null,
   "id": "edf34f12-4a05-43f7-830e-c6cf5e86479a",
   "metadata": {},
   "outputs": [],
   "source": []
  },
  {
   "cell_type": "code",
   "execution_count": null,
   "id": "34315a1b-7f10-4a7d-9943-73fb80df9703",
   "metadata": {},
   "outputs": [],
   "source": []
  },
  {
   "cell_type": "code",
   "execution_count": 3,
   "id": "59bb6019-e23a-44d7-97c4-116514f702e0",
   "metadata": {},
   "outputs": [],
   "source": [
    "class EarlyStopping:\n",
    "    \"\"\"Early stops the training if validation loss doesn't improve after a given patience.\"\"\"\n",
    "\n",
    "    def __init__(self, patience=7, verbose=False,metric=\"loss\"):\n",
    "        \"\"\"\n",
    "        Args:\n",
    "            patience (int): How long to wait after last time validation loss improved.\n",
    "                            Default: 7\n",
    "            verbose (bool): If True, prints a message for each validation loss improvement. \n",
    "                            Default: False\n",
    "        \"\"\"\n",
    "        self.patience = patience\n",
    "        self.verbose = verbose\n",
    "        self.metric = metric\n",
    "        \n",
    "        self.counter = 0\n",
    "        self.best_score = None\n",
    "        self.monitor_score = None\n",
    "        self.early_stop = False\n",
    "        self.val_loss_min = np.Inf\n",
    "        self.loss_ = []\n",
    "        self.monitor_ = []\n",
    "        self.monitor_val_min = -np.Inf\n",
    "\n",
    "    def __call__(self, val_loss,monitor_metric_val):\n",
    "\n",
    "        \n",
    "        score = -val_loss\n",
    "        monitor_metric = monitor_metric_val\n",
    "        self.loss_.append(score)\n",
    "        self.monitor_.append(monitor_metric)\n",
    "        \n",
    "        \n",
    "        \n",
    "        if self.best_score is None:\n",
    "            self.best_score = score\n",
    "            self.monitor_score = monitor_metric\n",
    "            \n",
    "            self.save_checkpoint(val_loss,monitor_metric_val)\n",
    "            \n",
    "        elif score > 1.2 * np.max(self.loss_) and monitor_metric == np.max(self.monitor_):\n",
    "            \n",
    "\n",
    "            self.best_score = score\n",
    "            self.monitor_score = monitor_metric\n",
    "            self.save_checkpoint(val_loss,monitor_metric_val)\n",
    "            \n",
    "            \n",
    "        elif score < self.best_score :\n",
    "           \n",
    "            self.counter += 1\n",
    "            print(\n",
    "                f'EarlyStopping counter: {self.counter} out of {self.patience}')\n",
    "            if self.counter >= self.patience:\n",
    "                self.early_stop = True\n",
    "            \n",
    "        else:\n",
    "            self.best_score = score\n",
    "            self.monitor_score = monitor_metric\n",
    "            self.save_checkpoint(val_loss,monitor_metric_val)\n",
    "            self.counter = 0\n",
    "\n",
    "    def save_checkpoint(self, val_loss,monitor_metric_val):\n",
    "        '''Saves model when validation loss decrease.'''\n",
    "        print(np.max(self.loss_) ,self.best_score  ,\"//\",self.loss_)\n",
    "        \n",
    "        \n",
    "        if self.verbose:\n",
    "            if self.metric == \"loss\":\n",
    "                print( f'Validation loss decreased ({self.val_loss_min:.6f} --> {val_loss:.6f}).  Saving model ...')\n",
    "            else :\n",
    "                print( f'Jaccard score increased ({self.monitor_val_min:.6f} --> {monitor_metric_val:.6f}).  Saving model ...')\n",
    "         \n",
    "        self.monitor_val_min = monitor_metric_val\n",
    "        self.val_loss_min = val_loss\n",
    "        print(f\"Saving model checkpoint to self.output_path.\")\n",
    "        \n",
    "    def get_best_jaccard(self):\n",
    "        return self.monitor_val_min \n"
   ]
  },
  {
   "cell_type": "code",
   "execution_count": 4,
   "id": "e7c27e8d-44f7-4898-a6ae-a5db4bc0f6b2",
   "metadata": {},
   "outputs": [],
   "source": [
    "train_l=[1.44,.667,.44,.30,.19,.12]\n",
    "valid_l =[.277,.234,.263,.322,.354,.381]\n",
    "jacc_l = [.637,.673,.690,.690,.672,.750]"
   ]
  },
  {
   "cell_type": "code",
   "execution_count": 6,
   "id": "0f4c9a3a-0e0d-4d4d-8869-fd4fae4b64e7",
   "metadata": {},
   "outputs": [
    {
     "data": {
      "text/plain": [
       "0.69"
      ]
     },
     "execution_count": 6,
     "metadata": {},
     "output_type": "execute_result"
    }
   ],
   "source": []
  },
  {
   "cell_type": "code",
   "execution_count": 8,
   "id": "6634c9ff-e225-4bdf-91d9-13d30e77a9c7",
   "metadata": {},
   "outputs": [
    {
     "name": "stdout",
     "output_type": "stream",
     "text": [
      "EPOCH : 1/6\n",
      "| Train Loss = 1.44 | Valid Loss = 0.277| Jaccard Score = 0.637|\n",
      "-0.277 -0.277 // [-0.277]\n",
      "Validation loss decreased (inf --> 0.277000).  Saving model ...\n",
      "Saving model checkpoint to self.output_path.\n",
      "EPOCH : 2/6\n",
      "| Train Loss = 0.667 | Valid Loss = 0.234| Jaccard Score = 0.673|\n",
      "-0.234 -0.234 // [-0.277, -0.234]\n",
      "Validation loss decreased (0.277000 --> 0.234000).  Saving model ...\n",
      "Saving model checkpoint to self.output_path.\n",
      "EPOCH : 3/6\n",
      "| Train Loss = 0.44 | Valid Loss = 0.263| Jaccard Score = 0.69|\n",
      "-0.234 -0.263 // [-0.277, -0.234, -0.263]\n",
      "Validation loss decreased (0.234000 --> 0.263000).  Saving model ...\n",
      "Saving model checkpoint to self.output_path.\n",
      "EPOCH : 4/6\n",
      "| Train Loss = 0.3 | Valid Loss = 0.322| Jaccard Score = 0.69|\n",
      "EarlyStopping counter: 1 out of 3\n",
      "EPOCH : 5/6\n",
      "| Train Loss = 0.19 | Valid Loss = 0.354| Jaccard Score = 0.672|\n",
      "EarlyStopping counter: 2 out of 3\n",
      "EPOCH : 6/6\n",
      "| Train Loss = 0.12 | Valid Loss = 0.381| Jaccard Score = 0.75|\n",
      "EarlyStopping counter: 3 out of 3\n",
      "Early stopping\n",
      "0.69\n"
     ]
    }
   ],
   "source": [
    "early_stopping = EarlyStopping(patience=3 ,verbose=True,metric=\"loss\")\n",
    "\n",
    "\n",
    "for epoch in range(6):\n",
    "    \n",
    "    train_loss = train_l[epoch]\n",
    "\n",
    "    test_loss = valid_l[epoch]\n",
    "\n",
    "    jaccard = jacc_l[epoch]\n",
    "\n",
    "\n",
    "\n",
    "    print(f\"EPOCH : {epoch + 1}/{6}\")\n",
    "    print(f\"| Train Loss = {train_loss} | Valid Loss = {test_loss}| Jaccard Score = {jaccard}|\")\n",
    "     \n",
    "\n",
    "    early_stopping(val_loss= test_loss, monitor_metric_val=jaccard)\n",
    "\n",
    "    \n",
    "    if early_stopping.early_stop:\n",
    "        print(\"Early stopping\")\n",
    "        break\n",
    "        \n",
    "    cc = early_stopping.get_best_jaccard()\n",
    "print(cc)"
   ]
  },
  {
   "cell_type": "code",
   "execution_count": 28,
   "id": "3917475d-9009-4c28-b2e3-fd0ae4a5e5fc",
   "metadata": {},
   "outputs": [
    {
     "data": {
      "text/plain": [
       "True"
      ]
     },
     "execution_count": 28,
     "metadata": {},
     "output_type": "execute_result"
    }
   ],
   "source": [
    "-.26 > -.2808"
   ]
  },
  {
   "cell_type": "code",
   "execution_count": 35,
   "id": "22591ce1-99ab-4107-bfda-8c83289175cd",
   "metadata": {},
   "outputs": [
    {
     "data": {
      "text/plain": [
       "True"
      ]
     },
     "execution_count": 35,
     "metadata": {},
     "output_type": "execute_result"
    }
   ],
   "source": [
    ".69 > 0.673*1.025"
   ]
  },
  {
   "cell_type": "code",
   "execution_count": 42,
   "id": "3adbc2b6-a370-4976-b6f9-4aada7fb7fb5",
   "metadata": {},
   "outputs": [
    {
     "data": {
      "text/plain": [
       "0.7072499999999999"
      ]
     },
     "execution_count": 42,
     "metadata": {},
     "output_type": "execute_result"
    }
   ],
   "source": [
    "0.69*1.025"
   ]
  },
  {
   "cell_type": "code",
   "execution_count": 9,
   "id": "75e66cb0-1c7e-41ba-8631-be96abcc2be9",
   "metadata": {},
   "outputs": [
    {
     "name": "stdout",
     "output_type": "stream",
     "text": [
      "0 -2\n",
      "1 -1\n"
     ]
    }
   ],
   "source": [
    "for i, j in enumerate(range(-2,0)):\n",
    "    print(i,j)"
   ]
  },
  {
   "cell_type": "code",
   "execution_count": 4,
   "id": "b7f749f1-7b2f-47d7-ac33-3e4b72e09dab",
   "metadata": {},
   "outputs": [],
   "source": [
    "## checking cleaned data \n",
    "cleaned_data = pd.read_csv('input/Cleaned_Chaii.csv')"
   ]
  },
  {
   "cell_type": "code",
   "execution_count": 5,
   "id": "e2fd8cb0-2da8-4f18-a497-cd0f0c8a8d40",
   "metadata": {},
   "outputs": [],
   "source": [
    "cleaned_data['len_context'] = cleaned_data['context'].apply(lambda x: len(x))"
   ]
  },
  {
   "cell_type": "code",
   "execution_count": 6,
   "id": "68f444c4-67ba-4e47-9b9e-d7f1fc5f665b",
   "metadata": {
    "tags": []
   },
   "outputs": [
    {
     "data": {
      "text/html": [
       "<div>\n",
       "<style scoped>\n",
       "    .dataframe tbody tr th:only-of-type {\n",
       "        vertical-align: middle;\n",
       "    }\n",
       "\n",
       "    .dataframe tbody tr th {\n",
       "        vertical-align: top;\n",
       "    }\n",
       "\n",
       "    .dataframe thead th {\n",
       "        text-align: right;\n",
       "    }\n",
       "</style>\n",
       "<table border=\"1\" class=\"dataframe\">\n",
       "  <thead>\n",
       "    <tr style=\"text-align: right;\">\n",
       "      <th></th>\n",
       "      <th>id</th>\n",
       "      <th>context</th>\n",
       "      <th>question</th>\n",
       "      <th>answer_text</th>\n",
       "      <th>answer_start</th>\n",
       "      <th>language</th>\n",
       "      <th>lengths</th>\n",
       "      <th>len_context</th>\n",
       "    </tr>\n",
       "  </thead>\n",
       "  <tbody>\n",
       "    <tr>\n",
       "      <th>0</th>\n",
       "      <td>903deec17</td>\n",
       "      <td>ஒரு சாதாரண வளர்ந்த மனிதனுடைய எலும்புக்கூடு பின...</td>\n",
       "      <td>மனித உடலில் எத்தனை எலும்புகள் உள்ளன?</td>\n",
       "      <td>206</td>\n",
       "      <td>53</td>\n",
       "      <td>tamil</td>\n",
       "      <td>3</td>\n",
       "      <td>4246</td>\n",
       "    </tr>\n",
       "    <tr>\n",
       "      <th>1</th>\n",
       "      <td>d9841668c</td>\n",
       "      <td>காளிதாசன் (தேவநாகரி: कालिदास) சமஸ்கிருத இலக்கி...</td>\n",
       "      <td>காளிதாசன் எங்கு பிறந்தார்?</td>\n",
       "      <td>காசுமீரில்</td>\n",
       "      <td>2350</td>\n",
       "      <td>tamil</td>\n",
       "      <td>10</td>\n",
       "      <td>7568</td>\n",
       "    </tr>\n",
       "    <tr>\n",
       "      <th>2</th>\n",
       "      <td>29d154b56</td>\n",
       "      <td>சர் அலெக்ஸாண்டர் ஃபிளெமிங் (Sir Alexander Flem...</td>\n",
       "      <td>பென்சிலின் கண்டுபிடித்தவர் யார்?</td>\n",
       "      <td>சர் அலெக்ஸாண்டர் ஃபிளெமிங்</td>\n",
       "      <td>0</td>\n",
       "      <td>tamil</td>\n",
       "      <td>26</td>\n",
       "      <td>4947</td>\n",
       "    </tr>\n",
       "    <tr>\n",
       "      <th>3</th>\n",
       "      <td>41660850a</td>\n",
       "      <td>குழந்தையின் அழுகையை நிறுத்தவும், தூங்க வைக்கவு...</td>\n",
       "      <td>தமிழ்நாட்டில் குழந்தைகளை தூங்க வைக்க பாடும் பா...</td>\n",
       "      <td>தாலாட்டு</td>\n",
       "      <td>4965</td>\n",
       "      <td>tamil</td>\n",
       "      <td>8</td>\n",
       "      <td>8100</td>\n",
       "    </tr>\n",
       "    <tr>\n",
       "      <th>4</th>\n",
       "      <td>b29c82c22</td>\n",
       "      <td>சூரியக் குடும்பம் சூரியக் குடும்பம் (Solar Sys...</td>\n",
       "      <td>பூமியின் அருகில் உள்ள விண்மீன் எது?</td>\n",
       "      <td>சூரியனும்</td>\n",
       "      <td>582</td>\n",
       "      <td>tamil</td>\n",
       "      <td>9</td>\n",
       "      <td>9906</td>\n",
       "    </tr>\n",
       "  </tbody>\n",
       "</table>\n",
       "</div>"
      ],
      "text/plain": [
       "          id                                            context  \\\n",
       "0  903deec17  ஒரு சாதாரண வளர்ந்த மனிதனுடைய எலும்புக்கூடு பின...   \n",
       "1  d9841668c  காளிதாசன் (தேவநாகரி: कालिदास) சமஸ்கிருத இலக்கி...   \n",
       "2  29d154b56  சர் அலெக்ஸாண்டர் ஃபிளெமிங் (Sir Alexander Flem...   \n",
       "3  41660850a  குழந்தையின் அழுகையை நிறுத்தவும், தூங்க வைக்கவு...   \n",
       "4  b29c82c22  சூரியக் குடும்பம் சூரியக் குடும்பம் (Solar Sys...   \n",
       "\n",
       "                                            question  \\\n",
       "0               மனித உடலில் எத்தனை எலும்புகள் உள்ளன?   \n",
       "1                         காளிதாசன் எங்கு பிறந்தார்?   \n",
       "2                   பென்சிலின் கண்டுபிடித்தவர் யார்?   \n",
       "3  தமிழ்நாட்டில் குழந்தைகளை தூங்க வைக்க பாடும் பா...   \n",
       "4                பூமியின் அருகில் உள்ள விண்மீன் எது?   \n",
       "\n",
       "                  answer_text  answer_start language  lengths  len_context  \n",
       "0                         206            53    tamil        3         4246  \n",
       "1                  காசுமீரில்          2350    tamil       10         7568  \n",
       "2  சர் அலெக்ஸாண்டர் ஃபிளெமிங்             0    tamil       26         4947  \n",
       "3                    தாலாட்டு          4965    tamil        8         8100  \n",
       "4                   சூரியனும்           582    tamil        9         9906  "
      ]
     },
     "execution_count": 6,
     "metadata": {},
     "output_type": "execute_result"
    }
   ],
   "source": [
    "cleaned_data.head()"
   ]
  },
  {
   "cell_type": "code",
   "execution_count": 7,
   "id": "4d5e84d6-3ccf-4afa-bd53-d15d9de2aa09",
   "metadata": {},
   "outputs": [],
   "source": [
    "old_data= pd.read_csv('input/train_folds.csv')"
   ]
  },
  {
   "cell_type": "code",
   "execution_count": 8,
   "id": "a7e43a40-e842-475c-98f2-0cab471bff08",
   "metadata": {
    "tags": []
   },
   "outputs": [],
   "source": [
    "old_data['len_context'] = old_data['context'].apply(lambda x: len(x))"
   ]
  },
  {
   "cell_type": "code",
   "execution_count": 9,
   "id": "a1165247-e744-401f-9a33-8fce09708322",
   "metadata": {},
   "outputs": [
    {
     "data": {
      "text/plain": [
       "count     7729.000000\n",
       "mean      2286.069090\n",
       "std       5350.952318\n",
       "min         51.000000\n",
       "25%        458.000000\n",
       "50%        724.000000\n",
       "75%       1300.000000\n",
       "max      49815.000000\n",
       "Name: len_context, dtype: float64"
      ]
     },
     "execution_count": 9,
     "metadata": {},
     "output_type": "execute_result"
    }
   ],
   "source": [
    "old_data.len_context.describe()"
   ]
  },
  {
   "cell_type": "code",
   "execution_count": 10,
   "id": "3409ccbe-9a88-43dd-83f9-32d1e0f7d7fe",
   "metadata": {},
   "outputs": [
    {
     "data": {
      "text/plain": [
       "count     1070.000000\n",
       "mean     10889.985047\n",
       "std      10319.527845\n",
       "min        165.000000\n",
       "25%       3726.000000\n",
       "50%       7517.000000\n",
       "75%      14480.750000\n",
       "max      49815.000000\n",
       "Name: len_context, dtype: float64"
      ]
     },
     "execution_count": 10,
     "metadata": {},
     "output_type": "execute_result"
    }
   ],
   "source": [
    "cleaned_data.len_context.describe()"
   ]
  },
  {
   "cell_type": "code",
   "execution_count": 12,
   "id": "e71db7f6-a687-47a5-ab3b-c067b226cd00",
   "metadata": {},
   "outputs": [
    {
     "data": {
      "text/plain": [
       "(48    10615\n",
       " Name: len_context, dtype: int64,\n",
       " 45    10508\n",
       " Name: len_context, dtype: int64)"
      ]
     },
     "execution_count": 12,
     "metadata": {},
     "output_type": "execute_result"
    }
   ],
   "source": [
    "old_data.loc[old_data.id==\"b0638a766\",\"len_context\"]  , cleaned_data.loc[cleaned_data.id==\"b0638a766\",\"len_context\"] "
   ]
  },
  {
   "cell_type": "code",
   "execution_count": 27,
   "id": "c2e27271-7b69-48a5-a56e-32379ac2d5cd",
   "metadata": {},
   "outputs": [
    {
     "data": {
      "text/plain": [
       "10517"
      ]
     },
     "execution_count": 27,
     "metadata": {},
     "output_type": "execute_result"
    }
   ],
   "source": [
    "len(' '.join(old_data.loc[old_data.id==\"b0638a766\",\"context\"].values[0].split()))"
   ]
  },
  {
   "cell_type": "code",
   "execution_count": 70,
   "id": "7aa17bf9-7ed9-4dbf-ad84-df49b5a54a8c",
   "metadata": {},
   "outputs": [],
   "source": [
    "cc = pd.read_csv('input/train_folds.csv')"
   ]
  },
  {
   "cell_type": "code",
   "execution_count": 71,
   "id": "34c36ffe-2bb2-45f0-b535-f2c78d66d096",
   "metadata": {},
   "outputs": [
    {
     "data": {
      "text/plain": [
       "((1070, 8), (7729, 8))"
      ]
     },
     "execution_count": 71,
     "metadata": {},
     "output_type": "execute_result"
    }
   ],
   "source": [
    "cleaned_data.shape , cc.shape"
   ]
  },
  {
   "cell_type": "code",
   "execution_count": 81,
   "id": "ac968424-d010-4fa8-90ff-6467c0512ec7",
   "metadata": {},
   "outputs": [],
   "source": []
  },
  {
   "cell_type": "code",
   "execution_count": 86,
   "id": "701a91da-3690-4cfa-89e8-197f3e43725d",
   "metadata": {},
   "outputs": [
    {
     "data": {
      "text/html": [
       "<div>\n",
       "<style scoped>\n",
       "    .dataframe tbody tr th:only-of-type {\n",
       "        vertical-align: middle;\n",
       "    }\n",
       "\n",
       "    .dataframe tbody tr th {\n",
       "        vertical-align: top;\n",
       "    }\n",
       "\n",
       "    .dataframe thead th {\n",
       "        text-align: right;\n",
       "    }\n",
       "</style>\n",
       "<table border=\"1\" class=\"dataframe\">\n",
       "  <thead>\n",
       "    <tr style=\"text-align: right;\">\n",
       "      <th></th>\n",
       "      <th>context</th>\n",
       "      <th>question</th>\n",
       "      <th>answer_text</th>\n",
       "      <th>answer_start</th>\n",
       "      <th>language</th>\n",
       "      <th>lengths</th>\n",
       "    </tr>\n",
       "  </thead>\n",
       "  <tbody>\n",
       "    <tr>\n",
       "      <th>0</th>\n",
       "      <td>पैंथर्स की डिफ़ेन्स ने लीग में केवल 308 अंक दिए...</td>\n",
       "      <td>पैंथर्स डिफ़ेंस ने कितने अंक दिए?</td>\n",
       "      <td>308</td>\n",
       "      <td>35</td>\n",
       "      <td>hindi</td>\n",
       "      <td>3</td>\n",
       "    </tr>\n",
       "    <tr>\n",
       "      <th>1</th>\n",
       "      <td>पैंथर्स की डिफ़ेन्स ने लीग में केवल 308 अंक दिए...</td>\n",
       "      <td>जेरेड एलन के पास कितने करियर सैक थे?</td>\n",
       "      <td>136</td>\n",
       "      <td>379</td>\n",
       "      <td>hindi</td>\n",
       "      <td>3</td>\n",
       "    </tr>\n",
       "    <tr>\n",
       "      <th>2</th>\n",
       "      <td>पैंथर्स की डिफ़ेन्स ने लीग में केवल 308 अंक दिए...</td>\n",
       "      <td>ल्यूक कुएक्ली ने कितने टैकल रजिस्टर किए?</td>\n",
       "      <td>118</td>\n",
       "      <td>742</td>\n",
       "      <td>hindi</td>\n",
       "      <td>3</td>\n",
       "    </tr>\n",
       "    <tr>\n",
       "      <th>3</th>\n",
       "      <td>पैंथर्स की डिफ़ेन्स ने लीग में केवल 308 अंक दिए...</td>\n",
       "      <td>जोश नॉर्मन ने कितने बॉल को इंटरसेप्ट किया?</td>\n",
       "      <td>चार</td>\n",
       "      <td>90</td>\n",
       "      <td>hindi</td>\n",
       "      <td>3</td>\n",
       "    </tr>\n",
       "    <tr>\n",
       "      <th>4</th>\n",
       "      <td>पैंथर्स की डिफ़ेन्स ने लीग में केवल 308 अंक दिए...</td>\n",
       "      <td>इस सीज़न में टीम से किसने सबसे अधिक सैक रजिस्टर...</td>\n",
       "      <td>कावन शॉर्ट</td>\n",
       "      <td>169</td>\n",
       "      <td>hindi</td>\n",
       "      <td>10</td>\n",
       "    </tr>\n",
       "  </tbody>\n",
       "</table>\n",
       "</div>"
      ],
      "text/plain": [
       "                                             context  \\\n",
       "0  पैंथर्स की डिफ़ेन्स ने लीग में केवल 308 अंक दिए...   \n",
       "1  पैंथर्स की डिफ़ेन्स ने लीग में केवल 308 अंक दिए...   \n",
       "2  पैंथर्स की डिफ़ेन्स ने लीग में केवल 308 अंक दिए...   \n",
       "3  पैंथर्स की डिफ़ेन्स ने लीग में केवल 308 अंक दिए...   \n",
       "4  पैंथर्स की डिफ़ेन्स ने लीग में केवल 308 अंक दिए...   \n",
       "\n",
       "                                            question answer_text  \\\n",
       "0                   पैंथर्स डिफ़ेंस ने कितने अंक दिए?         308   \n",
       "1               जेरेड एलन के पास कितने करियर सैक थे?         136   \n",
       "2           ल्यूक कुएक्ली ने कितने टैकल रजिस्टर किए?         118   \n",
       "3         जोश नॉर्मन ने कितने बॉल को इंटरसेप्ट किया?         चार   \n",
       "4  इस सीज़न में टीम से किसने सबसे अधिक सैक रजिस्टर...  कावन शॉर्ट   \n",
       "\n",
       "   answer_start language  lengths  \n",
       "0            35    hindi        3  \n",
       "1           379    hindi        3  \n",
       "2           742    hindi        3  \n",
       "3            90    hindi        3  \n",
       "4           169    hindi       10  "
      ]
     },
     "execution_count": 86,
     "metadata": {},
     "output_type": "execute_result"
    }
   ],
   "source": [
    "xquad_cleaned.head()"
   ]
  },
  {
   "cell_type": "code",
   "execution_count": 87,
   "id": "54ca01ec-fe2e-41ba-a285-98e14f0fc003",
   "metadata": {},
   "outputs": [
    {
     "data": {
      "text/plain": [
       "((4454, 6), (1017, 6), (3307, 5), (1070, 8))"
      ]
     },
     "execution_count": 87,
     "metadata": {},
     "output_type": "execute_result"
    }
   ],
   "source": [
    "mlqa_data.shape , xquad_cleaned.shape , tamil_cleaned.shape , cleaned_data.shape"
   ]
  },
  {
   "cell_type": "code",
   "execution_count": 88,
   "id": "c436df78-d958-49fa-a14b-f7504e91ac99",
   "metadata": {},
   "outputs": [
    {
     "data": {
      "text/plain": [
       "9848"
      ]
     },
     "execution_count": 88,
     "metadata": {},
     "output_type": "execute_result"
    }
   ],
   "source": [
    "4454+1017+3307+1070"
   ]
  },
  {
   "cell_type": "code",
   "execution_count": 89,
   "id": "f6f14fe7-cd35-4763-9202-d7da70b3c0f3",
   "metadata": {},
   "outputs": [],
   "source": [
    "train = pd.read_csv('input/train.csv')"
   ]
  },
  {
   "cell_type": "code",
   "execution_count": 91,
   "id": "f333e951-ebd5-4815-a5de-3cb27489f437",
   "metadata": {},
   "outputs": [
    {
     "data": {
      "text/plain": [
       "(1114, 6)"
      ]
     },
     "execution_count": 91,
     "metadata": {},
     "output_type": "execute_result"
    }
   ],
   "source": [
    "train.shape"
   ]
  },
  {
   "cell_type": "code",
   "execution_count": 93,
   "id": "9ad25d56-4209-48ba-9cf9-0d77dbee80f5",
   "metadata": {},
   "outputs": [
    {
     "data": {
      "text/html": [
       "<div>\n",
       "<style scoped>\n",
       "    .dataframe tbody tr th:only-of-type {\n",
       "        vertical-align: middle;\n",
       "    }\n",
       "\n",
       "    .dataframe tbody tr th {\n",
       "        vertical-align: top;\n",
       "    }\n",
       "\n",
       "    .dataframe thead th {\n",
       "        text-align: right;\n",
       "    }\n",
       "</style>\n",
       "<table border=\"1\" class=\"dataframe\">\n",
       "  <thead>\n",
       "    <tr style=\"text-align: right;\">\n",
       "      <th></th>\n",
       "      <th>id</th>\n",
       "      <th>context</th>\n",
       "      <th>question</th>\n",
       "      <th>answer_text</th>\n",
       "      <th>answer_start</th>\n",
       "      <th>language</th>\n",
       "      <th>lengths</th>\n",
       "      <th>len_context</th>\n",
       "    </tr>\n",
       "  </thead>\n",
       "  <tbody>\n",
       "    <tr>\n",
       "      <th>0</th>\n",
       "      <td>903deec17</td>\n",
       "      <td>ஒரு சாதாரண வளர்ந்த மனிதனுடைய எலும்புக்கூடு பின...</td>\n",
       "      <td>மனித உடலில் எத்தனை எலும்புகள் உள்ளன?</td>\n",
       "      <td>206</td>\n",
       "      <td>53</td>\n",
       "      <td>tamil</td>\n",
       "      <td>3</td>\n",
       "      <td>4246</td>\n",
       "    </tr>\n",
       "    <tr>\n",
       "      <th>1</th>\n",
       "      <td>d9841668c</td>\n",
       "      <td>காளிதாசன் (தேவநாகரி: कालिदास) சமஸ்கிருத இலக்கி...</td>\n",
       "      <td>காளிதாசன் எங்கு பிறந்தார்?</td>\n",
       "      <td>காசுமீரில்</td>\n",
       "      <td>2350</td>\n",
       "      <td>tamil</td>\n",
       "      <td>10</td>\n",
       "      <td>7568</td>\n",
       "    </tr>\n",
       "    <tr>\n",
       "      <th>2</th>\n",
       "      <td>29d154b56</td>\n",
       "      <td>சர் அலெக்ஸாண்டர் ஃபிளெமிங் (Sir Alexander Flem...</td>\n",
       "      <td>பென்சிலின் கண்டுபிடித்தவர் யார்?</td>\n",
       "      <td>சர் அலெக்ஸாண்டர் ஃபிளெமிங்</td>\n",
       "      <td>0</td>\n",
       "      <td>tamil</td>\n",
       "      <td>26</td>\n",
       "      <td>4947</td>\n",
       "    </tr>\n",
       "    <tr>\n",
       "      <th>3</th>\n",
       "      <td>41660850a</td>\n",
       "      <td>குழந்தையின் அழுகையை நிறுத்தவும், தூங்க வைக்கவு...</td>\n",
       "      <td>தமிழ்நாட்டில் குழந்தைகளை தூங்க வைக்க பாடும் பா...</td>\n",
       "      <td>தாலாட்டு</td>\n",
       "      <td>4965</td>\n",
       "      <td>tamil</td>\n",
       "      <td>8</td>\n",
       "      <td>8100</td>\n",
       "    </tr>\n",
       "    <tr>\n",
       "      <th>4</th>\n",
       "      <td>b29c82c22</td>\n",
       "      <td>சூரியக் குடும்பம் சூரியக் குடும்பம் (Solar Sys...</td>\n",
       "      <td>பூமியின் அருகில் உள்ள விண்மீன் எது?</td>\n",
       "      <td>சூரியனும்</td>\n",
       "      <td>582</td>\n",
       "      <td>tamil</td>\n",
       "      <td>9</td>\n",
       "      <td>9906</td>\n",
       "    </tr>\n",
       "  </tbody>\n",
       "</table>\n",
       "</div>"
      ],
      "text/plain": [
       "          id                                            context  \\\n",
       "0  903deec17  ஒரு சாதாரண வளர்ந்த மனிதனுடைய எலும்புக்கூடு பின...   \n",
       "1  d9841668c  காளிதாசன் (தேவநாகரி: कालिदास) சமஸ்கிருத இலக்கி...   \n",
       "2  29d154b56  சர் அலெக்ஸாண்டர் ஃபிளெமிங் (Sir Alexander Flem...   \n",
       "3  41660850a  குழந்தையின் அழுகையை நிறுத்தவும், தூங்க வைக்கவு...   \n",
       "4  b29c82c22  சூரியக் குடும்பம் சூரியக் குடும்பம் (Solar Sys...   \n",
       "\n",
       "                                            question  \\\n",
       "0               மனித உடலில் எத்தனை எலும்புகள் உள்ளன?   \n",
       "1                         காளிதாசன் எங்கு பிறந்தார்?   \n",
       "2                   பென்சிலின் கண்டுபிடித்தவர் யார்?   \n",
       "3  தமிழ்நாட்டில் குழந்தைகளை தூங்க வைக்க பாடும் பா...   \n",
       "4                பூமியின் அருகில் உள்ள விண்மீன் எது?   \n",
       "\n",
       "                  answer_text  answer_start language  lengths  len_context  \n",
       "0                         206            53    tamil        3         4246  \n",
       "1                  காசுமீரில்          2350    tamil       10         7568  \n",
       "2  சர் அலெக்ஸாண்டர் ஃபிளெமிங்             0    tamil       26         4947  \n",
       "3                    தாலாட்டு          4965    tamil        8         8100  \n",
       "4                   சூரியனும்           582    tamil        9         9906  "
      ]
     },
     "execution_count": 93,
     "metadata": {},
     "output_type": "execute_result"
    }
   ],
   "source": [
    "cleaned_data.head()"
   ]
  },
  {
   "cell_type": "code",
   "execution_count": 97,
   "id": "96fa1b70-1499-436c-bb3e-5fd019a93dd5",
   "metadata": {
    "collapsed": true,
    "jupyter": {
     "outputs_hidden": true
    },
    "tags": []
   },
   "outputs": [
    {
     "name": "stdout",
     "output_type": "stream",
     "text": [
      "தடித்த எழுத்துக்கள்\n",
      "\n",
      "\n",
      "\n",
      "\n",
      "Part of a series onRenewable energy\n",
      " Biofuel\n",
      " Biomass\n",
      " Biogas\n",
      " Geothermal\n",
      " Hydropower\n",
      " Solar energy\n",
      " Tidal power\n",
      " Wave power\n",
      " Wind power\n",
      " Topics by country\n",
      " Marketing and policy trendsvt\n",
      "சூரிய மின்னாற்றல் (solar power) என்பது சூரிய ஒளியில் இருந்து மின்னாற்றலைப் பெறுவதாகும். இது நேரடியாக ஒளிமின்னழுத்திகளின் செயல்பாட்டின் முறையிலும் மறைமுகமாகச் செறிவூட்டும் அல்லது செறிவான சூரிய ஆற்றல் (CSP) முறையிலும் பெறப்படுகிறது. செறிவூட்டல் முறையில் பரந்த அளவு சூரிய ஒளிக்கற்றைகள் வில்லைகள், மற்றும் கண்ணாடிகளைக் கொண்டு சிறிய ஒளிக்கற்றையாகக் குவிக்கப்பட்டு அதன் மூலம் நீரை ஆவியாக்க வைத்து மின்சாரம் பெறப்படுகிறது. ஒளிமின்னழுத்தி முறையில், ஒளிமின் விளைவைப் பயன்படுத்திச் சூரிய ஒளி நேரடியாக மின்னோட்டமாக மாற்றப்படுகிறது.[1]\n",
      "சூரிய மின் அணுக் கதிர்கள், ஒளிமின்னழுத்திகளுக்குக் கிடைக்கும் போது உண்டாகும் சூரிய ஒளிக்கதிர் ஆற்றலை, மின்னாற்றலாக மாற்றிப் பெறப்படும் மின்சாரத்தின் மூலம் தேவையான மின்தேவையை நிறைவு செய்யப் பயன்படுகிறது. நவீனத் தொழில்நுட்பம் மூலம் ஒளிக்கதிர் மின்னழுத்தியில் உற்பத்தி செய்யப்படும் சூரிய மின் உற்பத்தி நிலையங்கள் உள்ளன. அவை நூறு மெகா வாட் அளவுக்கு மேல் மின் உற்பத்தி செய்யும் திறன் உள்ளவை. இவை தற்போதைய காலத்தில் (2012) அளவுக்கு அதிகமான வளர்ச்சியைப் பெற்றுள்ளன.\n",
      "சூரிய ஒளியானது பகல் நேரங்களில் கிடைப்பதனால், சூரிய ஒளி மூலம் கிடைக்கும் மின் ஆற்றலை மின்கலத்தில் சேமிப்பதன் மூலம் இரவு நேரங்களிலும் பயன்படுத்தலாம்.\n",
      " பயன்பாடுகள் \n",
      "சூரிய ஆற்றல் என்பது சூரிய ஒளியை மின்சக்தியாக மாற்றுவதாகும். ஒளிமின்னழுத்தியங்களைப் பயன்படுத்திச் சூரிய ஒளியை நேரடியாக மின்சக்தியாக மாற்றலாம் அல்லது முழுச்செறிவூட்டும் சூரிய சக்தி (CSP) மூலம் மறைமுகமாக மாற்றலாம். பொதுவாக, சூரியனின் ஆற்றலை நீரில் குவிப்பதன் மூலம் நீர் கொதிக்கவைக்கப்படுகிறது. இம்முறையின் மூலம் மின்சக்தி உற்பத்தி செய்யப்படுகிறது. மேலும் ஸ்டிர்லிங் இயந்திர டிஷ் மூலம் ஸ்டிர்லிங் சுழற்சி இயந்திரம் போன்ற தொழில்நுட்பங்களை மின் ஆக்கிக்கு சக்தியளிக்கப் பயன்படுத்துகிறது. ஆரம்பகாலத்தில், ஃபோட்டோவோல்டியாக்கள் சிறிய மற்றும் நடுத்தரப் பயன்பாடுகளுக்காகப் பயன்படுத்தப்பட்டது. ஒற்றைச் சூரிய மின்கலம் மூலம் சக்தியளிக்கப்படும் கால்குலேட்டரிலிருந்து, ஒளிமின்னழுத்திய வரிசைகள் மூலம் வீடுகளைத் தற்சார்புடையவையாக மாற்றுவது வரை இவை பயன்படுத்தப்படுகின்றன.\n",
      "சூரிய மின் உற்பத்தி நிலையங்கள் அதிக நிறுவுதல் செலவை ஏற்படுத்தலாம். இருப்பினும், கற்றல் விகித வரைவுப்படத்தின் காரணமாகக் குறைந்து வருகிறது.\n",
      "சூரிய ஒளிக்கதிர் வீச்சு இடைவிட்டு நிகழக்கூடியது என்பதால், சூரிய சக்தி வழக்கமாக சேமிப்பு வசதியுடனிருக்கும் அல்லது பிற சக்தி வளங்களுடன் தொடர்ச்சியான சக்தியை வழங்க இணைந்திருக்கும். இருப்பினும்,  உற்பத்தியாளர்/நுகர்வோருக்கு சிறிய அளவில் விநியோகிக்கப்படுகிறது என்றாலும் உபரி அளவீடு இதனை நுகர்வோருக்கு வெளிப்படையானதாகச் செய்கிறது. ஜெர்மனியில், சற்றுப் பேரளவில் பரிசோதனை முறையில் காற்று, இயற்கை எரிவாயு, நீர்-மின்சாரம், சூரிய சக்தி மின் உற்பத்தி என்ற கலப்பில் கூட்டு மின் உற்பத்தி நிலையம் ஒன்று செயல் முறை விளக்கமாக அமைக்கப்பட்டு அதன் விளைவாக 100% மறுசுழற்சி சக்தி வள உருவாக்கம் நிகழ்ந்தது.[2]\n",
      " முழுச்செறிவூட்டும் சூரிய சக்தி \n",
      "ஒரு மரபு வழிக்கதைப்படி ஆர்க்கிமிடீஸ் மெருகூட்டப்பட்ட கவசங்களை சூரிய ஒளியைக் குவிக்கப் பயன்படுத்தி அதைப் படையெடுத்து வரும் உரோமானிய நாட்டுப் படையினர் மீது செலுத்தி அவர்களை சிராகுசிலிருந்து துரத்தியடித்தார்.[3] 1866 ஆம் ஆண்டில், அகஸ்டே மவுசோ முதல் சூரிய நீராவி இயந்திரத்திற்காக, பரவளையத் தொட்டியைப் பயன்படுத்தி நீராவியை உற்பத்தி செய்தார்.[4]\n",
      "செறிவூட்டப்பட்ட சூரிய சக்தி (CSP) அமைப்புகள் வில்லைகளையோ அல்லது கண்ணாடிகளையோ தடங்காண் அமைப்புகளில் பயன்படுத்திப் பெரும் பரப்பிலுள்ள சூரிய ஒளிக்கதிர்கள் குவிக்கப்பட்டுச் சிறிய கற்றையாக்கப்படுகின்றன. குவிக்கப்பட்ட வெப்பமானது  மரபு வழிப்பட்ட மின் உற்பத்தி நிலையத்திற்கு வெப்ப மூலமாகப் பயன்படுகிறது. செறிவூட்டப்பட்ட தொழில்நுட்பங்கள் பல வகையானவையாக உள்ளன; பரவளையத் தொட்டி, குவிமைய ஃப்பிரெஸ்னெல் பிரதிபலிப்பான், ஸ்டிர்லிங் டிஷ் மற்றும் சூரிய சக்தி கோபுரம் ஆகியவை மிகவும் மேம்பட்டவையாகும். சூரியனைத் தடமறியவும் ஒளியைக் குவிக்கவும் பல்வேறு உத்திகள் பயன்படுகின்றன. இந்த எல்லா அமைப்புகளிலும் பலனளிக்கக்கூடிய திரவம் ஒன்று குவிக்கப்பட்ட சூரிய ஒளியினால் சூடேற்றப்பட்ட பிறகு மின் உற்பத்திக்கோ அல்லது சக்தி சேமிப்பிற்கோ பயன்படுத்தப்படும்.[5]\n",
      "ஒரு பரவளையத் தொட்டி நீளமான பரவளையப் பிரதிபலிப்பானைக் கொண்டுள்ளது. அந்தப் பிரதிபலிப்பான் குவிய மையக்கோட்டுடன் நிலைநிறுத்தப்பட்டுள்ள ஒளிவாங்கியின் மீது ஒளியைக் குவிக்கிறது. ஒளிவாங்கி என்பது பரவளையக் கண்ணாடியின் மத்திக்கு நேர் மேற்பகுதியில் நிலைப்படுத்தப்பட்ட ஒரு குழாயாகும். அதில் பலனளிக்கக்கூடிய திரவம் நிரப்பப்பட்டிருக்கும். ஒளிவாங்கியானது சூரியனை பகலில் ஒற்றை ஊடச்சில் தடம் பற்றி பின்தொடருமாறு அமைக்கப்பட்டுள்ளது. பரவளையத் தொட்டி அமைப்புகள் எவ்வித சூரிய தொழில்நுட்பங்களைக் காட்டிலும் சிறந்த நிலப்பயன்பாட்டுக் காரணியைக் கொடுக்கின்றன.[6] காலிஃபோர்னியாவிலுள்ள SEGS கூடங்கள் மற்றும் நெவெடா (Nevada)மாகாணத்திலுள்ள பவுல்டர் சிட்டியின் (Boulder City) அருகிலுள்ள அசியோனாவின் நெவெடா சோலார் ஒன் ஆகியவை இந்தத் தொழில்நுட்பத்தினை பிரதிநிதித்தும் செய்கின்றன.[7][8] சண்ட்ரோஃப்-முல்க் பரவளையத் தொட்டி மெல்வின் ப்ருயெட்டால் உருவாக்கப்பட்டது. கண்ணாடிகளைச் சுற்றுவதாக வைத்தது ஆர்கிமிடீஸ்சின் கோட்பாட்டின் செல்வாக்கிற்குட்பட்டதாகும்.[9]\n",
      "செறிவூட்டப்பட்ட நேரான ஃப்ரெஸ்னெல் பிரதிபலிப்பான்கள் செறிவூட்டப்பட்ட சூரிய சக்திக் கூடங்களாகும். அவை பரவளைய கண்ணாடிக்கு பதிலாக பலனளிக்கும் வாயு அல்லது திரவத்தைக் கொண்ட இரு குழாய்கள் மீது சூரிய ஒளியைக் குவிக்க மெல்லிய கண்ணாடியைப் பயன்படுத்துகின்றன. இதற்குச் சாதகமாகத் தட்டையான கண்ணாடிகளைப் பயன்படுத்துவது பரவளைய கண்ணாடிகளை விட மிக மலிவானதாகும். மேலும், கூடுதலான பிரதிபலிப்பான்களை அதே அளவு இடத்தில் வைக்கப்படுவதன் மூலம் கிடைக்கின்ற சூரிய வெளிச்சத்தை மிகுதியாக பயன்படுத்த அனுமதிக்கிறது. செறிவூட்டப்பட்ட குவிமைய ஃப்ரனெல் பிரதிபலிப்பான்களை பெரிய அல்லது அதிகக் கச்சிதமான கூடங்களில் பயன்படுத்த இயலும்.\n",
      "ஸ்டிர்லிங் சூரிய வட்டில், ஒரு பரவளைய குவிமைய வட்டிலை\n",
      "ஸ்டிர்லிங் வெப்ப இயந்திரத்துடன் இணைத்து சாதாரணமாக மின்சார உற்பத்தி இயந்திரத்தைச் செலுத்துகிறது. ஒளிமின்னழுத்திய மின்கலங்களை விட ஸ்டிர்லிங் சூரியச் சக்தியின் சாதகங்களாக இருப்பவை சூரிய வெளிச்சத்தை மின் சக்தியாக மாற்றும் உயர் திறன் மற்றும் நீண்ட ஆயுளுமாகும். \n",
      "ஒரு சூரிய மின் கோபுரம் வரிசையான தடம் பற்றும் பிரதிபலிப்பான்களின் பயன் கொண்டு (ஹீலியோஸ்டாட்கள்) வெளிச்சத்தை மையக் கோபுரத்தின் மீது அமைந்துள்ள ஒளிவாங்கியில் குவிக்கச் செய்கிறது. மின் கோபுரங்கள் மிகவும் செலவு குறைவானவை; அவை செறிவூட்டப்பட்ட சூரியச சக்தி தொழில்நுட்பங்களுக்குள் அதிகத் திறனையும் மேம்படுத்தப்பட்ட சக்தி சேமிப்புத் தகுதியையும் அளிக்கின்றன.[7] கலிஃபோர்னியாவின் பார்ஸ்டோவின் சோலார் டூ மற்றும் ஸ்பெயினிலுள்ள சான்லுகார் லா மேயோரின் பிளாண்டா சோலார் 10 ஆகியவை இந்தத் தொழில்நுட்பத்தின் எடுத்துக்காட்டுகளாய் விளங்குகின்றன.[7]\n",
      "ஒரு சூரியக் கிண்ணம் என்பது ஓரிடத்தில் நிறுவப்பட்ட கோளவடிவ வட்டில் கண்ணாடியாகும். வட்டிலால் உருவாக்கப்பட்ட வரிசை குவிமையத்தை ஒளிவாங்கி பின் தொடர்கிறது (தடம் பற்றும் பரவளைய கண்ணாடியுடைய நிலைத்த குவிமையத்திற்கெதிரான முறையில்).\n",
      " ஒளிமின்னழுத்தியங்கள் \n",
      "இது அலெக்ஸாண்டர்-எட்மண்ட பெக்கெரெலின் கண்டுபிடிப்பினை அடிப்படையாகக் கொண்டது. அவர் சில பொருட்கள்  ஒளியிலிருந்து வரும் ஃபோட்டான் ஒளிக்கற்றைகளால் தாக்கப்படும்போது எலக்டிரான்களை வெளியிடுவதைக் கண்டார். அவை மின்னோட்டத்தை உற்பத்தி செய்கின்றன.[10] 1880 ஆம் ஆண்டுகளில், முதல் சூரிய மின்கலம் சார்ல்ஸ் பிரிட்ஸால் கட்டமைக்கப்பட்டது.[11] இருப்பினும், மூலமுன்மாதிரி செலினிய மின்கலம் அதன் மேல் விழுகிற ஒளியை 1 சதவீதத்திற்கும் குறைவான மின்சாரமாக மாற்றின. எர்னஸ்ட் வெர்னர் வோன் சீமென்ஸ் மற்றும் ஜேம்ஸ் கிளர்க் மாக்ஸ்வெல் ஆகியோர் இந்த கண்டுபிடிப்பின் முக்கியத்துவத்தை அங்கீகரித்தனர்.[12] 1940 ஆம் ஆண்டுகளில் செய்யப்பட்ட ரஸ்ஸெல் ஓஹல்லின் பணியினைத் தொடர்ந்து, ஆய்வாளர்கள் ஜெரால்ட் பியர்ஸ்சன், கால்வின் ஃபுல்லர் மற்றும் டாரில் சாபின் 1954 ஆம் ஆண்டில் சிலிக்கன் சூரிய மின்கலத்தை உருவாக்கினர்.[13] இத்தகைய தொடக்கக்கால சூரிய மின்கலங்கள் 1 வாட் அளவுடையது 286 அமெரிக்க டாலர் விலையையும் 4.5 சதவீதம் முதல் 6 சதவீதம் வரையிலான திறனையும் கொண்டிருந்தன.[14]\n",
      "சூரிய சக்தி அதிகமான சாத்தியங்களை உடையதாகும். ஆனால் 2008 ஆம் ஆண்டில், உலகின் மொத்த சக்தி விநியோகத்தில் 0.02 சதவீதத்திற்கும் குறைவாகவே அளித்தது. பல போட்டியிடும் தொழில்நுட்பங்கள் உள்ளன. அவற்றில் பதினான்கு வகையான ஃபோட்டோவோல்டிக் மின்கலங்கள் உள்ளன. இதில், மெல்லிய பிலிம், மோனோகிறிஸ்டல்லைன் சிலிக்கன், பாலிசிறிஸ்டலலைன் சிலிக்கன் மற்றும் அமோர்பஸ் மின்கலங்கள் போன்றவை உள்ளடங்குகின்றன. அதே போல பலவகையான செறிவூட்டப்பட்ட சூரிய சக்தியும் உள்ளன. எந்தத் தொழில்நுட்பம் மேலாதிக்கம் செலுத்தும் என்பதை அறிவது காலத்திற்கு முற்பட்ட செயலாகும்.\n",
      "வெகுமுந்தைய குறிப்பிடத்தக்க சூரிய மின்கலங்களின் பின் அளிப்பு செயற்பாடு 1958 ஆம் ஆண்டில் வான்கார்ட் I விண்கலத்திற்கான மின் வளமாக இருந்தது. அது இரசாயன மின்கலம் தீர்ந்த பிறகும் தொடர்ச்சியாக ஓராண்டிற்கு மேல் தகவல் அனுப்ப விண்கலத்தினை அனுமதித்தது.[15] இப்பணித் திட்டத்தில் சூரிய மின்கலங்களின் வெற்றிகரமான இயக்கம் பல சோவியத் மற்றும் அமெரிக்கர்களின் விண்கலங்களில் பிரதியெடுக்கப்பட்டது. 1960 ஆம் ஆண்டுகளின் இறுதியில், ஃபோட்டோவோல்டிக் விண்கலங்களுக்கு நிலைத்த சக்தி வளமானது.[16] வான்கார்ட் விண்கலத்தில் வெற்றிகரமாக சூரியத் தகடுகள் செயற்படுத்தப்பட்டப் பிறகு 1970 ஆம் ஆண்டுகளின் சக்திச் சிக்கல்கள் வரை, ஃபோட்டோவோல்டிக் சூரியத் தட்டுகள் விண்வெளி ஓடங்களின் பின் சக்தியளிப்புகளில் வெளிப்புற பயன்பாட்டினைப் பெற்றது.[17] ஃபோட்டோவோல்டியாக்கள் டெல்ஸ்டார் போன்ற முந்தைய வணிக ரீதியிலான விண்கலங்களின் வெற்றியில் அவசியமான பங்கினை வகிக்கத் தொடங்கின. மேலும் அவை இன்றைய தகவல்தொடர்புகளின் அடிப்படைக் கட்டமைப்பில் முக்கியமானவையாகத் தொடர்ந்து நீடிக்கின்றன.\n",
      " சூரிய மின்கலங்களின் உயர் விலையானது அதன் உலகளவிலான பயன்பாட்டினை 1960 ஆம் ஆண்டுகளின் முழுவதிலும் கட்டுப்படுத்தியது. இது 1970 ஆம் ஆண்டுகளின் தொடக்கத்தில் மாறியது. அப்போது விலை மட்டங்களின் குறைவு மின்வலையற்ற தூரப்பகுதிகளில் ஃபோட்டோவோல்டிக் உற்பத்தியைப் போட்டியிடக் கூடியதாக ஏற்படுத்தின. தொடக்கக்கால புவி சார்ந்த பயன்பாடுகளில் தகவல்தொடர்பு நிலையங்களுக்கு சக்தியளிக்க, தொலைகடல் எண்ணெய் துரப்பணிகள், கப்பல் வழிகாட்டி மிதவைகள் மற்றும் இரயில் பாதை கடப்புகள் ஆகியன இருந்தன.[18] இத்தகைய மின் சாராத செயற்பாடுகள், 2004 ஆம் ஆண்டு வரை உலகம் முழுதும் நிறுவப்பட்ட கொள்திறத்தில் பாதிக்கு மேற்பட்டதைக் கொண்டிருந்தன.[19]\n",
      "1973 ஆம் ஆண்டின் எண்ணெய் சிக்கல் 1970கள் மற்றும் 1980களின் தொடக்கத்திலும் ஒளிமின்னழுத்திய உற்பத்தியின் துரிதமான அதிகரிப்பினைத் தூண்டியது.[20] அதிகரிக்கும் உற்பத்தியும், அமைப்புச் செயற்பாட்டினுடனான மேம்பாடும் பேரளவு உற்பத்தி மூலம் செலவுக் குறைப்பை விளைவித்தது; ஃபோட்டோவோல்டிக்கின் விலையை 100 அமெரிக்க டாலர்/வாட் என்பதிலிருந்து 1985 ஆம் ஆண்டில் 7 அமெரிக்க டாலர்/வாட்டாகக் குறைத்தது.[21] 1980 ஆம் ஆண்டுகளில் நிதானமாக குறைந்து வந்த எண்ணெய் விலைகள் ஃபோட்டோவோல்டியாக்கின் R&amp;D (ஆய்வு மற்றும் மேம்பாட்டிற்கான) நிதியளிப்பின் குறைவிற்கு வழியேற்படுத்தியது. மேலும், 1978 ஆம் ஆண்டின் சக்தி வரிச் சட்டம்தொடர்பான வரி சலுகைகளை நிறுத்தவும் செய்தது. இத்தகைய காரணிகள் 1984 ஆம் ஆண்டு முதல் 1996 ஆம் ஆண்டிற்கு இடையே வளர்ச்சியை ஏறக்குறைய ஆண்டுத்தோறும் 15 சதவீத அளவிற்கு மிதமாக்கின.[22]\n",
      "1990 ஆம் ஆண்டுகளின் மத்தியிலிருந்து, ஒளிமின்னழுத்திய துறையின் தலைமை, அமெரிக்காவிலிருந்து ஜப்பான் மற்றும் ஐரோப்பாவிற்கு இடம் பெயர்ந்தது. 1992 - 1994 ஆம் ஆண்டிற்கு இடையில், ஜப்பான் ஆய்வு மற்றும் வளர்ச்சி நிதியை அதிகரித்தது. நிகர அளவை வழிக்காட்டுதல்கள் நிறுவப்பட்டன. மேலும், குடியிருப்புகளில் ஃபோட்டோவோல்டியாக்கை நிறுவுவதை ஊக்குவிக்க ஒரு மானிய திட்டத்தை அறிமுகப்படுத்தியது.[23] இதன் விளைவாக, அந் நாட்டில் ஃபோட்டோவோல்டியாக்கை நிறுவுவது  1994 ஆம் ஆண்டில் 31.2 மெகாவாடிலிருந்து 1999 ஆம் ஆண்டில் 318 மெகாவாட்டாக உயர்ந்தது. மேலும், உலகம் முழுவதுமான உற்பத்தி வளர்ச்சி 1990 ஆம் ஆண்டுகளில் 30 சதவீதமாக அதிகரித்தது.[24][25]\n",
      "ஜெர்மனி அதன் மறுசுழற்சி எரிசக்தி வளங்கள் சட்டத்தின் ஒரு பகுதியாக உள்ளீட்டு கட்டணங்களை மறுஆய்வு செய்ததிலிருந்து உலகம் முழுவதற்குமான முன்னணி ஃபோட்டொவோல்டிக் சந்தையாக மாறியது. ஜெர்மனியில் நிறுவப்பட்ட ஃபோட்டோவோல்டிக் கொள்திறன் 2000 ஆம் ஆண்டில் 100 மெகாவாட்டிலிருந்து 2007 ஆம் ஆண்டின் இறுதியில் ஏறக்குறைய 4,150 மெகாவாட்டாக உயர்ந்தது.[26][27] 2007 ஆம் ஆண்டிற்கு பிறகு, ஸ்பெயின்  இது போன்ற உள்ளீட்டு கட்டண கட்டமைப்பை 2004 ஆம் ஆண்டில் ஏற்றுக்கொண்டப் பிறகு உலகின் பாதியளவு ஃபோட்டோவோல்டியாக்களை (45%) நிறுவியதால் பெரிய ஃபோட்டோவோல்டிக் சந்தையாக மாறியது. பிரான்ஸ், இத்தாலி, தென் கொரியா மற்றும் அமெரிக்கா ஆகியவை சமீபத்தில் பல்வேறு ஊக்குவிப்பு திட்டங்கள் மற்றும் உள்ளூர் சந்தை நிலவரங்களினால் வேகமான வளர்ச்சியைக் கண்டன.[28] வீட்டு ஃபோட்டோவோல்டியாக் கருவிகளின் மின் உற்பத்தி வழக்கமாக கிலோவாட்-பீக் (kWp) அலகுகளாக விவரிக்கப்பட்டுள்ளன. அவற்றில்பெரும்பாலனவை 1லிருந்து 10kW-டிற்குள் வரும்.[29]\n",
      "செறிவூட்டப்பட்ட ஒளிமின்னழுத்தியங்களின் சக்தி சூரியனிலிருந்து மின் உற்பத்தி செய்வதற்கான மற்றொரு புதிய வழிமுறையாகும். செறிவூட்டப்பட்ட ஒளிமின்னழுத்திய அமைப்புகள் மின்சார சக்தி உற்பத்தியினைச் செய்யும் நோக்கில் சூரிய ஒளியினைக் கையாண்டு ஒளிமின்னழுத்தியத்தின் மேற்பரப்பில்  ஒருமுகப்படுத்துகின்றன. சூரிய குவிப்பான்களின் அனைத்து வகைகளும் பயன்படுத்தப்படலாம். அவை சூரிய தடப் பற்றியின் மீது ஏற்றப்பட்டிருக்கும். அவ்வாறு இருப்பது சூரியன் வானத்தில் நகர்வதால் குவிமையத்தினை மின்கலத்தின் மீது வைத்திருப்பதற்காகும். தட்டையான தகடு ஒளிமின்னழுத்திய உற்பத்தி குளிர்காலத்தில் 20 சதவீதமும் கோடையில் 50 சதவீதமுமாக அதிகரிக்கலாம்.[30]\n",
      " சோதனை சார்ந்த சூரிய சக்தி \n",
      "ஒரு 'மேல்இழுப்பு' சூரிய கோபுரத்தில் (சூரிய கூண்டு அல்லது சூரிய கோபுரம்) பசுமைக்குடில் உள்ளது அது புனல் வழியே மத்திய கோபுரத்திற்கு செல்கிறது. சூரிய வெளிச்சம், பசுமைக்குடிலின் மீது ஒளிரும் போது உள்ளிருக்கும் காற்று சூடேற்றப்பட்டு விரிவடைகிறது. விரிவடையும் காற்று மத்திய கோபுரத்தை நோக்கி பாய்கிறது, அங்கு ஒரு விசையாழி பாய்கின்ற காற்றினை மின் சக்தியாக மாற்றுகிறது. ஒரு 50கிலோவாட் மூல முன் மாதிரி ஸ்பெயினின் சியுடாட் ரியலில் நிறுவப்பட்டது. எட்டாண்டுகளுக்கு இயக்கப்பட்டு 1989 ஆம் ஆண்டில் செயல்நிலை நீக்கம் செய்யப்பட்டது.[31]\n",
      "வெப்ப நிலை மாற்றத்தால் உண்டாகும் மின்சாரம் அல்லது \"வெப்ப நிலை உண்டாக்கி\" கருவிகள், ஒத்திராத ஆக்கப்பொருட்களின் மத்தியில் ஒரு வெப்பநிலை வேறுபாட்டை மின்னோட்டமாக மாற்றுகின்றன. 1800 ஆம் ஆண்டுகளில், சூரிய சக்தியை கண்டெடுத்த முன்னோடி மவுசோவினால் முதன் முதலில் சூரியச் சக்தியானது சேமித்து வைக்கப்படும் முறையாக பரிந்துரைக்கப்பட்டது. வெப்ப நிலை மாற்றத்தால் உருவாக்கப்படும் மின்சாரம் சோவியத் யூனியனில் 1930 ஆம் ஆண்டுகளில் மீண்டும் வெளிப்பட்டது.[32] சோவியத் அறிவியலாளர் அப்ராம் லோஃப்பின் இயக்குதலின் கீழ் ஒரு செறிவூட்டப்பட்ட அமைப்பு வெப்ப நிலை மாற்றத்தால் உற்பத்தி செய்யப்படும் சக்தியை 1எச்பி இயந்திரத்தை இயக்கப் பயன்படுத்தினர்.[33] வெப்ப நிலையால் மின்சாரம் செய்யப்படும் உற்பத்தி பின்னர் அமெரிக்க விண்வெளி திட்டத்தில் ஆற்றலை மாற்றியமைக்கும் ஒரு தொழில்நுட்பமாக ஆனது. அது தூர விண்வெளி திட்டங்களான காசினி, கலீலியோ மற்றும் வைகிங் போன்றவற்றிற்கு ஆற்றலளிக்கப் பயன்படுத்தப்பட்டது. இந்த ஆய்வுப்பகுதி, இக்கருவிகளின் திறனை 7 முதல் 8 சதவீதத்திலிருந்து 15 முதல் 20 சதவீதமாக உயர்த்துவதில் கவனம் செலுத்தியது.[34]\n",
      " வளர்ச்சி, நிலைநிறுத்தல் மற்றும் பொருளியல் \n",
      "\n",
      "தொழிற் புரட்சியின்போது உடனிணைந்த கரி பயன்பாட்டின் அதிகரிப்போடு தொடங்கிய சக்தி நுகர்வானது இடைப்பட்ட காலத்தில் நிலையாக மாற்றமடைந்து மரக்கட்டையிலிருந்து கழிவுப்பொருட்களின் பயன்பாட்டிற்கு மாறி பிறகு படிம எரிபொருட்களுக்கு சென்றது. 1860 ஆம் ஆண்டுகளில் சூரியத் தொழில்நுட்பங்களின் தொடக்கக்கால வளர்ச்சியானது, விரைவில் கரியானது பற்றாக்குறையாக மாறக்கூடும் என்ற எதிபார்ப்பின்படி தூண்டப்பட்டதாகும். இருப்பினும், சூரிய தொழில்நுட்பத்தின் வளர்ச்சியானது 20 ஆம் நூற்றாண்டின் தொடக்கத்தில் அதிகரித்து வந்த கரியின் அளவு, சிக்கனம், கரியின் பயன்பாடு மற்றும் பெட்ரோலியம் போன்றவற்றின் முகாந்திரத்தால் தேங்கியது.[35]\n",
      "1973 ஆம் ஆண்டின் எண்ணெய்த் தடை மற்றும் 1979 ஆம் ஆண்டு சக்தி சிக்கல் உலகம் முழுவதும் எரிசக்தி கொள்கைகளில் மறு ஒழுங்கினுக்கு காரணியாக்கியது. மேலும், மறுபடியும் புதிதாக்கப்பட்ட கவனத்தை சூரியத் தொழில்நுட்பங்களில் கொண்டு வரச் செய்தது.[36][37] நிலை நிறுத்தல் உத்திகள் ஊக்கமளிப்புத் திட்டங்களில் கவனம் கொண்டது. இவை அமெரிக்காவின் மைய ஃபோட்டோவோல்டியாக் பயன்பாட்டுத் திட்டம் மற்றும் ஜப்பானின் சன்ஷைன் திட்டம் போன்றவையாகும். பிற முயற்சிகளில் உள்ளடங்கியவை அமெரிக்காவில் (SERI தற்போது NREL), ஜப்பானின் (NEDO) மற்றும் ஜெர்மனியின் (பிரான்ஹோஃபெர் சூரிய எரிசக்தி அமைப்புகள் நிறுவனம் ISE) ஆய்வு வசதிகள் நிறுவுதல்கள் ஆகும்.[38]\n",
      "1970 ஆம் ஆண்டிற்கும் 1983 ஆம் ஆண்டிற்கும் இடையே ஒளிமின்னழுத்திய நிறுவுதல்கள் வேகமாக வளர்ந்தன. ஆனால் 1980 ஆம் ஆண்டுகளில் குறைந்து வந்த எண்ணெய் விலைகள் ஒளிமின்னழுத்திய வளர்ச்சியை 1984 ஆம் ஆண்டு முதல் 1996 ஆம் ஆண்டு வரை மிதமாக்கின.[39] ஃபோட்டோவோல்டியாக்கின் உறபத்தி 2000 ஆம் ஆண்டிலிருந்து வருடத்திற்கு 40 சதவீதமாக சராசரி வளர்ச்சியுடனிருந்தது. 2007 ஆம் ஆண்டின் இறுதியில் நிறுவப்பட்டத் திறன் 10.6 (GW) கிகாவாட்டாக இருந்தது,[19] 2008 ஆம் ஆண்டில் 14.73 (GW) கிகாவாட்டாகியது.[40] 2006 ஆம் ஆண்டிலிருந்து ஃபோட்டோவோல்டியாக்ஸ்சை நிபந்தனையற்ற முறையில் நீண்ட நாள் மின் நுகர்வு உடன்பாடுகளின் கீழ் நிறுவுவது முதலீட்டாளர்களுக்கு சிக்கனமானதாக இருந்தது. 2007 ஆம் ஆண்டில் 50 சதவீத வர்த்தக அமைப்புகள் இந்த விதத்தில் நிறுவப்பட்டன. மேலும் 2009 ஆம் ஆண்டில் இவ்வாறே 90% எதிர்பார்க்கப்படுகிறது.[41][42][43]\n",
      "வணிக ரீதியிலான செறிவூட்டப்பட்ட சூரிய வெப்பமின் சக்தி (CSP) கூடங்கள் முதலில் 1980 ஆம் ஆண்டுகளில் உருவாக்கப்பட்டன.[44] ஸ்பெயினின் 11 மெகாவாட் PS10 சக்தி கோபுரம், 2005 ஆம் ஆண்டின் இறுதியில் முடிவடைந்தது. இது ஐரோப்பாவின் முதல் வணிக ரீதியிலான CSP அமைப்பாகும். மேலும் 2013 ஆம் ஆண்டில் அதே பகுதியில் 300 மெகாவாட் திறனை மொத்தமாக நிறுவிக்கொள்ளுமென எதிர்பார்க்கப்படுகிறது.[45]\n",
      "2009 ஆம் ஆண்டு ஆகஸ்டில், ஃபர்ஸ்ட் சோலார் சீன நாட்டின் இன்னர் மங்கோலியாவின் ஓர்டோஸ் நகரில் 2 கிகாவாட் ஒளிமின்னழுத்திய அமைப்பை நான்கு கட்டங்களாக 2010 ஆம் ஆண்டில் 30 மெகாவாட், 2014 ஆம் ஆண்டில் 970 மெகாவாட், மற்றொரு 1000 மெகாவாட்டை 2019 ஆம் ஆண்டிலும் கட்டுவிக்கத் திட்டங்களை அறிவித்தது. 2009 ஆம் ஆண்டு ஜூன் 9ம் தேதி வரை, வடக்கு குஜராத்தின் பனஸ்கந்தா மாவட்டத்தில் புதிய சூரிய வெப்ப மின் சக்தி நிலையம் கட்டுவிக்கப்பட்டு வந்தது. அது முடிவடைந்தால், உலகிலேயே அது தான் பெரிய உற்பத்தி நிலையமாக இருக்கும்.[46]\n",
      "\n",
      "சூரியச் சக்தி நிறுவுதல்கள் சமீபக்கால வருடங்களில் குடியிருப்புப் பகுதிகளிலும் நீடிக்கப்படத் தொடங்கியுள்ளன. இவை அரசுகளின் ஊக்கத் திட்ட அளிப்புகளோடு \"பசுமை\" சக்தியை ஓர் அதிக பொருளாதார ரீதியிலான வளம்பெறக்கூடிய மாற்றாக ஆக்குகின்றன. 2006 ஆம் ஆண்டு கனடாவில் RESOP (புதுபிக்கக்கூடிய எரிசக்தி நிலையான வழங்கல் திட்டம்) அறிமுகப்படுத்தப்பட்டது.[47] இது 2009 ஆம் ஆண்டில், கிரீன் எனர்ஜி சட்டத்தின் நிறைவேற்றுதலோடு புதுப்பிக்கப்பட்டது. ஓண்டோரியோவின் குடியிருப்பு வீட்டு உரிமையாளர்களை அவர்களின் சூரியத் தகடுகளின் நிறுவுதல்கள் மூலம் உற்பத்திச் செய்யப்பட்ட சக்தியை மீண்டும் மின் வலைக்கு (அதாவது அரசுக்கு) 42¢/kWhற்கு விற்க அனுமதிக்கிறது, அதே சமயம் மின் வலையிலிருந்து சராசரி 6¢/kWh விலையில் சக்தியினை பெறுகிறது (உள்ளீட்டுக் கட்டணங்கள் காண்க).[48] இந்த திட்டம், அரசின் பசுமை அட்டவணையினை உயர்த்த உதவுவதற்காக வரையப்பட்டது மற்றும் சக்திவலைகளின் மீது உச்சக் காலங்களில் அடிக்கடி ஏற்றப்படும் சுமையைக் குறைக்கவுமானது. 2009 ஆம் ஆண்டு மார்ச் மாதத்தில், சிறிய மற்றும் கூரை மீது பொருத்தப்படும் அமைப்பு (≤10kW), முன்மொழியப்பட்ட FIT 80¢/kWh ஆக உயர்த்தப்பட்டது.[49]\n",
      "\n",
      "EPIA வால் ஏற்பாடு செய்யப்பட்ட வருடாந்திர சர்வதேச சூரிய ஒளிமின்னழுத்திய முதலீடுகளின் மாநாடு குறிப்பிடுவது: ஒளிமின்னழுத்தியங்கள் ஓர் பாதுகாப்பை, நம்பத்தகுந்த முதலீட்டு பலனளிப்பை, வழமையான அலகு அளவீட்டின்படி 25 முதல் 40 வருடங்கள் வரை நீடிப்பவையாக, முதலீட்டிற்கு இலாபகரமாய் 8 லிருந்து 12 ஆண்டுகள் வரை இருப்பனவற்றை கொடுக்கின்றன என்கிறது.[52]\n",
      "நிதி ஊக்கங்கள் சூரியச் சக்தி உற்பத்திக்காக நிறுவுவனவற்றினை ஆதரிப்பவை சூரிய ஃபோட்டோவோல்டியாக்ஸ்க்கான அதிகரித்து வரும் தேவையை குறிவைத்து, அவை மரபு ரீதியிலான சக்தி உற்பத்திகளுடன் போட்டியிடக் கூடியதாக மாற்றும் நோக்கம் கொண்டவை. மற்றொரு தேவையை உயர்த்தும் புதுமையான கண்டுபிடிப்பு வழி கல்வி நிறுவனங்களின் (பல்கலைக்கழகங்கள் மற்றும் கல்லூரிகள்) பசுமை நுகர்வு சக்தியைப் பயன்படுத்திக் கொள்வதாகும். இது உலகம் முழுதும் மரபு சாரா வளங்களுக்குச் சாதகமான சுருள்-விளைவைத் தருகிற ஆற்றல்மிக்க செல்வாக்குடைய வினையூக்கியாகக் காட்டப்படுகிறது.[53]\n",
      " சக்தி சேமிப்பு முறைகள் \n",
      "\n",
      "சூரியச் சக்தி இரவு நேரங்களில் கிடைக்காது என்பதால், தொடர்ச்சியான சக்தி கிடைகின்றபடி செய்யப்பட சக்தி சேமிப்பை ஓர் முக்கிய விஷயமாக்குகிறது.[54] காற்றுச் சக்தி மற்றும் சூரியச் சக்தி இரண்டும் இடைவிட்டுக் கிடைக்கின்ற வளங்களாகும், அதன் பொருள் கிடைக்கின்ற அனைத்து உற்பத்திகளும் அவை கிடைக்கின்றப் போது எடுத்துக் கொள்ளப்பட வேண்டும் மற்றும் எப்போது தேவையோ அப்போது பயனாகவோ அல்லது மின் கடத்தி வரிசைகளின் மூலம் எங்கு பயன்படுத்தப்படுமோ அங்கு இடம் மாற்றப்படலாம் என்பதாகும். காற்றுச் சக்தி மற்றும் சூரியச் சக்தி ஆகியவை, குளிர் காலங்களில் அதிக காற்று அனுபவிக்கப்படும் இடங்களிலும் கோடையில் அதிக சூரிய வெளிச்சத்தையும் இணைத்து முழுமையாக்கவல்லவை. ஆனால் சூரியனும் காற்றும் அற்ற நாட்களில் வேறுபாடானது சில வழிவகைகளில் தீர்வுக் காணப்படத் தேவையுள்ளது.[55]\n",
      "சோலார் டூ இந்த சக்தி சேமிப்பு வழிமுறையைப் பயன்படுத்தி அதன் 68 m³ சேமிப்புத் தொட்டியில் போதுமான வெப்பத்தினை தேக்கி வைத்து, முழு உற்பத்தியான 10 MWeஐ சுமார் 99% செய்திறனுடன் 40 நிமிடங்களுக்குக் கொடுக்கிறது.[56]\n",
      "உப்புக்கள் திறன் வாய்ந்த சேமிப்பு வழியாகும் ஏனெனில் அவை குறைவான விலைக் கொண்டவை, குறிப்பிடத் தகுந்த உயர் வெப்பக் கொள்திறன் கொண்டவை, மேலும் வெப்பத்தை மரபு வழிப்பட்ட சக்தி அமைப்புகளின் உடனொத்த வெப்ப நிலைகளை வெளியிடத்தக்கவை, சூரியச் சக்தியின் இடைவிடும் தன்மையை நீக்கும் திறனைக் கொண்டவையாகும். வெப்பத்தின் வடிவத்தில் உபரி சூரியச் சக்தியினை தேக்கி வைத்து, மேலும் இந்த வெப்பத்தை ஓரிரவிற்கும் அல்லது மின்சாரத்தை உற்பத்தி செய்ய சூரியச் சக்தி கிடைக்காத காலங்களின் போதும் பயன்படுத்தலாம். இந்தத் தொழில்நுட்பம் சூரியச் சக்தியினை விரைவாகச் செயலாற்றக் கூடியதாக உருவாக்குகின்ற திறன் படைத்தது, விருப்பப்படும்போது மின்சாரத்தை உற்பத்திச் செய்ய வெப்ப வளமானது என்பதால் பயன்படுத்தப்படலாம். சூரியச் சக்தி நிறுவுதல்கள் வழமையாக பிறசேர்ப்புகளான சேமிப்பு அல்லது இதர சக்தி வளங்களான ஓர் உதாரணத்திற்கு காற்று சக்தியுடன் மற்றும் நீர் மின்சாரத்துடனோ இருக்கும்.\n",
      "மின் வலைச் சாராத ஃபோட்டோவோல்டிக் அமைப்புகள் மரபுரீதியாக மின்சக்தியின் மறுசெறிவுக்கு மின்கலங்களை உபரி மின்சாரத்தை சேமிக்க பயன்படுத்தின. மின்வலையுடனான அமைப்புகளில், உபரி மின்சாரம் மின் விநியோக மின் வலைக்கு அனுப்பப்பட முடியலாம். நிகர அளவை திட்டங்கள் இத்தகைய அமைப்புகளுக்கு ஓர் சலுகையினை அவை மின் வலைக்கு அளிக்கும் மின்சாரத்திற்கு அளிக்கின்றன. இந்தச் சலுகை குறை நிரப்பீடாக மின்சாரத்தை மின் வலையிலிருந்து அமைப்பு தேவையினை நேர் கொள்ள முடியாதபோது கொடுக்கப்படுவது, மின்வலையை திறன்மிக்க சேமிப்பு பின்னணி இயக்க ஏற்பாடாகப் பயன்படுத்துகிறது. சலுகைகள் பொதுவாக மாதத்திற்கு மாதம் நீடிக்கப்படுவதாகும் மற்றும் எவ்வித மீதமிருக்கும் உபரியும் ஆண்டுத்தோறும் தீர்க்கப்படும்.[57]\n",
      "இறைக்கப்பட்ட-சேமிப்பு நீர் மின்சார கிடங்குகள் உபரி மின்சாரம் கிடைக்கும்போது போது மின்சாரத்தை இறைக்கப்படும் நீர் வடிவத்தில், கீழ் நிலையிலுள்ள உயர்த்தப்பட்ட நீர் தேக்கத்திலிருந்து அதிக உயர் நீர் தேக்கத்தில் தேக்கிவைக்கின்றன. சக்தியானது தேவை அதிகரித்து நீரை திறந்துவிடும்போது மீட்கப்படுகிறது: இறைப்பு ஓர் விசையாழியாகிறது, மற்றும் இயக்குதசை ஓர் நீர் மின்சார சக்தி மின் ஆக்கியாகவும் ஆகின்றது.[58]\n",
      "சக்தி வளங்களை ஓர் சக்திக் கூடத்தில் கூட்டிணைப்பது கிடங்கு விஷயங்களையும் குறிவைக்கின்றன. காஸெல் பல்கலைகழகத்தின் சூரிய சக்தி அளிப்பு தொழில்நுட்ப நிறுவனம் முன்மாதிரி சோதனையாக மாற்று மின் சக்தியினைக் கொடுக்க முற்றிலும் மரபு சாரா வளங்களிலிருந்து ஓர் கூட்டுச் சக்திக் கூடத்தை சூரிய, காற்று, கழிவுப் பொருட்கள் வாயு மற்றும் நீர்க்கிடங்கு போன்றவற்றின் இணைப்பாக நடத்தியது.[59]\n",
      " குறிப்புகள் \n",
      "\n",
      " புற இணைப்புகள் \n",
      " \n",
      " \n",
      "\n",
      "  சூரிய வெப்பச் சக்தி தொழில் 2007 இல் ஏற்றத்தை அனுபவித்தது, அது உலகம் முழுமைமைக்குமான 100 மெகா வாட் புதிய கொள்திறனுடன் இருந்தது.\n",
      "\n",
      "\n",
      "\n",
      "\n",
      "\n",
      "\n",
      "\n",
      "பகுப்பு:ஆற்றல்\n",
      "பகுப்பு:மேற்கோள் வழுவுள்ள பக்கங்கள்-கூகுள் தமிழாக்கம்\n"
     ]
    }
   ],
   "source": [
    "print(train[train.id==\"1d9539cf3\"]['context'].values[0])"
   ]
  },
  {
   "cell_type": "code",
   "execution_count": 94,
   "id": "173f6431-f9c0-4b90-b183-0162617a9e3c",
   "metadata": {
    "collapsed": true,
    "jupyter": {
     "outputs_hidden": true
    },
    "tags": []
   },
   "outputs": [
    {
     "data": {
      "text/html": [
       "<div>\n",
       "<style scoped>\n",
       "    .dataframe tbody tr th:only-of-type {\n",
       "        vertical-align: middle;\n",
       "    }\n",
       "\n",
       "    .dataframe tbody tr th {\n",
       "        vertical-align: top;\n",
       "    }\n",
       "\n",
       "    .dataframe thead th {\n",
       "        text-align: right;\n",
       "    }\n",
       "</style>\n",
       "<table border=\"1\" class=\"dataframe\">\n",
       "  <thead>\n",
       "    <tr style=\"text-align: right;\">\n",
       "      <th></th>\n",
       "      <th>id</th>\n",
       "      <th>context</th>\n",
       "      <th>question</th>\n",
       "      <th>answer_text</th>\n",
       "      <th>answer_start</th>\n",
       "      <th>language</th>\n",
       "    </tr>\n",
       "  </thead>\n",
       "  <tbody>\n",
       "    <tr>\n",
       "      <th>21</th>\n",
       "      <td>fc36a6c01</td>\n",
       "      <td>யமுனை ஆறு\\nவட இந்தியாவின் முக்கியமான ஆறுகளுள் ...</td>\n",
       "      <td>யமுனை ஆற்றின் நீளம் என்ன?</td>\n",
       "      <td>1,376  கிலோ மீட்டர்</td>\n",
       "      <td>880</td>\n",
       "      <td>tamil</td>\n",
       "    </tr>\n",
       "    <tr>\n",
       "      <th>29</th>\n",
       "      <td>1d9539cf3</td>\n",
       "      <td>தடித்த எழுத்துக்கள்\\n\\n\\n\\n\\nPart of a series ...</td>\n",
       "      <td>சூரிய சக்தியைக் கண்டுபிடித்தவர் யார்?</td>\n",
       "      <td>அலெக்ஸாண்டர்-எட்மண்ட பெக்கெரெலின்</td>\n",
       "      <td>6533</td>\n",
       "      <td>tamil</td>\n",
       "    </tr>\n",
       "    <tr>\n",
       "      <th>42</th>\n",
       "      <td>b53b67d39</td>\n",
       "      <td>ரேடியம் (Radium) என்பது Ra என்ற மூலக்கூற்று வா...</td>\n",
       "      <td>ரேடியத்தை கண்டுபிடித்தவர் யார்?</td>\n",
       "      <td>மேரிகியூரி மற்றும் பியரிகியூரி தம்பதியரால்</td>\n",
       "      <td>990</td>\n",
       "      <td>tamil</td>\n",
       "    </tr>\n",
       "    <tr>\n",
       "      <th>59</th>\n",
       "      <td>b80726212</td>\n",
       "      <td>மனித மூளை மனித நரம்பு மண்டலத்தின் தலைமையானதும்...</td>\n",
       "      <td>மனித முளை எந்த நிறத்தில் இருக்கும்?</td>\n",
       "      <td>வெளிப்பரப்பு அடர்த்தியான சாம்பல் நிறத்திலும், ...</td>\n",
       "      <td>3726</td>\n",
       "      <td>tamil</td>\n",
       "    </tr>\n",
       "    <tr>\n",
       "      <th>81</th>\n",
       "      <td>d75178d00</td>\n",
       "      <td>கதிரவ அமைப்பு (Solar System) அல்லது சூரியக் கு...</td>\n",
       "      <td>நமது சூரிய மண்டலத்தில் எத்தனை கிரகங்கள் உள்ளன?</td>\n",
       "      <td>எட்டு கோள்களையும், ஐந்து குறுங்கோள்களையும்</td>\n",
       "      <td>196</td>\n",
       "      <td>tamil</td>\n",
       "    </tr>\n",
       "    <tr>\n",
       "      <th>85</th>\n",
       "      <td>5502c73af</td>\n",
       "      <td>மெக்சிக்கோ (எசுப்பானியம்: México, \"மெஹிக்கோ\") ...</td>\n",
       "      <td>மெக்சிகோ நாட்டின் பரப்பளவு என்ன?</td>\n",
       "      <td>இரண்டு மில்லியன் சதுர கிலோமீட்டர்</td>\n",
       "      <td>431</td>\n",
       "      <td>tamil</td>\n",
       "    </tr>\n",
       "    <tr>\n",
       "      <th>93</th>\n",
       "      <td>a7292ab0f</td>\n",
       "      <td>{{IPA}}, formats symbols of the International ...</td>\n",
       "      <td>கேரளாவில் பேசப்படும் மொழி எது?</td>\n",
       "      <td>மலையாத்துடன், தமிழ், கன்னடம், உருது மற்றும் கொ...</td>\n",
       "      <td>4486</td>\n",
       "      <td>tamil</td>\n",
       "    </tr>\n",
       "    <tr>\n",
       "      <th>168</th>\n",
       "      <td>d9da39b42</td>\n",
       "      <td>செம்மறியாடு (Sheep, Ovis aries) என்பது, நாலுகா...</td>\n",
       "      <td>செம்மறியாடுக்கு எத்தனை கொம்புகள் உள்ளன?</td>\n",
       "      <td>பொருத்து பெரும்பாலான செம்மறி ஆடுகளுக்கு கொம்பு...</td>\n",
       "      <td>2183</td>\n",
       "      <td>tamil</td>\n",
       "    </tr>\n",
       "    <tr>\n",
       "      <th>198</th>\n",
       "      <td>11d635808</td>\n",
       "      <td>ஸ்ரீபதி பண்டிதாரத்யுல பாலசுப்ரமணியம் (பிறப்பு ...</td>\n",
       "      <td>எஸ். பி. பாலசுப்பிரமணியத்தின் முதல் பாடல் எது?</td>\n",
       "      <td>அத்தானோடு இப்படியிருந்து ௭த்தனை நாளாச்சு</td>\n",
       "      <td>1177</td>\n",
       "      <td>tamil</td>\n",
       "    </tr>\n",
       "    <tr>\n",
       "      <th>202</th>\n",
       "      <td>45217c3cb</td>\n",
       "      <td>அப்துல் ரகுமான்,(நவம்பர் 9, 1937 - சூன் 2, 201...</td>\n",
       "      <td>கவிஞர் அப்துல் ரகுமான் எங்கு பிறந்தார்?</td>\n",
       "      <td>மதுரையில் வைகை ஆற்றின்  தென்கரையில்</td>\n",
       "      <td>1158</td>\n",
       "      <td>tamil</td>\n",
       "    </tr>\n",
       "    <tr>\n",
       "      <th>235</th>\n",
       "      <td>de2d1e19a</td>\n",
       "      <td>பேரரசன் அலெக்சாந்தர் அல்லது மகா அலெக்சாண்டர் (...</td>\n",
       "      <td>பேரரசர் அலெக்சாந்தர் எப்போது பிறந்தார்?</td>\n",
       "      <td>கிமு 356 ஆம் ஆண்டு சூலை மாதம் 6</td>\n",
       "      <td>2468</td>\n",
       "      <td>tamil</td>\n",
       "    </tr>\n",
       "    <tr>\n",
       "      <th>260</th>\n",
       "      <td>c04e23e52</td>\n",
       "      <td>தில்லி, மும்பை, கொல்கத்தா, சென்னை, பெங்களூர், ...</td>\n",
       "      <td>இந்தியாவில் எத்தனை பெருநகரங்கள் உள்ளன?</td>\n",
       "      <td>தில்லி, மும்பை, கொல்கத்தா, சென்னை, பெங்களூர், ...</td>\n",
       "      <td>0</td>\n",
       "      <td>tamil</td>\n",
       "    </tr>\n",
       "    <tr>\n",
       "      <th>264</th>\n",
       "      <td>c500edbe8</td>\n",
       "      <td>ஸ்ரீபதி பண்டிதாரத்யுல பாலசுப்ரமணியம் (பிறப்பு ...</td>\n",
       "      <td>எஸ். பி. பாலசுப்பிரமணியம் எங்கு பிறந்தார்?</td>\n",
       "      <td>நெல்லூர் மாவட்டம், மெட்ராஸ் மாகாணம் தற்போது ஆந...</td>\n",
       "      <td>60</td>\n",
       "      <td>tamil</td>\n",
       "    </tr>\n",
       "    <tr>\n",
       "      <th>266</th>\n",
       "      <td>ec2871c3f</td>\n",
       "      <td>சிங்கம் என்பது பாலூட்டி வகையைச் சேர்ந்த ஒரு கா...</td>\n",
       "      <td>சிங்கத்தின் சராசரி ஆயுட்காலம் என்ன?</td>\n",
       "      <td>ஆண் சிங்கங்களின் சராசரி ஆயுட்காலம் 12 வருடங்கள...</td>\n",
       "      <td>1914</td>\n",
       "      <td>tamil</td>\n",
       "    </tr>\n",
       "    <tr>\n",
       "      <th>275</th>\n",
       "      <td>6fc07dbd9</td>\n",
       "      <td>ஜெயமோகன் (Jeyamohan), பிறப்பு: 22 ஏப்ரல் 1962)...</td>\n",
       "      <td>எழுத்தாளர் ஜெயமோகனின் சொந்த ஊர் எது?</td>\n",
       "      <td>குமரி மாவட்டம் விளவங்கோடு வட்டம், திருவரம்பு</td>\n",
       "      <td>359</td>\n",
       "      <td>tamil</td>\n",
       "    </tr>\n",
       "    <tr>\n",
       "      <th>301</th>\n",
       "      <td>ca3ad7ff8</td>\n",
       "      <td>அய்யாவழி, (அய்யா+வழி --&amp;gt; தந்தையின் வழி, இறை...</td>\n",
       "      <td>அய்யாவழியின் முதன்மை புனித நூல் எது?</td>\n",
       "      <td>அகிலத்திரட்டு அம்மானை, அருள் நூல்</td>\n",
       "      <td>946</td>\n",
       "      <td>tamil</td>\n",
       "    </tr>\n",
       "    <tr>\n",
       "      <th>348</th>\n",
       "      <td>c35fe946a</td>\n",
       "      <td>எம். ஜி. ஆர் என்ற பெயரில் புகழ் பெற்ற, மருதூர்...</td>\n",
       "      <td>எம். ஜி. ஆர்  எங்கு பிறந்தார்?</td>\n",
       "      <td>இலங்கையின் கண்டிக்கு அருகேயுள்ள நாவலப்பிட்டியி...</td>\n",
       "      <td>946</td>\n",
       "      <td>tamil</td>\n",
       "    </tr>\n",
       "    <tr>\n",
       "      <th>353</th>\n",
       "      <td>1f8bfb208</td>\n",
       "      <td>இந்திய தேசிய காங்கிரஸ் (English: Indian Nation...</td>\n",
       "      <td>காங்கிரஸ் கட்சி இந்தியாவை நிறுவியவர் யார்?</td>\n",
       "      <td>உமேஷ் சந்திர பானர்ஜி, தாதாபாய் நௌரோஜி, ஆலன் ஆக...</td>\n",
       "      <td>1123</td>\n",
       "      <td>tamil</td>\n",
       "    </tr>\n",
       "    <tr>\n",
       "      <th>391</th>\n",
       "      <td>95b375be4</td>\n",
       "      <td>एनिऐक (ENIAC) (pronounced/ˈɛniæk/(deprecated t...</td>\n",
       "      <td>पहला कंप्यूटर किसने बनाया था?</td>\n",
       "      <td>जॉन मौच्ली और जे. प्रेसपर एकर्ट</td>\n",
       "      <td>2031</td>\n",
       "      <td>hindi</td>\n",
       "    </tr>\n",
       "    <tr>\n",
       "      <th>418</th>\n",
       "      <td>dbf1301d6</td>\n",
       "      <td>शुक्र (Venus), सूर्य से दूसरा ग्रह है और प्रत्...</td>\n",
       "      <td>सूरज से शुक्र कितनी दूर है?</td>\n",
       "      <td>0.72  एयू</td>\n",
       "      <td>16038</td>\n",
       "      <td>hindi</td>\n",
       "    </tr>\n",
       "    <tr>\n",
       "      <th>530</th>\n",
       "      <td>3ede29c1f</td>\n",
       "      <td>चंगेज़ ख़ान (मंगोलियाई: Чингис Хаан, चिंगिस खा...</td>\n",
       "      <td>चंगेज़ ख़ान का जन्म कहाँ हुआ था?</td>\n",
       "      <td>मंगोलिया के उत्तरी भाग में ओनोन नदी के निकट</td>\n",
       "      <td>2252</td>\n",
       "      <td>hindi</td>\n",
       "    </tr>\n",
       "    <tr>\n",
       "      <th>561</th>\n",
       "      <td>52181ad2d</td>\n",
       "      <td>एडोल्फ हिटलर (२० अप्रैल १८८९ - ३० अप्रैल १९४५)...</td>\n",
       "      <td>एडोल्फ हिटलर किस पार्टी के राजनेता थे?</td>\n",
       "      <td>राष्ट्रीय समाजवादी जर्मन कामगार पार्टी</td>\n",
       "      <td>93</td>\n",
       "      <td>hindi</td>\n",
       "    </tr>\n",
       "    <tr>\n",
       "      <th>594</th>\n",
       "      <td>95e24ac44</td>\n",
       "      <td>Coordinates: चारमीनार (उर्दू: چار مینار) 1591)...</td>\n",
       "      <td>चारमीनार किसने बनाया था?</td>\n",
       "      <td>सुल्तान मुहम्मद क़ुली क़ुतुब शाह</td>\n",
       "      <td>567</td>\n",
       "      <td>hindi</td>\n",
       "    </tr>\n",
       "    <tr>\n",
       "      <th>636</th>\n",
       "      <td>422fd74bf</td>\n",
       "      <td>इन्फोसिस लिमिटेड (BSE:, Nasdaq:) एक बहुराष्ट्र...</td>\n",
       "      <td>´इन्फोसिस लिमिटेड´ संस्थापक कौन है?</td>\n",
       "      <td>इन्फोसिस की स्थापना २ जुलाई, १९८१ को पुणे में ...</td>\n",
       "      <td>453</td>\n",
       "      <td>hindi</td>\n",
       "    </tr>\n",
       "    <tr>\n",
       "      <th>639</th>\n",
       "      <td>bb393b92e</td>\n",
       "      <td>वितरण ट्रांसफॉर्मर (distribution transformer) ...</td>\n",
       "      <td>वितरण ट्रांसफॉर्मर क्या होता है?</td>\n",
       "      <td>जो सीधे उपभोक्ताओं को बिजली देता है</td>\n",
       "      <td>99</td>\n",
       "      <td>hindi</td>\n",
       "    </tr>\n",
       "    <tr>\n",
       "      <th>648</th>\n",
       "      <td>a4bccea58</td>\n",
       "      <td>२७ अगस्त २०१३ मुज़फ़्फ़र नगर जिले के कवाल गाँव...</td>\n",
       "      <td>मुज़फ़्फ़र नगर दंगा कब से कब तक चला था?</td>\n",
       "      <td>२७ अगस्त २०१३ मुज़फ़्फ़र नगर जिले के कवाल गाँव...</td>\n",
       "      <td>0</td>\n",
       "      <td>hindi</td>\n",
       "    </tr>\n",
       "    <tr>\n",
       "      <th>690</th>\n",
       "      <td>ce5209348</td>\n",
       "      <td>आपातकालीन प्रबंधन एक अंतःविषयक क्षेत्र का सामा...</td>\n",
       "      <td>संयुक्त राज्य द्वारा 'सिविल डिफ़ेंस' किस हमले ...</td>\n",
       "      <td>शीत युद्ध के दौरान परमाणु हमले से</td>\n",
       "      <td>1783</td>\n",
       "      <td>hindi</td>\n",
       "    </tr>\n",
       "    <tr>\n",
       "      <th>702</th>\n",
       "      <td>d6c9beda1</td>\n",
       "      <td>दियाह प्रेमाता मेगावती सेतियावती सुकर्णोपुत्री...</td>\n",
       "      <td>इंडोनेशिया की पहली महिला राष्ट्रपति कौन थी?</td>\n",
       "      <td>दियाह प्रेमाता मेगावती सेतियावती सुकर्णोपुत्री</td>\n",
       "      <td>0</td>\n",
       "      <td>hindi</td>\n",
       "    </tr>\n",
       "    <tr>\n",
       "      <th>762</th>\n",
       "      <td>9d1c4fac8</td>\n",
       "      <td>एशियन पेंट्स लिमिटेड एक भारतीय बहुराष्ट्रीय कम...</td>\n",
       "      <td>एशियन पेंट्स कंपनी के संस्थापक कौन हैं?</td>\n",
       "      <td>चंपकलाल चोकसे, चिमनलाल चोकसी, सूर्यकांत दाणी औ...</td>\n",
       "      <td>573</td>\n",
       "      <td>hindi</td>\n",
       "    </tr>\n",
       "    <tr>\n",
       "      <th>824</th>\n",
       "      <td>f5947cc1f</td>\n",
       "      <td>कुरुक्षेत्र युद्ध कौरवों और पाण्डवों के मध्य क...</td>\n",
       "      <td>महाभारत का युद्ध कहाँ हुआ?</td>\n",
       "      <td>हरियाणा में स्थित कुरुक्षेत्र के आसपास</td>\n",
       "      <td>1208</td>\n",
       "      <td>hindi</td>\n",
       "    </tr>\n",
       "    <tr>\n",
       "      <th>826</th>\n",
       "      <td>815c3b0c7</td>\n",
       "      <td>किसन बाबूराव हजारे (जन्म: १५ जून १९३७) एक भारत...</td>\n",
       "      <td>अन्ना हजारे का जन्म कहाँ हुआ था?</td>\n",
       "      <td>महाराष्ट्र के अहमदनगर के रालेगन सिद्धि गाँव</td>\n",
       "      <td>386</td>\n",
       "      <td>hindi</td>\n",
       "    </tr>\n",
       "    <tr>\n",
       "      <th>836</th>\n",
       "      <td>bc7c4c012</td>\n",
       "      <td>साबूदाना एक खाद्य पदार्थ है। यह छोटे-छोटे मोती...</td>\n",
       "      <td>सैगो पाम पेड़ का वैज्ञानिक नाम क्या है?</td>\n",
       "      <td>\"Manihot Esculenta Crantz पर्याय Utilissima \"</td>\n",
       "      <td>1738</td>\n",
       "      <td>hindi</td>\n",
       "    </tr>\n",
       "    <tr>\n",
       "      <th>844</th>\n",
       "      <td>d54cb8e9d</td>\n",
       "      <td>पटना (Sanskrit: पटनम्) या पाटलिपुत्र भारत के ब...</td>\n",
       "      <td>पटना का क्षेत्रफल कितना है?</td>\n",
       "      <td>15 कि॰मी॰ लम्बा और 7 कि॰मी॰ चौड़ा है</td>\n",
       "      <td>820</td>\n",
       "      <td>hindi</td>\n",
       "    </tr>\n",
       "    <tr>\n",
       "      <th>859</th>\n",
       "      <td>816be92d1</td>\n",
       "      <td>कार्टून और कार्टूनिस्ट \\n व्युत्पत्ति \\nअंग्रे...</td>\n",
       "      <td>किसने १९३२ में हिन्दुस्तान टाइम्स में कार्टून ...</td>\n",
       "      <td>केशव शंकर पिल्लै जिन्हें ‘‘शंकर’’</td>\n",
       "      <td>781</td>\n",
       "      <td>hindi</td>\n",
       "    </tr>\n",
       "    <tr>\n",
       "      <th>867</th>\n",
       "      <td>98ec247b4</td>\n",
       "      <td>भारत सरकार अधिनियम, १९१९ (Government of India ...</td>\n",
       "      <td>भारतमंत्री लॉर्ड मांटेग ने २० अगस्त १९१७ को ब्...</td>\n",
       "      <td>ब्रिटिश सरकार का उद्देश्य भारत में उत्तरदायी श...</td>\n",
       "      <td>470</td>\n",
       "      <td>hindi</td>\n",
       "    </tr>\n",
       "    <tr>\n",
       "      <th>883</th>\n",
       "      <td>cd0409ad6</td>\n",
       "      <td>हरिजन सेवक संघ की स्थापना 30 सितम्बर 1932 को ए...</td>\n",
       "      <td>हरिजन सेवक संघ का मुख्यालय कहाँ पर है?</td>\n",
       "      <td>गाँधी आश्रम, किंग्सवे कैम्प, दिल्ली</td>\n",
       "      <td>306</td>\n",
       "      <td>hindi</td>\n",
       "    </tr>\n",
       "    <tr>\n",
       "      <th>918</th>\n",
       "      <td>640a60b28</td>\n",
       "      <td>किंग अब्दुल अज़ीज़ अन्तर्राष्ट्रीय विमानक्षेत्...</td>\n",
       "      <td>किंग अब्दुलअज़ीज़ अंतर्राष्ट्रीय हवाई अड्डा कह...</td>\n",
       "      <td>जेद्दाह से १९कि.मी उत्तर में स्थित</td>\n",
       "      <td>136</td>\n",
       "      <td>hindi</td>\n",
       "    </tr>\n",
       "    <tr>\n",
       "      <th>941</th>\n",
       "      <td>4b7b11b97</td>\n",
       "      <td>उज्जैन (उज्जयिनी) भारत के मध्य प्रदेश राज्य का...</td>\n",
       "      <td>उज्जैन कहाँ पर स्थित है?</td>\n",
       "      <td>भारत के मध्य प्रदेश राज्य का एक प्रमुख शहर है ...</td>\n",
       "      <td>18</td>\n",
       "      <td>hindi</td>\n",
       "    </tr>\n",
       "    <tr>\n",
       "      <th>946</th>\n",
       "      <td>e30235cab</td>\n",
       "      <td>आईबीएम (English: International Business Machin...</td>\n",
       "      <td>आईबीएम कंपनी का मुख्यालय कहाँ पर है?</td>\n",
       "      <td>संयुक्त राष्ट्र के अर्मोंक, न्यू यॉर्क में</td>\n",
       "      <td>176</td>\n",
       "      <td>hindi</td>\n",
       "    </tr>\n",
       "    <tr>\n",
       "      <th>968</th>\n",
       "      <td>32a186c41</td>\n",
       "      <td>समान नागरिक संहिता अथवा  समान आचार संहिता का अ...</td>\n",
       "      <td>समान नागरिक संहिता किस अनुच्छेद के अंतर्गत आता...</td>\n",
       "      <td>भारतीय संविधान के भाग ४ के अनुच्छेद ४४ में</td>\n",
       "      <td>2693</td>\n",
       "      <td>hindi</td>\n",
       "    </tr>\n",
       "    <tr>\n",
       "      <th>993</th>\n",
       "      <td>94c94d7da</td>\n",
       "      <td>आचार्य विनोबा भावे (11 सितम्बर 1895 - 15 नवम्ब...</td>\n",
       "      <td>आचार्य विनोबा भावे का जन्म कहाँ हुआ था?</td>\n",
       "      <td>महाराष्ट्र के कोंकण क्षेत्र में एक गांव है, गा...</td>\n",
       "      <td>509</td>\n",
       "      <td>hindi</td>\n",
       "    </tr>\n",
       "    <tr>\n",
       "      <th>1004</th>\n",
       "      <td>3d472c115</td>\n",
       "      <td>पण्डित दीनदयाल उपाध्याय जंक्शन रेलवे स्टेशन (प...</td>\n",
       "      <td>एशिया का सबसे बड़ा रेलवे यार्ड कौन सा है?</td>\n",
       "      <td>पण्डित दीनदयाल उपाध्याय जंक्शन रेलवे स्टेशन</td>\n",
       "      <td>0</td>\n",
       "      <td>hindi</td>\n",
       "    </tr>\n",
       "    <tr>\n",
       "      <th>1007</th>\n",
       "      <td>ebb4b010c</td>\n",
       "      <td>Main Page\\nजस्टिस लीग २०१७ की एक अमेरिकी सुपरह...</td>\n",
       "      <td>अमेरिकी सुपरहीरो फ़िल्म 'जस्टिस लीग' का पटकथा ...</td>\n",
       "      <td>जोस व्हीडन को क्रिस टेर्रियो के साथ फिल्म की प...</td>\n",
       "      <td>22845</td>\n",
       "      <td>hindi</td>\n",
       "    </tr>\n",
       "    <tr>\n",
       "      <th>1026</th>\n",
       "      <td>cb48055cd</td>\n",
       "      <td>विलियम वर्द्स्व्र्थ (७ अप्रैल,१७७०-२३ अप्रैल १...</td>\n",
       "      <td>विलियम वर्ड्सवर्थ की पहली कविता का नाम क्या था?</td>\n",
       "      <td>एन इव्निन्गं वकॅ' और 'डिस्क्रिप्टिव स्केचस'</td>\n",
       "      <td>2254</td>\n",
       "      <td>hindi</td>\n",
       "    </tr>\n",
       "  </tbody>\n",
       "</table>\n",
       "</div>"
      ],
      "text/plain": [
       "             id                                            context  \\\n",
       "21    fc36a6c01  யமுனை ஆறு\\nவட இந்தியாவின் முக்கியமான ஆறுகளுள் ...   \n",
       "29    1d9539cf3  தடித்த எழுத்துக்கள்\\n\\n\\n\\n\\nPart of a series ...   \n",
       "42    b53b67d39  ரேடியம் (Radium) என்பது Ra என்ற மூலக்கூற்று வா...   \n",
       "59    b80726212  மனித மூளை மனித நரம்பு மண்டலத்தின் தலைமையானதும்...   \n",
       "81    d75178d00  கதிரவ அமைப்பு (Solar System) அல்லது சூரியக் கு...   \n",
       "85    5502c73af  மெக்சிக்கோ (எசுப்பானியம்: México, \"மெஹிக்கோ\") ...   \n",
       "93    a7292ab0f  {{IPA}}, formats symbols of the International ...   \n",
       "168   d9da39b42  செம்மறியாடு (Sheep, Ovis aries) என்பது, நாலுகா...   \n",
       "198   11d635808  ஸ்ரீபதி பண்டிதாரத்யுல பாலசுப்ரமணியம் (பிறப்பு ...   \n",
       "202   45217c3cb  அப்துல் ரகுமான்,(நவம்பர் 9, 1937 - சூன் 2, 201...   \n",
       "235   de2d1e19a  பேரரசன் அலெக்சாந்தர் அல்லது மகா அலெக்சாண்டர் (...   \n",
       "260   c04e23e52  தில்லி, மும்பை, கொல்கத்தா, சென்னை, பெங்களூர், ...   \n",
       "264   c500edbe8  ஸ்ரீபதி பண்டிதாரத்யுல பாலசுப்ரமணியம் (பிறப்பு ...   \n",
       "266   ec2871c3f  சிங்கம் என்பது பாலூட்டி வகையைச் சேர்ந்த ஒரு கா...   \n",
       "275   6fc07dbd9  ஜெயமோகன் (Jeyamohan), பிறப்பு: 22 ஏப்ரல் 1962)...   \n",
       "301   ca3ad7ff8  அய்யாவழி, (அய்யா+வழி --&gt; தந்தையின் வழி, இறை...   \n",
       "348   c35fe946a  எம். ஜி. ஆர் என்ற பெயரில் புகழ் பெற்ற, மருதூர்...   \n",
       "353   1f8bfb208  இந்திய தேசிய காங்கிரஸ் (English: Indian Nation...   \n",
       "391   95b375be4  एनिऐक (ENIAC) (pronounced/ˈɛniæk/(deprecated t...   \n",
       "418   dbf1301d6  शुक्र (Venus), सूर्य से दूसरा ग्रह है और प्रत्...   \n",
       "530   3ede29c1f  चंगेज़ ख़ान (मंगोलियाई: Чингис Хаан, चिंगिस खा...   \n",
       "561   52181ad2d  एडोल्फ हिटलर (२० अप्रैल १८८९ - ३० अप्रैल १९४५)...   \n",
       "594   95e24ac44  Coordinates: चारमीनार (उर्दू: چار مینار) 1591)...   \n",
       "636   422fd74bf  इन्फोसिस लिमिटेड (BSE:, Nasdaq:) एक बहुराष्ट्र...   \n",
       "639   bb393b92e  वितरण ट्रांसफॉर्मर (distribution transformer) ...   \n",
       "648   a4bccea58  २७ अगस्त २०१३ मुज़फ़्फ़र नगर जिले के कवाल गाँव...   \n",
       "690   ce5209348  आपातकालीन प्रबंधन एक अंतःविषयक क्षेत्र का सामा...   \n",
       "702   d6c9beda1  दियाह प्रेमाता मेगावती सेतियावती सुकर्णोपुत्री...   \n",
       "762   9d1c4fac8  एशियन पेंट्स लिमिटेड एक भारतीय बहुराष्ट्रीय कम...   \n",
       "824   f5947cc1f  कुरुक्षेत्र युद्ध कौरवों और पाण्डवों के मध्य क...   \n",
       "826   815c3b0c7  किसन बाबूराव हजारे (जन्म: १५ जून १९३७) एक भारत...   \n",
       "836   bc7c4c012  साबूदाना एक खाद्य पदार्थ है। यह छोटे-छोटे मोती...   \n",
       "844   d54cb8e9d  पटना (Sanskrit: पटनम्) या पाटलिपुत्र भारत के ब...   \n",
       "859   816be92d1  कार्टून और कार्टूनिस्ट \\n व्युत्पत्ति \\nअंग्रे...   \n",
       "867   98ec247b4  भारत सरकार अधिनियम, १९१९ (Government of India ...   \n",
       "883   cd0409ad6  हरिजन सेवक संघ की स्थापना 30 सितम्बर 1932 को ए...   \n",
       "918   640a60b28  किंग अब्दुल अज़ीज़ अन्तर्राष्ट्रीय विमानक्षेत्...   \n",
       "941   4b7b11b97  उज्जैन (उज्जयिनी) भारत के मध्य प्रदेश राज्य का...   \n",
       "946   e30235cab  आईबीएम (English: International Business Machin...   \n",
       "968   32a186c41  समान नागरिक संहिता अथवा  समान आचार संहिता का अ...   \n",
       "993   94c94d7da  आचार्य विनोबा भावे (11 सितम्बर 1895 - 15 नवम्ब...   \n",
       "1004  3d472c115  पण्डित दीनदयाल उपाध्याय जंक्शन रेलवे स्टेशन (प...   \n",
       "1007  ebb4b010c  Main Page\\nजस्टिस लीग २०१७ की एक अमेरिकी सुपरह...   \n",
       "1026  cb48055cd  विलियम वर्द्स्व्र्थ (७ अप्रैल,१७७०-२३ अप्रैल १...   \n",
       "\n",
       "                                               question  \\\n",
       "21                            யமுனை ஆற்றின் நீளம் என்ன?   \n",
       "29                சூரிய சக்தியைக் கண்டுபிடித்தவர் யார்?   \n",
       "42                      ரேடியத்தை கண்டுபிடித்தவர் யார்?   \n",
       "59                  மனித முளை எந்த நிறத்தில் இருக்கும்?   \n",
       "81       நமது சூரிய மண்டலத்தில் எத்தனை கிரகங்கள் உள்ளன?   \n",
       "85                     மெக்சிகோ நாட்டின் பரப்பளவு என்ன?   \n",
       "93                       கேரளாவில் பேசப்படும் மொழி எது?   \n",
       "168             செம்மறியாடுக்கு எத்தனை கொம்புகள் உள்ளன?   \n",
       "198      எஸ். பி. பாலசுப்பிரமணியத்தின் முதல் பாடல் எது?   \n",
       "202             கவிஞர் அப்துல் ரகுமான் எங்கு பிறந்தார்?   \n",
       "235             பேரரசர் அலெக்சாந்தர் எப்போது பிறந்தார்?   \n",
       "260              இந்தியாவில் எத்தனை பெருநகரங்கள் உள்ளன?   \n",
       "264          எஸ். பி. பாலசுப்பிரமணியம் எங்கு பிறந்தார்?   \n",
       "266                 சிங்கத்தின் சராசரி ஆயுட்காலம் என்ன?   \n",
       "275                எழுத்தாளர் ஜெயமோகனின் சொந்த ஊர் எது?   \n",
       "301                அய்யாவழியின் முதன்மை புனித நூல் எது?   \n",
       "348                      எம். ஜி. ஆர்  எங்கு பிறந்தார்?   \n",
       "353          காங்கிரஸ் கட்சி இந்தியாவை நிறுவியவர் யார்?   \n",
       "391                       पहला कंप्यूटर किसने बनाया था?   \n",
       "418                         सूरज से शुक्र कितनी दूर है?   \n",
       "530                    चंगेज़ ख़ान का जन्म कहाँ हुआ था?   \n",
       "561              एडोल्फ हिटलर किस पार्टी के राजनेता थे?   \n",
       "594                            चारमीनार किसने बनाया था?   \n",
       "636                 ´इन्फोसिस लिमिटेड´ संस्थापक कौन है?   \n",
       "639                    वितरण ट्रांसफॉर्मर क्या होता है?   \n",
       "648             मुज़फ़्फ़र नगर दंगा कब से कब तक चला था?   \n",
       "690   संयुक्त राज्य द्वारा 'सिविल डिफ़ेंस' किस हमले ...   \n",
       "702         इंडोनेशिया की पहली महिला राष्ट्रपति कौन थी?   \n",
       "762             एशियन पेंट्स कंपनी के संस्थापक कौन हैं?   \n",
       "824                          महाभारत का युद्ध कहाँ हुआ?   \n",
       "826                    अन्ना हजारे का जन्म कहाँ हुआ था?   \n",
       "836              सैगो पाम पेड़ का वैज्ञानिक नाम क्या है?   \n",
       "844                         पटना का क्षेत्रफल कितना है?   \n",
       "859   किसने १९३२ में हिन्दुस्तान टाइम्स में कार्टून ...   \n",
       "867   भारतमंत्री लॉर्ड मांटेग ने २० अगस्त १९१७ को ब्...   \n",
       "883              हरिजन सेवक संघ का मुख्यालय कहाँ पर है?   \n",
       "918   किंग अब्दुलअज़ीज़ अंतर्राष्ट्रीय हवाई अड्डा कह...   \n",
       "941                            उज्जैन कहाँ पर स्थित है?   \n",
       "946                आईबीएम कंपनी का मुख्यालय कहाँ पर है?   \n",
       "968   समान नागरिक संहिता किस अनुच्छेद के अंतर्गत आता...   \n",
       "993             आचार्य विनोबा भावे का जन्म कहाँ हुआ था?   \n",
       "1004          एशिया का सबसे बड़ा रेलवे यार्ड कौन सा है?   \n",
       "1007  अमेरिकी सुपरहीरो फ़िल्म 'जस्टिस लीग' का पटकथा ...   \n",
       "1026    विलियम वर्ड्सवर्थ की पहली कविता का नाम क्या था?   \n",
       "\n",
       "                                            answer_text  answer_start language  \n",
       "21                                  1,376  கிலோ மீட்டர்           880    tamil  \n",
       "29                    அலெக்ஸாண்டர்-எட்மண்ட பெக்கெரெலின்          6533    tamil  \n",
       "42           மேரிகியூரி மற்றும் பியரிகியூரி தம்பதியரால்           990    tamil  \n",
       "59    வெளிப்பரப்பு அடர்த்தியான சாம்பல் நிறத்திலும், ...          3726    tamil  \n",
       "81           எட்டு கோள்களையும், ஐந்து குறுங்கோள்களையும்           196    tamil  \n",
       "85                    இரண்டு மில்லியன் சதுர கிலோமீட்டர்           431    tamil  \n",
       "93    மலையாத்துடன், தமிழ், கன்னடம், உருது மற்றும் கொ...          4486    tamil  \n",
       "168   பொருத்து பெரும்பாலான செம்மறி ஆடுகளுக்கு கொம்பு...          2183    tamil  \n",
       "198            அத்தானோடு இப்படியிருந்து ௭த்தனை நாளாச்சு          1177    tamil  \n",
       "202                 மதுரையில் வைகை ஆற்றின்  தென்கரையில்          1158    tamil  \n",
       "235                     கிமு 356 ஆம் ஆண்டு சூலை மாதம் 6          2468    tamil  \n",
       "260   தில்லி, மும்பை, கொல்கத்தா, சென்னை, பெங்களூர், ...             0    tamil  \n",
       "264   நெல்லூர் மாவட்டம், மெட்ராஸ் மாகாணம் தற்போது ஆந...            60    tamil  \n",
       "266   ஆண் சிங்கங்களின் சராசரி ஆயுட்காலம் 12 வருடங்கள...          1914    tamil  \n",
       "275        குமரி மாவட்டம் விளவங்கோடு வட்டம், திருவரம்பு           359    tamil  \n",
       "301                   அகிலத்திரட்டு அம்மானை, அருள் நூல்           946    tamil  \n",
       "348   இலங்கையின் கண்டிக்கு அருகேயுள்ள நாவலப்பிட்டியி...           946    tamil  \n",
       "353   உமேஷ் சந்திர பானர்ஜி, தாதாபாய் நௌரோஜி, ஆலன் ஆக...          1123    tamil  \n",
       "391                     जॉन मौच्ली और जे. प्रेसपर एकर्ट          2031    hindi  \n",
       "418                                           0.72  एयू         16038    hindi  \n",
       "530         मंगोलिया के उत्तरी भाग में ओनोन नदी के निकट          2252    hindi  \n",
       "561              राष्ट्रीय समाजवादी जर्मन कामगार पार्टी            93    hindi  \n",
       "594                    सुल्तान मुहम्मद क़ुली क़ुतुब शाह           567    hindi  \n",
       "636   इन्फोसिस की स्थापना २ जुलाई, १९८१ को पुणे में ...           453    hindi  \n",
       "639                 जो सीधे उपभोक्ताओं को बिजली देता है            99    hindi  \n",
       "648   २७ अगस्त २०१३ मुज़फ़्फ़र नगर जिले के कवाल गाँव...             0    hindi  \n",
       "690                   शीत युद्ध के दौरान परमाणु हमले से          1783    hindi  \n",
       "702      दियाह प्रेमाता मेगावती सेतियावती सुकर्णोपुत्री             0    hindi  \n",
       "762   चंपकलाल चोकसे, चिमनलाल चोकसी, सूर्यकांत दाणी औ...           573    hindi  \n",
       "824              हरियाणा में स्थित कुरुक्षेत्र के आसपास          1208    hindi  \n",
       "826         महाराष्ट्र के अहमदनगर के रालेगन सिद्धि गाँव           386    hindi  \n",
       "836       \"Manihot Esculenta Crantz पर्याय Utilissima \"          1738    hindi  \n",
       "844                15 कि॰मी॰ लम्बा और 7 कि॰मी॰ चौड़ा है           820    hindi  \n",
       "859                   केशव शंकर पिल्लै जिन्हें ‘‘शंकर’’           781    hindi  \n",
       "867   ब्रिटिश सरकार का उद्देश्य भारत में उत्तरदायी श...           470    hindi  \n",
       "883                 गाँधी आश्रम, किंग्सवे कैम्प, दिल्ली           306    hindi  \n",
       "918                  जेद्दाह से १९कि.मी उत्तर में स्थित           136    hindi  \n",
       "941   भारत के मध्य प्रदेश राज्य का एक प्रमुख शहर है ...            18    hindi  \n",
       "946          संयुक्त राष्ट्र के अर्मोंक, न्यू यॉर्क में           176    hindi  \n",
       "968          भारतीय संविधान के भाग ४ के अनुच्छेद ४४ में          2693    hindi  \n",
       "993   महाराष्ट्र के कोंकण क्षेत्र में एक गांव है, गा...           509    hindi  \n",
       "1004        पण्डित दीनदयाल उपाध्याय जंक्शन रेलवे स्टेशन             0    hindi  \n",
       "1007  जोस व्हीडन को क्रिस टेर्रियो के साथ फिल्म की प...         22845    hindi  \n",
       "1026        एन इव्निन्गं वकॅ' और 'डिस्क्रिप्टिव स्केचस'          2254    hindi  "
      ]
     },
     "execution_count": 94,
     "metadata": {},
     "output_type": "execute_result"
    }
   ],
   "source": [
    "train[~train.id.isin(cleaned_data.id)]"
   ]
  },
  {
   "cell_type": "code",
   "execution_count": 104,
   "id": "3ae0bd3c-4a00-4b09-b3a6-a9628da41cd6",
   "metadata": {},
   "outputs": [],
   "source": [
    "old_data['new_context'] = old_data['context'].apply(lambda x: ' '.join(x.split()))"
   ]
  },
  {
   "cell_type": "markdown",
   "id": "84660973-aa93-449b-9fed-a29cc9845d10",
   "metadata": {},
   "source": [
    "## Cleaning all the data and creating a master dataset for training\n"
   ]
  },
  {
   "cell_type": "code",
   "execution_count": 58,
   "id": "d6bc62fe-838b-4ff7-ae45-1b8a53c6f175",
   "metadata": {},
   "outputs": [],
   "source": [
    "mlqa_data = pd.read_csv('input/datasets/MLQA_cleaned_Chaii.csv')\n",
    "tamil_cleaned = pd.read_csv('input/datasets/Tamil_cleaned_Chaii.csv')\n",
    "xquad_cleaned = pd.read_csv('input/datasets/xquad_cleaned_Chaii.csv')\n",
    "actual_data = pd.read_csv('input/train.csv')\n",
    "## checking cleaned data \n",
    "cleaned_chaii = pd.read_csv('input/Cleaned_Chaii.csv')"
   ]
  },
  {
   "cell_type": "code",
   "execution_count": 59,
   "id": "e1da4c24-8811-41ed-85da-cb8a75e50c7a",
   "metadata": {},
   "outputs": [],
   "source": [
    "train_folds = pd.read_csv('input/train_folds.csv')"
   ]
  },
  {
   "cell_type": "code",
   "execution_count": 62,
   "id": "86750162-55bd-48e7-90d8-11191dbe5ceb",
   "metadata": {},
   "outputs": [
    {
     "data": {
      "text/plain": [
       "(7729, 8)"
      ]
     },
     "execution_count": 62,
     "metadata": {},
     "output_type": "execute_result"
    }
   ],
   "source": [
    "train_folds.shape"
   ]
  },
  {
   "cell_type": "code",
   "execution_count": null,
   "id": "06794e5c-a849-427f-8848-3eadb9994388",
   "metadata": {},
   "outputs": [],
   "source": [
    "actual_mlqa = \n",
    "actual_xquad =\n",
    "tamil_actual =\n"
   ]
  },
  {
   "cell_type": "code",
   "execution_count": 61,
   "id": "04793630-58aa-4298-9573-5db80bb133d0",
   "metadata": {},
   "outputs": [
    {
     "data": {
      "text/html": [
       "<div>\n",
       "<style scoped>\n",
       "    .dataframe tbody tr th:only-of-type {\n",
       "        vertical-align: middle;\n",
       "    }\n",
       "\n",
       "    .dataframe tbody tr th {\n",
       "        vertical-align: top;\n",
       "    }\n",
       "\n",
       "    .dataframe thead th {\n",
       "        text-align: right;\n",
       "    }\n",
       "</style>\n",
       "<table border=\"1\" class=\"dataframe\">\n",
       "  <thead>\n",
       "    <tr style=\"text-align: right;\">\n",
       "      <th></th>\n",
       "      <th>id</th>\n",
       "      <th>context</th>\n",
       "      <th>question</th>\n",
       "      <th>answer_text</th>\n",
       "      <th>answer_start</th>\n",
       "      <th>language</th>\n",
       "    </tr>\n",
       "  </thead>\n",
       "  <tbody>\n",
       "    <tr>\n",
       "      <th>0</th>\n",
       "      <td>903deec17</td>\n",
       "      <td>ஒரு சாதாரண வளர்ந்த மனிதனுடைய எலும்புக்கூடு பின...</td>\n",
       "      <td>மனித உடலில் எத்தனை எலும்புகள் உள்ளன?</td>\n",
       "      <td>206</td>\n",
       "      <td>53</td>\n",
       "      <td>tamil</td>\n",
       "    </tr>\n",
       "    <tr>\n",
       "      <th>1</th>\n",
       "      <td>d9841668c</td>\n",
       "      <td>காளிதாசன் (தேவநாகரி: कालिदास) சமஸ்கிருத இலக்கி...</td>\n",
       "      <td>காளிதாசன் எங்கு பிறந்தார்?</td>\n",
       "      <td>காசுமீரில்</td>\n",
       "      <td>2358</td>\n",
       "      <td>tamil</td>\n",
       "    </tr>\n",
       "    <tr>\n",
       "      <th>2</th>\n",
       "      <td>29d154b56</td>\n",
       "      <td>சர் அலெக்ஸாண்டர் ஃபிளெமிங் (Sir Alexander Flem...</td>\n",
       "      <td>பென்சிலின் கண்டுபிடித்தவர் யார்?</td>\n",
       "      <td>சர் அலெக்ஸாண்டர் ஃபிளெமிங்</td>\n",
       "      <td>0</td>\n",
       "      <td>tamil</td>\n",
       "    </tr>\n",
       "    <tr>\n",
       "      <th>3</th>\n",
       "      <td>41660850a</td>\n",
       "      <td>குழந்தையின் அழுகையை  நிறுத்தவும், தூங்க வைக்கவ...</td>\n",
       "      <td>தமிழ்நாட்டில் குழந்தைகளை தூங்க வைக்க பாடும் பா...</td>\n",
       "      <td>தாலாட்டு</td>\n",
       "      <td>68</td>\n",
       "      <td>tamil</td>\n",
       "    </tr>\n",
       "    <tr>\n",
       "      <th>4</th>\n",
       "      <td>b29c82c22</td>\n",
       "      <td>சூரியக் குடும்பம் \\nசூரியக் குடும்பம் (Solar S...</td>\n",
       "      <td>பூமியின் அருகில் உள்ள விண்மீன் எது?</td>\n",
       "      <td>சூரியனும்</td>\n",
       "      <td>585</td>\n",
       "      <td>tamil</td>\n",
       "    </tr>\n",
       "  </tbody>\n",
       "</table>\n",
       "</div>"
      ],
      "text/plain": [
       "          id                                            context  \\\n",
       "0  903deec17  ஒரு சாதாரண வளர்ந்த மனிதனுடைய எலும்புக்கூடு பின...   \n",
       "1  d9841668c  காளிதாசன் (தேவநாகரி: कालिदास) சமஸ்கிருத இலக்கி...   \n",
       "2  29d154b56  சர் அலெக்ஸாண்டர் ஃபிளெமிங் (Sir Alexander Flem...   \n",
       "3  41660850a  குழந்தையின் அழுகையை  நிறுத்தவும், தூங்க வைக்கவ...   \n",
       "4  b29c82c22  சூரியக் குடும்பம் \\nசூரியக் குடும்பம் (Solar S...   \n",
       "\n",
       "                                            question  \\\n",
       "0               மனித உடலில் எத்தனை எலும்புகள் உள்ளன?   \n",
       "1                         காளிதாசன் எங்கு பிறந்தார்?   \n",
       "2                   பென்சிலின் கண்டுபிடித்தவர் யார்?   \n",
       "3  தமிழ்நாட்டில் குழந்தைகளை தூங்க வைக்க பாடும் பா...   \n",
       "4                பூமியின் அருகில் உள்ள விண்மீன் எது?   \n",
       "\n",
       "                  answer_text  answer_start language  \n",
       "0                         206            53    tamil  \n",
       "1                  காசுமீரில்          2358    tamil  \n",
       "2  சர் அலெக்ஸாண்டர் ஃபிளெமிங்             0    tamil  \n",
       "3                    தாலாட்டு            68    tamil  \n",
       "4                   சூரியனும்           585    tamil  "
      ]
     },
     "execution_count": 61,
     "metadata": {},
     "output_type": "execute_result"
    }
   ],
   "source": [
    "actual_data.head()"
   ]
  },
  {
   "cell_type": "code",
   "execution_count": 9,
   "id": "47fcc266-f681-413b-8c1f-bf3028579ccd",
   "metadata": {},
   "outputs": [
    {
     "data": {
      "text/plain": [
       "(1070, 7)"
      ]
     },
     "execution_count": 9,
     "metadata": {},
     "output_type": "execute_result"
    }
   ],
   "source": [
    "cleaned_chaii.shape"
   ]
  },
  {
   "cell_type": "code",
   "execution_count": 10,
   "id": "a3703e90-853c-454c-9f6f-957d9cff8a4e",
   "metadata": {},
   "outputs": [
    {
     "data": {
      "text/html": [
       "<div>\n",
       "<style scoped>\n",
       "    .dataframe tbody tr th:only-of-type {\n",
       "        vertical-align: middle;\n",
       "    }\n",
       "\n",
       "    .dataframe tbody tr th {\n",
       "        vertical-align: top;\n",
       "    }\n",
       "\n",
       "    .dataframe thead th {\n",
       "        text-align: right;\n",
       "    }\n",
       "</style>\n",
       "<table border=\"1\" class=\"dataframe\">\n",
       "  <thead>\n",
       "    <tr style=\"text-align: right;\">\n",
       "      <th></th>\n",
       "      <th>context</th>\n",
       "      <th>question</th>\n",
       "      <th>answer_text</th>\n",
       "      <th>answer_start</th>\n",
       "      <th>language</th>\n",
       "      <th>lengths</th>\n",
       "    </tr>\n",
       "  </thead>\n",
       "  <tbody>\n",
       "    <tr>\n",
       "      <th>0</th>\n",
       "      <td>पैरेनकाइमा कोशिकाएं वे जीवित कोशिकाएं हैं जो स...</td>\n",
       "      <td>एक प्रकार की रस्सी का नाम बताईए जो सेलेरी के क...</td>\n",
       "      <td>कोलेन्काइमा</td>\n",
       "      <td>1564</td>\n",
       "      <td>hindi</td>\n",
       "      <td>11</td>\n",
       "    </tr>\n",
       "    <tr>\n",
       "      <th>1</th>\n",
       "      <td>पैरेनकाइमा कोशिकाएं वे जीवित कोशिकाएं हैं जो स...</td>\n",
       "      <td>क्या चीज पूरी तरह से पैरेनकाइमा कोशिकाओं से बन...</td>\n",
       "      <td>पत्तियां</td>\n",
       "      <td>158</td>\n",
       "      <td>hindi</td>\n",
       "      <td>8</td>\n",
       "    </tr>\n",
       "    <tr>\n",
       "      <th>2</th>\n",
       "      <td>जाइलेम कोशिकाएं कोशिका भित्तियों की लिग्निकृत ...</td>\n",
       "      <td>जाइलेम किस प्रकार के पौधों में पाया जाता है?</td>\n",
       "      <td>ट्रेकियोफाइटों</td>\n",
       "      <td>292</td>\n",
       "      <td>hindi</td>\n",
       "      <td>14</td>\n",
       "    </tr>\n",
       "    <tr>\n",
       "      <th>3</th>\n",
       "      <td>सभी हवाई अवयवों की बाह्यत्वचा, जड़ों को छोड़कर...</td>\n",
       "      <td>बाह्यत्वचा की कोशिकाएं क्या कर सकती हैं?</td>\n",
       "      <td>क्यटिन का संश्लेषण</td>\n",
       "      <td>433</td>\n",
       "      <td>hindi</td>\n",
       "      <td>18</td>\n",
       "    </tr>\n",
       "    <tr>\n",
       "      <th>4</th>\n",
       "      <td>इनका जन्म बोस्टन, मैसाचूसिट्स में हुआ था। ये छ...</td>\n",
       "      <td>पो किस स्कूल में गए?</td>\n",
       "      <td>वर्जीनिया विश्वविद्यालय</td>\n",
       "      <td>283</td>\n",
       "      <td>hindi</td>\n",
       "      <td>23</td>\n",
       "    </tr>\n",
       "  </tbody>\n",
       "</table>\n",
       "</div>"
      ],
      "text/plain": [
       "                                             context  \\\n",
       "0  पैरेनकाइमा कोशिकाएं वे जीवित कोशिकाएं हैं जो स...   \n",
       "1  पैरेनकाइमा कोशिकाएं वे जीवित कोशिकाएं हैं जो स...   \n",
       "2  जाइलेम कोशिकाएं कोशिका भित्तियों की लिग्निकृत ...   \n",
       "3  सभी हवाई अवयवों की बाह्यत्वचा, जड़ों को छोड़कर...   \n",
       "4  इनका जन्म बोस्टन, मैसाचूसिट्स में हुआ था। ये छ...   \n",
       "\n",
       "                                            question              answer_text  \\\n",
       "0  एक प्रकार की रस्सी का नाम बताईए जो सेलेरी के क...              कोलेन्काइमा   \n",
       "1  क्या चीज पूरी तरह से पैरेनकाइमा कोशिकाओं से बन...                 पत्तियां   \n",
       "2       जाइलेम किस प्रकार के पौधों में पाया जाता है?           ट्रेकियोफाइटों   \n",
       "3           बाह्यत्वचा की कोशिकाएं क्या कर सकती हैं?       क्यटिन का संश्लेषण   \n",
       "4                               पो किस स्कूल में गए?  वर्जीनिया विश्वविद्यालय   \n",
       "\n",
       "   answer_start language  lengths  \n",
       "0          1564    hindi       11  \n",
       "1           158    hindi        8  \n",
       "2           292    hindi       14  \n",
       "3           433    hindi       18  \n",
       "4           283    hindi       23  "
      ]
     },
     "execution_count": 10,
     "metadata": {},
     "output_type": "execute_result"
    }
   ],
   "source": [
    "mlqa_data.head()"
   ]
  },
  {
   "cell_type": "code",
   "execution_count": 11,
   "id": "55512a95-c2fa-4123-a6a6-8ec66e3f4189",
   "metadata": {},
   "outputs": [],
   "source": [
    "cleaned_chaii['answers'] =cleaned_chaii.apply(lambda x : {'answer_start':[x['answer_start']],'text':[x['answer_text']]},axis=1)\n",
    "mlqa_data['answers'] =mlqa_data.apply(lambda x : {'answer_start':[x['answer_start']],'text':[x['answer_text']]},axis=1)\n",
    "tamil_cleaned['answers'] =tamil_cleaned.apply(lambda x : {'answer_start':[x['answer_start']],'text':[x['answer_text']]},axis=1)\n",
    "xquad_cleaned['answers'] =xquad_cleaned.apply(lambda x : {'answer_start':[x['answer_start']],'text':[x['answer_text']]},axis=1)\n",
    "\n"
   ]
  },
  {
   "cell_type": "code",
   "execution_count": 47,
   "id": "9cd78574-be8e-43be-a48c-24ee872a43a9",
   "metadata": {},
   "outputs": [],
   "source": [
    "import pandas as pd"
   ]
  },
  {
   "cell_type": "code",
   "execution_count": 48,
   "id": "23e48b1a-1039-4d18-9235-c7be8c8478b8",
   "metadata": {},
   "outputs": [],
   "source": [
    "train_folds = pd.read_csv('input/train_folds.csv')"
   ]
  },
  {
   "cell_type": "code",
   "execution_count": 56,
   "id": "9275fd0e-d41d-404e-9612-24fd6662689b",
   "metadata": {},
   "outputs": [
    {
     "data": {
      "text/html": [
       "<div>\n",
       "<style scoped>\n",
       "    .dataframe tbody tr th:only-of-type {\n",
       "        vertical-align: middle;\n",
       "    }\n",
       "\n",
       "    .dataframe tbody tr th {\n",
       "        vertical-align: top;\n",
       "    }\n",
       "\n",
       "    .dataframe thead th {\n",
       "        text-align: right;\n",
       "    }\n",
       "</style>\n",
       "<table border=\"1\" class=\"dataframe\">\n",
       "  <thead>\n",
       "    <tr style=\"text-align: right;\">\n",
       "      <th></th>\n",
       "      <th>id</th>\n",
       "      <th>context</th>\n",
       "      <th>question</th>\n",
       "      <th>answer_text</th>\n",
       "      <th>answer_start</th>\n",
       "      <th>language</th>\n",
       "      <th>kfold</th>\n",
       "      <th>answers</th>\n",
       "    </tr>\n",
       "  </thead>\n",
       "  <tbody>\n",
       "    <tr>\n",
       "      <th>7724</th>\n",
       "      <td>6611</td>\n",
       "      <td>विद्युत आवेश के परिवर्तन की समय दर के रूप में ...</td>\n",
       "      <td>इलेक्ट्रोस्टैटिक और चुंबकीय बल के योग के रूप क...</td>\n",
       "      <td>इलेक्ट्रोस्टैटिक बल</td>\n",
       "      <td>328</td>\n",
       "      <td>hindi</td>\n",
       "      <td>-1</td>\n",
       "      <td>{'answer_start': [328], 'text': ['इलेक्ट्रोस्ट...</td>\n",
       "    </tr>\n",
       "    <tr>\n",
       "      <th>7725</th>\n",
       "      <td>6612</td>\n",
       "      <td>उस आयतन के लिए प्रासंगिक क्रॉस-सेक्शनल क्षेत्र...</td>\n",
       "      <td>संरचनाओं में तनाव का कारण क्या बनता है?</td>\n",
       "      <td>तनाव टेंसर</td>\n",
       "      <td>343</td>\n",
       "      <td>hindi</td>\n",
       "      <td>-1</td>\n",
       "      <td>{'answer_start': [343], 'text': ['तनाव टेंसर']}</td>\n",
       "    </tr>\n",
       "    <tr>\n",
       "      <th>7726</th>\n",
       "      <td>6613</td>\n",
       "      <td>उस आयतन के लिए प्रासंगिक क्रॉस-सेक्शनल क्षेत्र...</td>\n",
       "      <td>किसी वस्तु के आयतन में क्रॉस सेक्शन क्षेत्र की...</td>\n",
       "      <td>दबाव की शर्तें</td>\n",
       "      <td>118</td>\n",
       "      <td>hindi</td>\n",
       "      <td>-1</td>\n",
       "      <td>{'answer_start': [118], 'text': ['दबाव की शर्त...</td>\n",
       "    </tr>\n",
       "    <tr>\n",
       "      <th>7727</th>\n",
       "      <td>6614</td>\n",
       "      <td>उस आयतन के लिए प्रासंगिक क्रॉस-सेक्शनल क्षेत्र...</td>\n",
       "      <td>सामान्य ताकतों से क्या जुड़ा है?</td>\n",
       "      <td>दबाव की शर्तें</td>\n",
       "      <td>118</td>\n",
       "      <td>hindi</td>\n",
       "      <td>-1</td>\n",
       "      <td>{'answer_start': [118], 'text': ['दबाव की शर्त...</td>\n",
       "    </tr>\n",
       "    <tr>\n",
       "      <th>7728</th>\n",
       "      <td>6615</td>\n",
       "      <td>उस आयतन के लिए प्रासंगिक क्रॉस-सेक्शनल क्षेत्र...</td>\n",
       "      <td>आयतन में क्षेत्र की गणना करते समय दबाव की क्या...</td>\n",
       "      <td>नियम-निष्ठता</td>\n",
       "      <td>101</td>\n",
       "      <td>hindi</td>\n",
       "      <td>-1</td>\n",
       "      <td>{'answer_start': [101], 'text': ['नियम-निष्ठता']}</td>\n",
       "    </tr>\n",
       "  </tbody>\n",
       "</table>\n",
       "</div>"
      ],
      "text/plain": [
       "        id                                            context  \\\n",
       "7724  6611  विद्युत आवेश के परिवर्तन की समय दर के रूप में ...   \n",
       "7725  6612  उस आयतन के लिए प्रासंगिक क्रॉस-सेक्शनल क्षेत्र...   \n",
       "7726  6613  उस आयतन के लिए प्रासंगिक क्रॉस-सेक्शनल क्षेत्र...   \n",
       "7727  6614  उस आयतन के लिए प्रासंगिक क्रॉस-सेक्शनल क्षेत्र...   \n",
       "7728  6615  उस आयतन के लिए प्रासंगिक क्रॉस-सेक्शनल क्षेत्र...   \n",
       "\n",
       "                                               question          answer_text  \\\n",
       "7724  इलेक्ट्रोस्टैटिक और चुंबकीय बल के योग के रूप क...  इलेक्ट्रोस्टैटिक बल   \n",
       "7725            संरचनाओं में तनाव का कारण क्या बनता है?           तनाव टेंसर   \n",
       "7726  किसी वस्तु के आयतन में क्रॉस सेक्शन क्षेत्र की...       दबाव की शर्तें   \n",
       "7727                    सामान्य ताकतों से क्या जुड़ा है?       दबाव की शर्तें   \n",
       "7728  आयतन में क्षेत्र की गणना करते समय दबाव की क्या...         नियम-निष्ठता   \n",
       "\n",
       "      answer_start language  kfold  \\\n",
       "7724           328    hindi     -1   \n",
       "7725           343    hindi     -1   \n",
       "7726           118    hindi     -1   \n",
       "7727           118    hindi     -1   \n",
       "7728           101    hindi     -1   \n",
       "\n",
       "                                                answers  \n",
       "7724  {'answer_start': [328], 'text': ['इलेक्ट्रोस्ट...  \n",
       "7725    {'answer_start': [343], 'text': ['तनाव टेंसर']}  \n",
       "7726  {'answer_start': [118], 'text': ['दबाव की शर्त...  \n",
       "7727  {'answer_start': [118], 'text': ['दबाव की शर्त...  \n",
       "7728  {'answer_start': [101], 'text': ['नियम-निष्ठता']}  "
      ]
     },
     "execution_count": 56,
     "metadata": {},
     "output_type": "execute_result"
    }
   ],
   "source": [
    "train_folds[train_folds.kfold==-1].tail()"
   ]
  },
  {
   "cell_type": "code",
   "execution_count": 57,
   "id": "67c5a567-ac3e-4531-a876-e47fc9d757e4",
   "metadata": {},
   "outputs": [
    {
     "data": {
      "text/plain": [
       "'निकटवर्ती के, ओरगॉस्क सास्की (सैक्सन गार्डन) में, समर थियेटर का संचालन 1870 से 1939, और अंतर्युद्ध काल तक जारी था, कॉम्प्लेक्स में मोमस, वारसॉ की पहली साहित्यिक कैबरे, और लियोन शिलर की संगीत थिएटर मेलोड्राम भी शामिल है। वोज्शिएक बोगसुलावस्की थियेटर (1922–26), \"पोलिश स्मारकीय थिएटर\" का सबसे अच्छा उदाहरण था। 1930 के दशक के मध्य से, महान रंगमंच की इमारत ने अभिनय विभाग और एक मंच निर्देशन विभाग युक्त नाटकीय कला की उपति इंस्टीट्यूट - ड्रामाटिक कला की पहली राज्य-संचालित अकादमी को आश्रय दिया।'"
      ]
     },
     "execution_count": 57,
     "metadata": {},
     "output_type": "execute_result"
    }
   ],
   "source": [
    "train_folds.iloc[6615]['context']"
   ]
  },
  {
   "cell_type": "code",
   "execution_count": 12,
   "id": "49e03539-3dcf-4fd8-83a9-f7c7ac0992d3",
   "metadata": {},
   "outputs": [],
   "source": [
    "mlqa_data['kfold'] = -1\n",
    "tamil_cleaned['kfold'] = -2\n",
    "xquad_cleaned['kfold'] = -3"
   ]
  },
  {
   "cell_type": "code",
   "execution_count": null,
   "id": "0b3ac36f-75de-4552-9ef7-16d62d1cac56",
   "metadata": {},
   "outputs": [],
   "source": [
    "cleaned_chaii.head()"
   ]
  },
  {
   "cell_type": "code",
   "execution_count": null,
   "id": "fbb237e5-b9ca-47a8-a33d-22309ef49632",
   "metadata": {},
   "outputs": [],
   "source": [
    "master_data_v1 = "
   ]
  },
  {
   "cell_type": "code",
   "execution_count": 26,
   "id": "c092951e-e90e-4182-a118-92f8f76e9fe4",
   "metadata": {},
   "outputs": [
    {
     "data": {
      "text/plain": [
       "((4454, 9), (3307, 9), (1017, 9), (1070, 9))"
      ]
     },
     "execution_count": 26,
     "metadata": {},
     "output_type": "execute_result"
    }
   ],
   "source": [
    "mlqa_data.shape ,tamil_cleaned.shape  ,xquad_cleaned.shape,cleaned_chaii.shape"
   ]
  },
  {
   "cell_type": "code",
   "execution_count": 19,
   "id": "963da41e-1a47-43bd-b1ec-349be0911a16",
   "metadata": {},
   "outputs": [
    {
     "data": {
      "text/plain": [
       "Index(['context', 'question', 'answer_text', 'answer_start', 'language',\n",
       "       'lengths', 'answers', 'kfold', 'id'],\n",
       "      dtype='object')"
      ]
     },
     "execution_count": 19,
     "metadata": {},
     "output_type": "execute_result"
    }
   ],
   "source": [
    "mlqa_data.columns"
   ]
  },
  {
   "cell_type": "code",
   "execution_count": 24,
   "id": "43b85d71-176e-491f-b8af-370477b588a5",
   "metadata": {},
   "outputs": [
    {
     "data": {
      "text/html": [
       "<div>\n",
       "<style scoped>\n",
       "    .dataframe tbody tr th:only-of-type {\n",
       "        vertical-align: middle;\n",
       "    }\n",
       "\n",
       "    .dataframe tbody tr th {\n",
       "        vertical-align: top;\n",
       "    }\n",
       "\n",
       "    .dataframe thead th {\n",
       "        text-align: right;\n",
       "    }\n",
       "</style>\n",
       "<table border=\"1\" class=\"dataframe\">\n",
       "  <thead>\n",
       "    <tr style=\"text-align: right;\">\n",
       "      <th></th>\n",
       "      <th>id</th>\n",
       "      <th>context</th>\n",
       "      <th>question</th>\n",
       "      <th>answer_text</th>\n",
       "      <th>answer_start</th>\n",
       "      <th>language</th>\n",
       "      <th>lengths</th>\n",
       "      <th>answers</th>\n",
       "      <th>kfold</th>\n",
       "    </tr>\n",
       "  </thead>\n",
       "  <tbody>\n",
       "    <tr>\n",
       "      <th>0</th>\n",
       "      <td>903deec17</td>\n",
       "      <td>ஒரு சாதாரண வளர்ந்த மனிதனுடைய எலும்புக்கூடு பின...</td>\n",
       "      <td>மனித உடலில் எத்தனை எலும்புகள் உள்ளன?</td>\n",
       "      <td>206</td>\n",
       "      <td>53</td>\n",
       "      <td>tamil</td>\n",
       "      <td>3</td>\n",
       "      <td>{'answer_start': [53], 'text': ['206']}</td>\n",
       "      <td>0</td>\n",
       "    </tr>\n",
       "    <tr>\n",
       "      <th>1</th>\n",
       "      <td>d9841668c</td>\n",
       "      <td>காளிதாசன் (தேவநாகரி: कालिदास) சமஸ்கிருத இலக்கி...</td>\n",
       "      <td>காளிதாசன் எங்கு பிறந்தார்?</td>\n",
       "      <td>காசுமீரில்</td>\n",
       "      <td>2350</td>\n",
       "      <td>tamil</td>\n",
       "      <td>10</td>\n",
       "      <td>{'answer_start': [2350], 'text': ['காசுமீரில்']}</td>\n",
       "      <td>0</td>\n",
       "    </tr>\n",
       "    <tr>\n",
       "      <th>2</th>\n",
       "      <td>29d154b56</td>\n",
       "      <td>சர் அலெக்ஸாண்டர் ஃபிளெமிங் (Sir Alexander Flem...</td>\n",
       "      <td>பென்சிலின் கண்டுபிடித்தவர் யார்?</td>\n",
       "      <td>சர் அலெக்ஸாண்டர் ஃபிளெமிங்</td>\n",
       "      <td>0</td>\n",
       "      <td>tamil</td>\n",
       "      <td>26</td>\n",
       "      <td>{'answer_start': [0], 'text': ['சர் அலெக்ஸாண்ட...</td>\n",
       "      <td>0</td>\n",
       "    </tr>\n",
       "    <tr>\n",
       "      <th>3</th>\n",
       "      <td>41660850a</td>\n",
       "      <td>குழந்தையின் அழுகையை நிறுத்தவும், தூங்க வைக்கவு...</td>\n",
       "      <td>தமிழ்நாட்டில் குழந்தைகளை தூங்க வைக்க பாடும் பா...</td>\n",
       "      <td>தாலாட்டு</td>\n",
       "      <td>4965</td>\n",
       "      <td>tamil</td>\n",
       "      <td>8</td>\n",
       "      <td>{'answer_start': [4965], 'text': ['தாலாட்டு']}</td>\n",
       "      <td>0</td>\n",
       "    </tr>\n",
       "    <tr>\n",
       "      <th>4</th>\n",
       "      <td>b29c82c22</td>\n",
       "      <td>சூரியக் குடும்பம் சூரியக் குடும்பம் (Solar Sys...</td>\n",
       "      <td>பூமியின் அருகில் உள்ள விண்மீன் எது?</td>\n",
       "      <td>சூரியனும்</td>\n",
       "      <td>582</td>\n",
       "      <td>tamil</td>\n",
       "      <td>9</td>\n",
       "      <td>{'answer_start': [582], 'text': ['சூரியனும்']}</td>\n",
       "      <td>0</td>\n",
       "    </tr>\n",
       "  </tbody>\n",
       "</table>\n",
       "</div>"
      ],
      "text/plain": [
       "          id                                            context  \\\n",
       "0  903deec17  ஒரு சாதாரண வளர்ந்த மனிதனுடைய எலும்புக்கூடு பின...   \n",
       "1  d9841668c  காளிதாசன் (தேவநாகரி: कालिदास) சமஸ்கிருத இலக்கி...   \n",
       "2  29d154b56  சர் அலெக்ஸாண்டர் ஃபிளெமிங் (Sir Alexander Flem...   \n",
       "3  41660850a  குழந்தையின் அழுகையை நிறுத்தவும், தூங்க வைக்கவு...   \n",
       "4  b29c82c22  சூரியக் குடும்பம் சூரியக் குடும்பம் (Solar Sys...   \n",
       "\n",
       "                                            question  \\\n",
       "0               மனித உடலில் எத்தனை எலும்புகள் உள்ளன?   \n",
       "1                         காளிதாசன் எங்கு பிறந்தார்?   \n",
       "2                   பென்சிலின் கண்டுபிடித்தவர் யார்?   \n",
       "3  தமிழ்நாட்டில் குழந்தைகளை தூங்க வைக்க பாடும் பா...   \n",
       "4                பூமியின் அருகில் உள்ள விண்மீன் எது?   \n",
       "\n",
       "                  answer_text  answer_start language  lengths  \\\n",
       "0                         206            53    tamil        3   \n",
       "1                  காசுமீரில்          2350    tamil       10   \n",
       "2  சர் அலெக்ஸாண்டர் ஃபிளெமிங்             0    tamil       26   \n",
       "3                    தாலாட்டு          4965    tamil        8   \n",
       "4                   சூரியனும்           582    tamil        9   \n",
       "\n",
       "                                             answers  kfold  \n",
       "0            {'answer_start': [53], 'text': ['206']}      0  \n",
       "1   {'answer_start': [2350], 'text': ['காசுமீரில்']}      0  \n",
       "2  {'answer_start': [0], 'text': ['சர் அலெக்ஸாண்ட...      0  \n",
       "3     {'answer_start': [4965], 'text': ['தாலாட்டு']}      0  \n",
       "4     {'answer_start': [582], 'text': ['சூரியனும்']}      0  "
      ]
     },
     "execution_count": 24,
     "metadata": {},
     "output_type": "execute_result"
    }
   ],
   "source": [
    "cleaned_chaii.head()"
   ]
  },
  {
   "cell_type": "code",
   "execution_count": 22,
   "id": "27075e1a-355a-451a-8a16-686d1580c5de",
   "metadata": {},
   "outputs": [],
   "source": [
    "from sklearn.model_selection import KFold"
   ]
  },
  {
   "cell_type": "code",
   "execution_count": 23,
   "id": "8de074d4-ed70-4766-8f67-1268c5e1d1a1",
   "metadata": {},
   "outputs": [],
   "source": [
    "folds = KFold(n_splits=4)\n",
    "cleaned_chaii['kfold'] = -1\n",
    "# cleaned_chaii = cleaned_chaii.reset_index(drop=True)\n",
    "\n",
    "for f, (t_, v_) in enumerate(folds.split(X=cleaned_chaii)):\n",
    "        cleaned_chaii.loc[v_, 'kfold'] = f"
   ]
  },
  {
   "cell_type": "code",
   "execution_count": 15,
   "id": "80107e4d-96b8-4a7f-8722-338b7494c5ac",
   "metadata": {},
   "outputs": [],
   "source": [
    "tamil_cleaned['language'] ='tamil'"
   ]
  },
  {
   "cell_type": "code",
   "execution_count": 16,
   "id": "26940a91-b907-4150-9161-d938ef128aef",
   "metadata": {},
   "outputs": [],
   "source": [
    "mlqa_data['id'] = [i for i in range(len(cleaned_chaii),(len(cleaned_chaii)+len(mlqa_data)))]\n",
    "tamil_cleaned['id'] = [i for i in range((len(cleaned_chaii)+len(mlqa_data)),(len(cleaned_chaii)+len(mlqa_data)+len(tamil_cleaned)))]\n",
    "xquad_cleaned['id'] = [i for i in range((len(cleaned_chaii)+len(mlqa_data)+len(tamil_cleaned)),(len(cleaned_chaii)+len(mlqa_data)+len(tamil_cleaned)+len(xquad_cleaned)))]\n",
    "\n"
   ]
  },
  {
   "cell_type": "code",
   "execution_count": 20,
   "id": "ad108089-2a0a-46f2-bf41-4361d51d8c96",
   "metadata": {},
   "outputs": [
    {
     "data": {
      "text/html": [
       "<div>\n",
       "<style scoped>\n",
       "    .dataframe tbody tr th:only-of-type {\n",
       "        vertical-align: middle;\n",
       "    }\n",
       "\n",
       "    .dataframe tbody tr th {\n",
       "        vertical-align: top;\n",
       "    }\n",
       "\n",
       "    .dataframe thead th {\n",
       "        text-align: right;\n",
       "    }\n",
       "</style>\n",
       "<table border=\"1\" class=\"dataframe\">\n",
       "  <thead>\n",
       "    <tr style=\"text-align: right;\">\n",
       "      <th></th>\n",
       "      <th>context</th>\n",
       "      <th>question</th>\n",
       "      <th>answer_text</th>\n",
       "      <th>answer_start</th>\n",
       "      <th>language</th>\n",
       "      <th>lengths</th>\n",
       "      <th>answers</th>\n",
       "      <th>kfold</th>\n",
       "      <th>id</th>\n",
       "    </tr>\n",
       "  </thead>\n",
       "  <tbody>\n",
       "    <tr>\n",
       "      <th>0</th>\n",
       "      <td>पैरेनकाइमा कोशिकाएं वे जीवित कोशिकाएं हैं जो स...</td>\n",
       "      <td>एक प्रकार की रस्सी का नाम बताईए जो सेलेरी के क...</td>\n",
       "      <td>कोलेन्काइमा</td>\n",
       "      <td>1564</td>\n",
       "      <td>hindi</td>\n",
       "      <td>11</td>\n",
       "      <td>{'answer_start': [1564], 'text': ['कोलेन्काइमा']}</td>\n",
       "      <td>-1</td>\n",
       "      <td>1070</td>\n",
       "    </tr>\n",
       "    <tr>\n",
       "      <th>1</th>\n",
       "      <td>पैरेनकाइमा कोशिकाएं वे जीवित कोशिकाएं हैं जो स...</td>\n",
       "      <td>क्या चीज पूरी तरह से पैरेनकाइमा कोशिकाओं से बन...</td>\n",
       "      <td>पत्तियां</td>\n",
       "      <td>158</td>\n",
       "      <td>hindi</td>\n",
       "      <td>8</td>\n",
       "      <td>{'answer_start': [158], 'text': ['पत्तियां']}</td>\n",
       "      <td>-1</td>\n",
       "      <td>1071</td>\n",
       "    </tr>\n",
       "    <tr>\n",
       "      <th>2</th>\n",
       "      <td>जाइलेम कोशिकाएं कोशिका भित्तियों की लिग्निकृत ...</td>\n",
       "      <td>जाइलेम किस प्रकार के पौधों में पाया जाता है?</td>\n",
       "      <td>ट्रेकियोफाइटों</td>\n",
       "      <td>292</td>\n",
       "      <td>hindi</td>\n",
       "      <td>14</td>\n",
       "      <td>{'answer_start': [292], 'text': ['ट्रेकियोफाइट...</td>\n",
       "      <td>-1</td>\n",
       "      <td>1072</td>\n",
       "    </tr>\n",
       "    <tr>\n",
       "      <th>3</th>\n",
       "      <td>सभी हवाई अवयवों की बाह्यत्वचा, जड़ों को छोड़कर...</td>\n",
       "      <td>बाह्यत्वचा की कोशिकाएं क्या कर सकती हैं?</td>\n",
       "      <td>क्यटिन का संश्लेषण</td>\n",
       "      <td>433</td>\n",
       "      <td>hindi</td>\n",
       "      <td>18</td>\n",
       "      <td>{'answer_start': [433], 'text': ['क्यटिन का सं...</td>\n",
       "      <td>-1</td>\n",
       "      <td>1073</td>\n",
       "    </tr>\n",
       "    <tr>\n",
       "      <th>4</th>\n",
       "      <td>इनका जन्म बोस्टन, मैसाचूसिट्स में हुआ था। ये छ...</td>\n",
       "      <td>पो किस स्कूल में गए?</td>\n",
       "      <td>वर्जीनिया विश्वविद्यालय</td>\n",
       "      <td>283</td>\n",
       "      <td>hindi</td>\n",
       "      <td>23</td>\n",
       "      <td>{'answer_start': [283], 'text': ['वर्जीनिया वि...</td>\n",
       "      <td>-1</td>\n",
       "      <td>1074</td>\n",
       "    </tr>\n",
       "  </tbody>\n",
       "</table>\n",
       "</div>"
      ],
      "text/plain": [
       "                                             context  \\\n",
       "0  पैरेनकाइमा कोशिकाएं वे जीवित कोशिकाएं हैं जो स...   \n",
       "1  पैरेनकाइमा कोशिकाएं वे जीवित कोशिकाएं हैं जो स...   \n",
       "2  जाइलेम कोशिकाएं कोशिका भित्तियों की लिग्निकृत ...   \n",
       "3  सभी हवाई अवयवों की बाह्यत्वचा, जड़ों को छोड़कर...   \n",
       "4  इनका जन्म बोस्टन, मैसाचूसिट्स में हुआ था। ये छ...   \n",
       "\n",
       "                                            question              answer_text  \\\n",
       "0  एक प्रकार की रस्सी का नाम बताईए जो सेलेरी के क...              कोलेन्काइमा   \n",
       "1  क्या चीज पूरी तरह से पैरेनकाइमा कोशिकाओं से बन...                 पत्तियां   \n",
       "2       जाइलेम किस प्रकार के पौधों में पाया जाता है?           ट्रेकियोफाइटों   \n",
       "3           बाह्यत्वचा की कोशिकाएं क्या कर सकती हैं?       क्यटिन का संश्लेषण   \n",
       "4                               पो किस स्कूल में गए?  वर्जीनिया विश्वविद्यालय   \n",
       "\n",
       "   answer_start language  lengths  \\\n",
       "0          1564    hindi       11   \n",
       "1           158    hindi        8   \n",
       "2           292    hindi       14   \n",
       "3           433    hindi       18   \n",
       "4           283    hindi       23   \n",
       "\n",
       "                                             answers  kfold    id  \n",
       "0  {'answer_start': [1564], 'text': ['कोलेन्काइमा']}     -1  1070  \n",
       "1      {'answer_start': [158], 'text': ['पत्तियां']}     -1  1071  \n",
       "2  {'answer_start': [292], 'text': ['ट्रेकियोफाइट...     -1  1072  \n",
       "3  {'answer_start': [433], 'text': ['क्यटिन का सं...     -1  1073  \n",
       "4  {'answer_start': [283], 'text': ['वर्जीनिया वि...     -1  1074  "
      ]
     },
     "execution_count": 20,
     "metadata": {},
     "output_type": "execute_result"
    }
   ],
   "source": [
    "mlqa_data.head()"
   ]
  },
  {
   "cell_type": "code",
   "execution_count": null,
   "id": "ce1f47b5-12db-4bf6-8131-30f36a3c6ba4",
   "metadata": {},
   "outputs": [],
   "source": [
    "mlqa.head()"
   ]
  },
  {
   "cell_type": "code",
   "execution_count": 27,
   "id": "16e5878f-2133-4691-91ae-9f6630a0c0cf",
   "metadata": {},
   "outputs": [],
   "source": [
    "cols = ['id', 'context', 'question', 'answer_text', 'answer_start', 'language','kfold', 'answers']"
   ]
  },
  {
   "cell_type": "code",
   "execution_count": 28,
   "id": "15414651-ee37-4265-8aa5-0d5d158ddb2e",
   "metadata": {},
   "outputs": [],
   "source": [
    "mlqa_data  = mlqa_data[cols]\n",
    "tamil_cleaned = tamil_cleaned[cols]\n",
    "xquad_cleaned = xquad_cleaned[cols]"
   ]
  },
  {
   "cell_type": "code",
   "execution_count": 29,
   "id": "011945b9-60d3-4e4c-993c-20e32d7a122e",
   "metadata": {},
   "outputs": [],
   "source": [
    "cleaned_chaii = cleaned_chaii[cols]"
   ]
  },
  {
   "cell_type": "code",
   "execution_count": 37,
   "id": "93129360-3333-4fae-848a-63896ba0046b",
   "metadata": {},
   "outputs": [],
   "source": [
    "master_data = pd.concat([cleaned_chaii,mlqa_data,tamil_cleaned,xquad_cleaned]).reset_index(drop=True)"
   ]
  },
  {
   "cell_type": "code",
   "execution_count": 38,
   "id": "24b94f31-9113-4a8b-862f-edd537b9c1fc",
   "metadata": {},
   "outputs": [
    {
     "data": {
      "text/html": [
       "<div>\n",
       "<style scoped>\n",
       "    .dataframe tbody tr th:only-of-type {\n",
       "        vertical-align: middle;\n",
       "    }\n",
       "\n",
       "    .dataframe tbody tr th {\n",
       "        vertical-align: top;\n",
       "    }\n",
       "\n",
       "    .dataframe thead th {\n",
       "        text-align: right;\n",
       "    }\n",
       "</style>\n",
       "<table border=\"1\" class=\"dataframe\">\n",
       "  <thead>\n",
       "    <tr style=\"text-align: right;\">\n",
       "      <th></th>\n",
       "      <th>id</th>\n",
       "      <th>context</th>\n",
       "      <th>question</th>\n",
       "      <th>answer_text</th>\n",
       "      <th>answer_start</th>\n",
       "      <th>language</th>\n",
       "      <th>kfold</th>\n",
       "      <th>answers</th>\n",
       "    </tr>\n",
       "  </thead>\n",
       "  <tbody>\n",
       "    <tr>\n",
       "      <th>23</th>\n",
       "      <td>af0f1f714</td>\n",
       "      <td>Coordinates: வால்ட் டிஸ்னி உலகம் (Walt Disney ...</td>\n",
       "      <td>டிஸ்னி வேர்ல்ட் எங்கு உள்ளது?</td>\n",
       "      <td>புளோரிடாவில்</td>\n",
       "      <td>211</td>\n",
       "      <td>tamil</td>\n",
       "      <td>0</td>\n",
       "      <td>{'answer_start': [211], 'text': ['புளோரிடாவில்']}</td>\n",
       "    </tr>\n",
       "  </tbody>\n",
       "</table>\n",
       "</div>"
      ],
      "text/plain": [
       "           id                                            context  \\\n",
       "23  af0f1f714  Coordinates: வால்ட் டிஸ்னி உலகம் (Walt Disney ...   \n",
       "\n",
       "                         question   answer_text  answer_start language  kfold  \\\n",
       "23  டிஸ்னி வேர்ல்ட் எங்கு உள்ளது?  புளோரிடாவில்           211    tamil      0   \n",
       "\n",
       "                                              answers  \n",
       "23  {'answer_start': [211], 'text': ['புளோரிடாவில்']}  "
      ]
     },
     "execution_count": 38,
     "metadata": {},
     "output_type": "execute_result"
    }
   ],
   "source": [
    "master_data.loc[master_data.index==23]"
   ]
  },
  {
   "cell_type": "code",
   "execution_count": 40,
   "id": "5ece41a3-ef24-4e50-88bf-77e9edd8575e",
   "metadata": {},
   "outputs": [
    {
     "data": {
      "text/html": [
       "<div>\n",
       "<style scoped>\n",
       "    .dataframe tbody tr th:only-of-type {\n",
       "        vertical-align: middle;\n",
       "    }\n",
       "\n",
       "    .dataframe tbody tr th {\n",
       "        vertical-align: top;\n",
       "    }\n",
       "\n",
       "    .dataframe thead th {\n",
       "        text-align: right;\n",
       "    }\n",
       "</style>\n",
       "<table border=\"1\" class=\"dataframe\">\n",
       "  <thead>\n",
       "    <tr style=\"text-align: right;\">\n",
       "      <th></th>\n",
       "      <th>id</th>\n",
       "      <th>context</th>\n",
       "      <th>question</th>\n",
       "      <th>answer_text</th>\n",
       "      <th>answer_start</th>\n",
       "      <th>language</th>\n",
       "      <th>kfold</th>\n",
       "      <th>answers</th>\n",
       "    </tr>\n",
       "  </thead>\n",
       "  <tbody>\n",
       "    <tr>\n",
       "      <th>9843</th>\n",
       "      <td>9843</td>\n",
       "      <td>विद्युत आवेश के परिवर्तन की समय दर के रूप में ...</td>\n",
       "      <td>इलेक्ट्रोस्टैटिक और चुंबकीय बल के योग के रूप क...</td>\n",
       "      <td>इलेक्ट्रोस्टैटिक बल</td>\n",
       "      <td>328</td>\n",
       "      <td>hindi</td>\n",
       "      <td>-3</td>\n",
       "      <td>{'answer_start': [328], 'text': ['इलेक्ट्रोस्ट...</td>\n",
       "    </tr>\n",
       "    <tr>\n",
       "      <th>9844</th>\n",
       "      <td>9844</td>\n",
       "      <td>उस आयतन के लिए प्रासंगिक क्रॉस-सेक्शनल क्षेत्र...</td>\n",
       "      <td>संरचनाओं में तनाव का कारण क्या बनता है?</td>\n",
       "      <td>तनाव टेंसर</td>\n",
       "      <td>343</td>\n",
       "      <td>hindi</td>\n",
       "      <td>-3</td>\n",
       "      <td>{'answer_start': [343], 'text': ['तनाव टेंसर']}</td>\n",
       "    </tr>\n",
       "    <tr>\n",
       "      <th>9845</th>\n",
       "      <td>9845</td>\n",
       "      <td>उस आयतन के लिए प्रासंगिक क्रॉस-सेक्शनल क्षेत्र...</td>\n",
       "      <td>किसी वस्तु के आयतन में क्रॉस सेक्शन क्षेत्र की...</td>\n",
       "      <td>दबाव की शर्तें</td>\n",
       "      <td>118</td>\n",
       "      <td>hindi</td>\n",
       "      <td>-3</td>\n",
       "      <td>{'answer_start': [118], 'text': ['दबाव की शर्त...</td>\n",
       "    </tr>\n",
       "    <tr>\n",
       "      <th>9846</th>\n",
       "      <td>9846</td>\n",
       "      <td>उस आयतन के लिए प्रासंगिक क्रॉस-सेक्शनल क्षेत्र...</td>\n",
       "      <td>सामान्य ताकतों से क्या जुड़ा है?</td>\n",
       "      <td>दबाव की शर्तें</td>\n",
       "      <td>118</td>\n",
       "      <td>hindi</td>\n",
       "      <td>-3</td>\n",
       "      <td>{'answer_start': [118], 'text': ['दबाव की शर्त...</td>\n",
       "    </tr>\n",
       "    <tr>\n",
       "      <th>9847</th>\n",
       "      <td>9847</td>\n",
       "      <td>उस आयतन के लिए प्रासंगिक क्रॉस-सेक्शनल क्षेत्र...</td>\n",
       "      <td>आयतन में क्षेत्र की गणना करते समय दबाव की क्या...</td>\n",
       "      <td>नियम-निष्ठता</td>\n",
       "      <td>101</td>\n",
       "      <td>hindi</td>\n",
       "      <td>-3</td>\n",
       "      <td>{'answer_start': [101], 'text': ['नियम-निष्ठता']}</td>\n",
       "    </tr>\n",
       "  </tbody>\n",
       "</table>\n",
       "</div>"
      ],
      "text/plain": [
       "        id                                            context  \\\n",
       "9843  9843  विद्युत आवेश के परिवर्तन की समय दर के रूप में ...   \n",
       "9844  9844  उस आयतन के लिए प्रासंगिक क्रॉस-सेक्शनल क्षेत्र...   \n",
       "9845  9845  उस आयतन के लिए प्रासंगिक क्रॉस-सेक्शनल क्षेत्र...   \n",
       "9846  9846  उस आयतन के लिए प्रासंगिक क्रॉस-सेक्शनल क्षेत्र...   \n",
       "9847  9847  उस आयतन के लिए प्रासंगिक क्रॉस-सेक्शनल क्षेत्र...   \n",
       "\n",
       "                                               question          answer_text  \\\n",
       "9843  इलेक्ट्रोस्टैटिक और चुंबकीय बल के योग के रूप क...  इलेक्ट्रोस्टैटिक बल   \n",
       "9844            संरचनाओं में तनाव का कारण क्या बनता है?           तनाव टेंसर   \n",
       "9845  किसी वस्तु के आयतन में क्रॉस सेक्शन क्षेत्र की...       दबाव की शर्तें   \n",
       "9846                    सामान्य ताकतों से क्या जुड़ा है?       दबाव की शर्तें   \n",
       "9847  आयतन में क्षेत्र की गणना करते समय दबाव की क्या...         नियम-निष्ठता   \n",
       "\n",
       "      answer_start language  kfold  \\\n",
       "9843           328    hindi     -3   \n",
       "9844           343    hindi     -3   \n",
       "9845           118    hindi     -3   \n",
       "9846           118    hindi     -3   \n",
       "9847           101    hindi     -3   \n",
       "\n",
       "                                                answers  \n",
       "9843  {'answer_start': [328], 'text': ['इलेक्ट्रोस्ट...  \n",
       "9844    {'answer_start': [343], 'text': ['तनाव टेंसर']}  \n",
       "9845  {'answer_start': [118], 'text': ['दबाव की शर्त...  \n",
       "9846  {'answer_start': [118], 'text': ['दबाव की शर्त...  \n",
       "9847  {'answer_start': [101], 'text': ['नियम-निष्ठता']}  "
      ]
     },
     "execution_count": 40,
     "metadata": {},
     "output_type": "execute_result"
    }
   ],
   "source": [
    "master_data.tail()"
   ]
  },
  {
   "cell_type": "code",
   "execution_count": 41,
   "id": "bb35fd02-7c03-40b7-bbd4-45e13aad16f8",
   "metadata": {},
   "outputs": [],
   "source": [
    "master_data.to_csv('input/master_data.csv',index=False)"
   ]
  },
  {
   "cell_type": "code",
   "execution_count": 44,
   "id": "535fede8-937f-451f-a0f8-7007d1e29d96",
   "metadata": {},
   "outputs": [
    {
     "name": "stdout",
     "output_type": "stream",
     "text": [
      "-1\n",
      "0\n",
      "1\n",
      "2\n",
      "3\n"
     ]
    }
   ],
   "source": [
    "for fold in range(-1,4):\n",
    "    print(fold)"
   ]
  },
  {
   "cell_type": "code",
   "execution_count": 43,
   "id": "3a43f65d-2794-423f-92bf-ec12cb7606f8",
   "metadata": {},
   "outputs": [
    {
     "data": {
      "text/plain": [
       "-1    4454\n",
       "-2    3307\n",
       "-3    1017\n",
       " 0     268\n",
       " 1     268\n",
       " 2     267\n",
       " 3     267\n",
       "Name: kfold, dtype: int64"
      ]
     },
     "execution_count": 43,
     "metadata": {},
     "output_type": "execute_result"
    }
   ],
   "source": [
    "master_data.kfold.value_counts()"
   ]
  },
  {
   "cell_type": "code",
   "execution_count": 46,
   "id": "5028c01f-e61d-461c-b678-6812a84e568b",
   "metadata": {},
   "outputs": [
    {
     "name": "stdout",
     "output_type": "stream",
     "text": [
      "-3\n",
      "-2\n"
     ]
    }
   ],
   "source": [
    "for fold in range(-3,-1):\n",
    "    print(fold)"
   ]
  },
  {
   "cell_type": "code",
   "execution_count": null,
   "id": "abed0c56-34e7-44f5-885a-849e8618960e",
   "metadata": {},
   "outputs": [],
   "source": []
  }
 ],
 "metadata": {
  "kernelspec": {
   "display_name": "Python 3 (ipykernel)",
   "language": "python",
   "name": "python3"
  },
  "language_info": {
   "codemirror_mode": {
    "name": "ipython",
    "version": 3
   },
   "file_extension": ".py",
   "mimetype": "text/x-python",
   "name": "python",
   "nbconvert_exporter": "python",
   "pygments_lexer": "ipython3",
   "version": "3.8.5"
  }
 },
 "nbformat": 4,
 "nbformat_minor": 5
}
